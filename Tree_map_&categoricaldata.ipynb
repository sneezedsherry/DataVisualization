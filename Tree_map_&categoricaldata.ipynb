{
  "nbformat": 4,
  "nbformat_minor": 0,
  "metadata": {
    "colab": {
      "name": "Tree-map &categoricaldata",
      "version": "0.3.2",
      "provenance": [],
      "collapsed_sections": [],
      "include_colab_link": true
    },
    "kernelspec": {
      "name": "python3",
      "display_name": "Python 3"
    }
  },
  "cells": [
    {
      "cell_type": "markdown",
      "metadata": {
        "id": "view-in-github",
        "colab_type": "text"
      },
      "source": [
        "<a href=\"https://colab.research.google.com/github/sneezedsherry/DataVisualization/blob/master/Tree_map_%26categoricaldata.ipynb\" target=\"_parent\"><img src=\"https://colab.research.google.com/assets/colab-badge.svg\" alt=\"Open In Colab\"/></a>"
      ]
    },
    {
      "cell_type": "code",
      "metadata": {
        "id": "6pT4P2maCtQQ",
        "colab_type": "code",
        "colab": {}
      },
      "source": [
        "#1 Code to read csv file into colaboratory:\n",
        "!pip install -U -q PyDrive\n",
        "from pydrive.auth import GoogleAuth\n",
        "from pydrive.drive import GoogleDrive\n",
        "from google.colab import auth\n",
        "from oauth2client.client import GoogleCredentials\n",
        "\n",
        "# 1. Authenticate and create the PyDrive client.\n",
        "auth.authenticate_user()\n",
        "gauth = GoogleAuth()\n",
        "gauth.credentials = GoogleCredentials.get_application_default()\n",
        "drive = GoogleDrive(gauth)"
      ],
      "execution_count": 0,
      "outputs": []
    },
    {
      "cell_type": "code",
      "metadata": {
        "id": "-tONDKieC7_I",
        "colab_type": "code",
        "outputId": "1ae30c9f-9dce-4cf9-b830-8177cfcee373",
        "colab": {
          "base_uri": "https://localhost:8080/",
          "height": 241
        }
      },
      "source": [
        "#When I tried to use catplot, I found that my seaborn didn't have this kind of plot, so I have to update it and restart the colab. \n",
        "!pip install seaborn==0.9.0\n",
        "import pandas as pd\n",
        "import numpy as np\n",
        "import matplotlib.pyplot as plt\n",
        "import seaborn as sns\n",
        "\n",
        "#When I searched for python treemap, squarify came to me which seems work.\n",
        "!pip install -q squarify\n",
        "import squarify\n",
        "#import matplotlib.colors as colors"
      ],
      "execution_count": 0,
      "outputs": [
        {
          "output_type": "stream",
          "text": [
            "Requirement already satisfied: seaborn==0.9.0 in /usr/local/lib/python3.6/dist-packages (0.9.0)\n",
            "Requirement already satisfied: pandas>=0.15.2 in /usr/local/lib/python3.6/dist-packages (from seaborn==0.9.0) (0.22.0)\n",
            "Requirement already satisfied: numpy>=1.9.3 in /usr/local/lib/python3.6/dist-packages (from seaborn==0.9.0) (1.14.6)\n",
            "Requirement already satisfied: scipy>=0.14.0 in /usr/local/lib/python3.6/dist-packages (from seaborn==0.9.0) (1.1.0)\n",
            "Requirement already satisfied: matplotlib>=1.4.3 in /usr/local/lib/python3.6/dist-packages (from seaborn==0.9.0) (3.0.3)\n",
            "Requirement already satisfied: python-dateutil>=2 in /usr/local/lib/python3.6/dist-packages (from pandas>=0.15.2->seaborn==0.9.0) (2.5.3)\n",
            "Requirement already satisfied: pytz>=2011k in /usr/local/lib/python3.6/dist-packages (from pandas>=0.15.2->seaborn==0.9.0) (2018.9)\n",
            "Requirement already satisfied: cycler>=0.10 in /usr/local/lib/python3.6/dist-packages (from matplotlib>=1.4.3->seaborn==0.9.0) (0.10.0)\n",
            "Requirement already satisfied: kiwisolver>=1.0.1 in /usr/local/lib/python3.6/dist-packages (from matplotlib>=1.4.3->seaborn==0.9.0) (1.0.1)\n",
            "Requirement already satisfied: pyparsing!=2.0.4,!=2.1.2,!=2.1.6,>=2.0.1 in /usr/local/lib/python3.6/dist-packages (from matplotlib>=1.4.3->seaborn==0.9.0) (2.3.1)\n",
            "Requirement already satisfied: six>=1.5 in /usr/local/lib/python3.6/dist-packages (from python-dateutil>=2->pandas>=0.15.2->seaborn==0.9.0) (1.11.0)\n",
            "Requirement already satisfied: setuptools in /usr/local/lib/python3.6/dist-packages (from kiwisolver>=1.0.1->matplotlib>=1.4.3->seaborn==0.9.0) (40.8.0)\n"
          ],
          "name": "stdout"
        }
      ]
    },
    {
      "cell_type": "code",
      "metadata": {
        "id": "YDKb5FqKC8E-",
        "colab_type": "code",
        "colab": {}
      },
      "source": [
        "downloaded = drive.CreateFile({'id':'1s04DN96LISkHZ97e2_1pLbRxglhKx_CZ'}) \n",
        "downloaded.GetContentFile('MusicSales2.csv') "
      ],
      "execution_count": 0,
      "outputs": []
    },
    {
      "cell_type": "code",
      "metadata": {
        "id": "eBFjlZ4kC8Hz",
        "colab_type": "code",
        "colab": {}
      },
      "source": [
        "df = pd.read_csv('MusicSales2.csv')"
      ],
      "execution_count": 0,
      "outputs": []
    },
    {
      "cell_type": "code",
      "metadata": {
        "id": "4UF4ztfPKHkE",
        "colab_type": "code",
        "outputId": "4c4bffb4-b568-4930-d2da-f7d84c6ce351",
        "colab": {
          "base_uri": "https://localhost:8080/",
          "height": 204
        }
      },
      "source": [
        "#pick up the data we need\n",
        "ms1 = df[(df.Region== 'Asia') | (df.Region == 'Europe')].loc[: , ['Country','Quantity','UnitPrice','Region']]\n",
        "ms1.head()"
      ],
      "execution_count": 0,
      "outputs": [
        {
          "output_type": "execute_result",
          "data": {
            "text/html": [
              "<div>\n",
              "<style scoped>\n",
              "    .dataframe tbody tr th:only-of-type {\n",
              "        vertical-align: middle;\n",
              "    }\n",
              "\n",
              "    .dataframe tbody tr th {\n",
              "        vertical-align: top;\n",
              "    }\n",
              "\n",
              "    .dataframe thead th {\n",
              "        text-align: right;\n",
              "    }\n",
              "</style>\n",
              "<table border=\"1\" class=\"dataframe\">\n",
              "  <thead>\n",
              "    <tr style=\"text-align: right;\">\n",
              "      <th></th>\n",
              "      <th>Country</th>\n",
              "      <th>Quantity</th>\n",
              "      <th>UnitPrice</th>\n",
              "      <th>Region</th>\n",
              "    </tr>\n",
              "  </thead>\n",
              "  <tbody>\n",
              "    <tr>\n",
              "      <th>0</th>\n",
              "      <td>Germany</td>\n",
              "      <td>4</td>\n",
              "      <td>0.99</td>\n",
              "      <td>Europe</td>\n",
              "    </tr>\n",
              "    <tr>\n",
              "      <th>1</th>\n",
              "      <td>Germany</td>\n",
              "      <td>4</td>\n",
              "      <td>0.99</td>\n",
              "      <td>Europe</td>\n",
              "    </tr>\n",
              "    <tr>\n",
              "      <th>2</th>\n",
              "      <td>Norway</td>\n",
              "      <td>1</td>\n",
              "      <td>0.99</td>\n",
              "      <td>Europe</td>\n",
              "    </tr>\n",
              "    <tr>\n",
              "      <th>3</th>\n",
              "      <td>Norway</td>\n",
              "      <td>2</td>\n",
              "      <td>0.99</td>\n",
              "      <td>Europe</td>\n",
              "    </tr>\n",
              "    <tr>\n",
              "      <th>4</th>\n",
              "      <td>Norway</td>\n",
              "      <td>2</td>\n",
              "      <td>0.99</td>\n",
              "      <td>Europe</td>\n",
              "    </tr>\n",
              "  </tbody>\n",
              "</table>\n",
              "</div>"
            ],
            "text/plain": [
              "   Country  Quantity  UnitPrice  Region\n",
              "0  Germany         4       0.99  Europe\n",
              "1  Germany         4       0.99  Europe\n",
              "2   Norway         1       0.99  Europe\n",
              "3   Norway         2       0.99  Europe\n",
              "4   Norway         2       0.99  Europe"
            ]
          },
          "metadata": {
            "tags": []
          },
          "execution_count": 5
        }
      ]
    },
    {
      "cell_type": "code",
      "metadata": {
        "id": "5H1_0xmUNyG8",
        "colab_type": "code",
        "outputId": "b1dabe3f-b7e5-48a9-f3e1-b12fe5c37ac4",
        "colab": {
          "base_uri": "https://localhost:8080/",
          "height": 204
        }
      },
      "source": [
        "ms1['Q*U'] = ms1.Quantity * ms1.UnitPrice\n",
        "ms1.head()"
      ],
      "execution_count": 0,
      "outputs": [
        {
          "output_type": "execute_result",
          "data": {
            "text/html": [
              "<div>\n",
              "<style scoped>\n",
              "    .dataframe tbody tr th:only-of-type {\n",
              "        vertical-align: middle;\n",
              "    }\n",
              "\n",
              "    .dataframe tbody tr th {\n",
              "        vertical-align: top;\n",
              "    }\n",
              "\n",
              "    .dataframe thead th {\n",
              "        text-align: right;\n",
              "    }\n",
              "</style>\n",
              "<table border=\"1\" class=\"dataframe\">\n",
              "  <thead>\n",
              "    <tr style=\"text-align: right;\">\n",
              "      <th></th>\n",
              "      <th>Country</th>\n",
              "      <th>Quantity</th>\n",
              "      <th>UnitPrice</th>\n",
              "      <th>Region</th>\n",
              "      <th>Q*U</th>\n",
              "    </tr>\n",
              "  </thead>\n",
              "  <tbody>\n",
              "    <tr>\n",
              "      <th>0</th>\n",
              "      <td>Germany</td>\n",
              "      <td>4</td>\n",
              "      <td>0.99</td>\n",
              "      <td>Europe</td>\n",
              "      <td>3.96</td>\n",
              "    </tr>\n",
              "    <tr>\n",
              "      <th>1</th>\n",
              "      <td>Germany</td>\n",
              "      <td>4</td>\n",
              "      <td>0.99</td>\n",
              "      <td>Europe</td>\n",
              "      <td>3.96</td>\n",
              "    </tr>\n",
              "    <tr>\n",
              "      <th>2</th>\n",
              "      <td>Norway</td>\n",
              "      <td>1</td>\n",
              "      <td>0.99</td>\n",
              "      <td>Europe</td>\n",
              "      <td>0.99</td>\n",
              "    </tr>\n",
              "    <tr>\n",
              "      <th>3</th>\n",
              "      <td>Norway</td>\n",
              "      <td>2</td>\n",
              "      <td>0.99</td>\n",
              "      <td>Europe</td>\n",
              "      <td>1.98</td>\n",
              "    </tr>\n",
              "    <tr>\n",
              "      <th>4</th>\n",
              "      <td>Norway</td>\n",
              "      <td>2</td>\n",
              "      <td>0.99</td>\n",
              "      <td>Europe</td>\n",
              "      <td>1.98</td>\n",
              "    </tr>\n",
              "  </tbody>\n",
              "</table>\n",
              "</div>"
            ],
            "text/plain": [
              "   Country  Quantity  UnitPrice  Region   Q*U\n",
              "0  Germany         4       0.99  Europe  3.96\n",
              "1  Germany         4       0.99  Europe  3.96\n",
              "2   Norway         1       0.99  Europe  0.99\n",
              "3   Norway         2       0.99  Europe  1.98\n",
              "4   Norway         2       0.99  Europe  1.98"
            ]
          },
          "metadata": {
            "tags": []
          },
          "execution_count": 6
        }
      ]
    },
    {
      "cell_type": "code",
      "metadata": {
        "id": "AE38FuOuNyAD",
        "colab_type": "code",
        "outputId": "5eb4a8b5-6d59-4d3d-a1bf-aeab36bb3dd0",
        "colab": {
          "base_uri": "https://localhost:8080/",
          "height": 34
        }
      },
      "source": [
        "# I don't know how to calculate the percentage in one colum without first calculating the sum, so I just use this stupid way.\n",
        "total_sales = ms1['Q*U'].sum()\n",
        "total_sales"
      ],
      "execution_count": 0,
      "outputs": [
        {
          "output_type": "execute_result",
          "data": {
            "text/plain": [
              "3415.35"
            ]
          },
          "metadata": {
            "tags": []
          },
          "execution_count": 7
        }
      ]
    },
    {
      "cell_type": "code",
      "metadata": {
        "id": "rlTZ5gBzRycp",
        "colab_type": "code",
        "outputId": "376b0cf3-e90c-48db-a013-ec015cbf8373",
        "colab": {
          "base_uri": "https://localhost:8080/",
          "height": 204
        }
      },
      "source": [
        "ms2 = ms1.groupby(['Country','Region'], as_index = False).sum()\n",
        "ms2['Percent'] = ms2['Q*U']/total_sales\n",
        "ms2.sort_values(by=['Percent'], ascending=False, inplace=True)\n",
        "ms2.head()"
      ],
      "execution_count": 0,
      "outputs": [
        {
          "output_type": "execute_result",
          "data": {
            "text/html": [
              "<div>\n",
              "<style scoped>\n",
              "    .dataframe tbody tr th:only-of-type {\n",
              "        vertical-align: middle;\n",
              "    }\n",
              "\n",
              "    .dataframe tbody tr th {\n",
              "        vertical-align: top;\n",
              "    }\n",
              "\n",
              "    .dataframe thead th {\n",
              "        text-align: right;\n",
              "    }\n",
              "</style>\n",
              "<table border=\"1\" class=\"dataframe\">\n",
              "  <thead>\n",
              "    <tr style=\"text-align: right;\">\n",
              "      <th></th>\n",
              "      <th>Country</th>\n",
              "      <th>Region</th>\n",
              "      <th>Quantity</th>\n",
              "      <th>UnitPrice</th>\n",
              "      <th>Q*U</th>\n",
              "      <th>Percent</th>\n",
              "    </tr>\n",
              "  </thead>\n",
              "  <tbody>\n",
              "    <tr>\n",
              "      <th>5</th>\n",
              "      <td>France</td>\n",
              "      <td>Europe</td>\n",
              "      <td>550</td>\n",
              "      <td>193.12</td>\n",
              "      <td>562.50</td>\n",
              "      <td>0.164698</td>\n",
              "    </tr>\n",
              "    <tr>\n",
              "      <th>6</th>\n",
              "      <td>Germany</td>\n",
              "      <td>Europe</td>\n",
              "      <td>412</td>\n",
              "      <td>146.58</td>\n",
              "      <td>421.88</td>\n",
              "      <td>0.123525</td>\n",
              "    </tr>\n",
              "    <tr>\n",
              "      <th>17</th>\n",
              "      <td>United Kingdom</td>\n",
              "      <td>Europe</td>\n",
              "      <td>305</td>\n",
              "      <td>109.89</td>\n",
              "      <td>301.95</td>\n",
              "      <td>0.088410</td>\n",
              "    </tr>\n",
              "    <tr>\n",
              "      <th>2</th>\n",
              "      <td>Czech Republic</td>\n",
              "      <td>Europe</td>\n",
              "      <td>228</td>\n",
              "      <td>88.26</td>\n",
              "      <td>269.72</td>\n",
              "      <td>0.078973</td>\n",
              "    </tr>\n",
              "    <tr>\n",
              "      <th>8</th>\n",
              "      <td>India</td>\n",
              "      <td>Asia</td>\n",
              "      <td>209</td>\n",
              "      <td>71.30</td>\n",
              "      <td>210.91</td>\n",
              "      <td>0.061754</td>\n",
              "    </tr>\n",
              "  </tbody>\n",
              "</table>\n",
              "</div>"
            ],
            "text/plain": [
              "           Country  Region  Quantity  UnitPrice     Q*U   Percent\n",
              "5           France  Europe       550     193.12  562.50  0.164698\n",
              "6          Germany  Europe       412     146.58  421.88  0.123525\n",
              "17  United Kingdom  Europe       305     109.89  301.95  0.088410\n",
              "2   Czech Republic  Europe       228      88.26  269.72  0.078973\n",
              "8            India    Asia       209      71.30  210.91  0.061754"
            ]
          },
          "metadata": {
            "tags": []
          },
          "execution_count": 8
        }
      ]
    },
    {
      "cell_type": "code",
      "metadata": {
        "id": "m7Vt1AKlC8Qv",
        "colab_type": "code",
        "outputId": "a0eb8731-1fd4-4b1b-bf28-058271f22166",
        "colab": {
          "base_uri": "https://localhost:8080/",
          "height": 504
        }
      },
      "source": [
        "\n",
        "#labels = [\"%s\\n%d\" % (label) for label in zip(temp2.index, temp2.aisle_department, temp2.products_department)]\n",
        "\n",
        "#labels = ms2.Country\n",
        "f, ax = plt.subplots(figsize=(12, 8))\n",
        "\n",
        "#Label and color part are two of the most difficult part for me, and I searched on this website to get some hint\n",
        "# https://python-graph-gallery.com/202-treemap-with-colors-mapped-on-values/\n",
        " \n",
        "\n",
        "labels = [\"%s\\n%.1f%%\" % (label) for label in zip(ms2.Country, ms2.Percent * 100 )]\n",
        "cmap = plt.cm.Blues\n",
        "mini=min(ms2.Percent)\n",
        "maxi=max(ms2.Percent)\n",
        "norm = plt.Normalize(vmin=mini, vmax=maxi)\n",
        "colors = [cmap(norm(p)) for p in ms2.Percent]\n",
        "ax = squarify.plot(sizes=ms2.Percent, label = labels , alpha = 1, color=colors)\n",
        "ax.axis('off')\n"
      ],
      "execution_count": 0,
      "outputs": [
        {
          "output_type": "execute_result",
          "data": {
            "text/plain": [
              "(0.0, 100.0, 0.0, 100.0)"
            ]
          },
          "metadata": {
            "tags": []
          },
          "execution_count": 33
        },
        {
          "output_type": "display_data",
          "data": {
            "image/png": "[encoded data removed]",
            "text/plain": [
              "<Figure size 864x576 with 1 Axes>"
            ]
          },
          "metadata": {
            "tags": []
          }
        }
      ]
    },
    {
      "cell_type": "markdown",
      "metadata": {
        "id": "1uMM4yn5FLyc",
        "colab_type": "text"
      },
      "source": [
        "##My Question is: \n",
        "##What are the top3 popular genres in each of the regions?"
      ]
    },
    {
      "cell_type": "code",
      "metadata": {
        "id": "L-P2DzyCKWN2",
        "colab_type": "code",
        "outputId": "2d2e8f34-7e28-4d76-c601-13b9eea0fc44",
        "colab": {
          "base_uri": "https://localhost:8080/",
          "height": 514
        }
      },
      "source": [
        "ms3 = df.groupby(['Region','Genre'], as_index = False).sum().sort_values(by=['Region','Quantity'], ascending=False).groupby('Region').head(3)\n",
        "ms3"
      ],
      "execution_count": 0,
      "outputs": [
        {
          "output_type": "execute_result",
          "data": {
            "text/html": [
              "<div>\n",
              "<style scoped>\n",
              "    .dataframe tbody tr th:only-of-type {\n",
              "        vertical-align: middle;\n",
              "    }\n",
              "\n",
              "    .dataframe tbody tr th {\n",
              "        vertical-align: top;\n",
              "    }\n",
              "\n",
              "    .dataframe thead th {\n",
              "        text-align: right;\n",
              "    }\n",
              "</style>\n",
              "<table border=\"1\" class=\"dataframe\">\n",
              "  <thead>\n",
              "    <tr style=\"text-align: right;\">\n",
              "      <th></th>\n",
              "      <th>Region</th>\n",
              "      <th>Genre</th>\n",
              "      <th>Sales</th>\n",
              "      <th>CustomerID</th>\n",
              "      <th>InvoiceID</th>\n",
              "      <th>Milliseconds</th>\n",
              "      <th>Number of Records</th>\n",
              "      <th>Quantity</th>\n",
              "      <th>UnitPrice</th>\n",
              "    </tr>\n",
              "  </thead>\n",
              "  <tbody>\n",
              "    <tr>\n",
              "      <th>75</th>\n",
              "      <td>South America</td>\n",
              "      <td>Rock</td>\n",
              "      <td>280.17</td>\n",
              "      <td>1738</td>\n",
              "      <td>19482</td>\n",
              "      <td>25323722</td>\n",
              "      <td>96</td>\n",
              "      <td>283</td>\n",
              "      <td>95.04</td>\n",
              "    </tr>\n",
              "    <tr>\n",
              "      <th>70</th>\n",
              "      <td>South America</td>\n",
              "      <td>Latin</td>\n",
              "      <td>175.23</td>\n",
              "      <td>1368</td>\n",
              "      <td>16344</td>\n",
              "      <td>14732848</td>\n",
              "      <td>66</td>\n",
              "      <td>177</td>\n",
              "      <td>65.34</td>\n",
              "    </tr>\n",
              "    <tr>\n",
              "      <th>71</th>\n",
              "      <td>South America</td>\n",
              "      <td>Metal</td>\n",
              "      <td>73.26</td>\n",
              "      <td>665</td>\n",
              "      <td>4206</td>\n",
              "      <td>7102054</td>\n",
              "      <td>24</td>\n",
              "      <td>74</td>\n",
              "      <td>23.76</td>\n",
              "    </tr>\n",
              "    <tr>\n",
              "      <th>62</th>\n",
              "      <td>Oceania</td>\n",
              "      <td>Rock</td>\n",
              "      <td>44.55</td>\n",
              "      <td>990</td>\n",
              "      <td>2919</td>\n",
              "      <td>5449501</td>\n",
              "      <td>18</td>\n",
              "      <td>45</td>\n",
              "      <td>17.82</td>\n",
              "    </tr>\n",
              "    <tr>\n",
              "      <th>60</th>\n",
              "      <td>Oceania</td>\n",
              "      <td>Metal</td>\n",
              "      <td>15.84</td>\n",
              "      <td>385</td>\n",
              "      <td>1198</td>\n",
              "      <td>2234589</td>\n",
              "      <td>7</td>\n",
              "      <td>16</td>\n",
              "      <td>6.93</td>\n",
              "    </tr>\n",
              "    <tr>\n",
              "      <th>59</th>\n",
              "      <td>Oceania</td>\n",
              "      <td>Latin</td>\n",
              "      <td>4.95</td>\n",
              "      <td>110</td>\n",
              "      <td>478</td>\n",
              "      <td>492956</td>\n",
              "      <td>2</td>\n",
              "      <td>5</td>\n",
              "      <td>1.98</td>\n",
              "    </tr>\n",
              "    <tr>\n",
              "      <th>51</th>\n",
              "      <td>North  America</td>\n",
              "      <td>Rock</td>\n",
              "      <td>742.50</td>\n",
              "      <td>5956</td>\n",
              "      <td>52924</td>\n",
              "      <td>72199022</td>\n",
              "      <td>251</td>\n",
              "      <td>750</td>\n",
              "      <td>248.49</td>\n",
              "    </tr>\n",
              "    <tr>\n",
              "      <th>46</th>\n",
              "      <td>North  America</td>\n",
              "      <td>Latin</td>\n",
              "      <td>441.54</td>\n",
              "      <td>3336</td>\n",
              "      <td>27212</td>\n",
              "      <td>34164304</td>\n",
              "      <td>143</td>\n",
              "      <td>446</td>\n",
              "      <td>141.57</td>\n",
              "    </tr>\n",
              "    <tr>\n",
              "      <th>47</th>\n",
              "      <td>North  America</td>\n",
              "      <td>Metal</td>\n",
              "      <td>296.01</td>\n",
              "      <td>2183</td>\n",
              "      <td>22577</td>\n",
              "      <td>32213293</td>\n",
              "      <td>103</td>\n",
              "      <td>299</td>\n",
              "      <td>101.97</td>\n",
              "    </tr>\n",
              "    <tr>\n",
              "      <th>27</th>\n",
              "      <td>Europe</td>\n",
              "      <td>Rock</td>\n",
              "      <td>1204.83</td>\n",
              "      <td>13708</td>\n",
              "      <td>85505</td>\n",
              "      <td>114192233</td>\n",
              "      <td>406</td>\n",
              "      <td>1217</td>\n",
              "      <td>401.94</td>\n",
              "    </tr>\n",
              "    <tr>\n",
              "      <th>22</th>\n",
              "      <td>Europe</td>\n",
              "      <td>Latin</td>\n",
              "      <td>442.53</td>\n",
              "      <td>5790</td>\n",
              "      <td>28489</td>\n",
              "      <td>34500632</td>\n",
              "      <td>149</td>\n",
              "      <td>447</td>\n",
              "      <td>147.51</td>\n",
              "    </tr>\n",
              "    <tr>\n",
              "      <th>11</th>\n",
              "      <td>Europe</td>\n",
              "      <td>Alternative &amp; Punk</td>\n",
              "      <td>362.34</td>\n",
              "      <td>4415</td>\n",
              "      <td>26795</td>\n",
              "      <td>29721254</td>\n",
              "      <td>124</td>\n",
              "      <td>366</td>\n",
              "      <td>122.76</td>\n",
              "    </tr>\n",
              "    <tr>\n",
              "      <th>7</th>\n",
              "      <td>Asia</td>\n",
              "      <td>Rock</td>\n",
              "      <td>66.33</td>\n",
              "      <td>1344</td>\n",
              "      <td>3054</td>\n",
              "      <td>6518037</td>\n",
              "      <td>23</td>\n",
              "      <td>67</td>\n",
              "      <td>22.77</td>\n",
              "    </tr>\n",
              "    <tr>\n",
              "      <th>0</th>\n",
              "      <td>Asia</td>\n",
              "      <td>Alternative &amp; Punk</td>\n",
              "      <td>34.65</td>\n",
              "      <td>646</td>\n",
              "      <td>2775</td>\n",
              "      <td>2522118</td>\n",
              "      <td>11</td>\n",
              "      <td>35</td>\n",
              "      <td>10.89</td>\n",
              "    </tr>\n",
              "    <tr>\n",
              "      <th>5</th>\n",
              "      <td>Asia</td>\n",
              "      <td>Metal</td>\n",
              "      <td>30.69</td>\n",
              "      <td>466</td>\n",
              "      <td>2596</td>\n",
              "      <td>3396358</td>\n",
              "      <td>8</td>\n",
              "      <td>31</td>\n",
              "      <td>7.92</td>\n",
              "    </tr>\n",
              "  </tbody>\n",
              "</table>\n",
              "</div>"
            ],
            "text/plain": [
              "            Region               Genre    Sales  CustomerID  InvoiceID  \\\n",
              "75   South America                Rock   280.17        1738      19482   \n",
              "70   South America               Latin   175.23        1368      16344   \n",
              "71   South America               Metal    73.26         665       4206   \n",
              "62         Oceania                Rock    44.55         990       2919   \n",
              "60         Oceania               Metal    15.84         385       1198   \n",
              "59         Oceania               Latin     4.95         110        478   \n",
              "51  North  America                Rock   742.50        5956      52924   \n",
              "46  North  America               Latin   441.54        3336      27212   \n",
              "47  North  America               Metal   296.01        2183      22577   \n",
              "27          Europe                Rock  1204.83       13708      85505   \n",
              "22          Europe               Latin   442.53        5790      28489   \n",
              "11          Europe  Alternative & Punk   362.34        4415      26795   \n",
              "7             Asia                Rock    66.33        1344       3054   \n",
              "0             Asia  Alternative & Punk    34.65         646       2775   \n",
              "5             Asia               Metal    30.69         466       2596   \n",
              "\n",
              "    Milliseconds  Number of Records  Quantity  UnitPrice  \n",
              "75      25323722                 96       283      95.04  \n",
              "70      14732848                 66       177      65.34  \n",
              "71       7102054                 24        74      23.76  \n",
              "62       5449501                 18        45      17.82  \n",
              "60       2234589                  7        16       6.93  \n",
              "59        492956                  2         5       1.98  \n",
              "51      72199022                251       750     248.49  \n",
              "46      34164304                143       446     141.57  \n",
              "47      32213293                103       299     101.97  \n",
              "27     114192233                406      1217     401.94  \n",
              "22      34500632                149       447     147.51  \n",
              "11      29721254                124       366     122.76  \n",
              "7        6518037                 23        67      22.77  \n",
              "0        2522118                 11        35      10.89  \n",
              "5        3396358                  8        31       7.92  "
            ]
          },
          "metadata": {
            "tags": []
          },
          "execution_count": 10
        }
      ]
    },
    {
      "cell_type": "code",
      "metadata": {
        "id": "xgAJx0b5BdyV",
        "colab_type": "code",
        "outputId": "886e3dae-4b49-46e7-a539-2a84a405f9cd",
        "colab": {
          "base_uri": "https://localhost:8080/",
          "height": 517
        }
      },
      "source": [
        "fig, ax = plt.subplots(figsize=(12,8))\n",
        "sns.barplot(x=\"Region\", y=\"Quantity\", hue=\"Genre\", data=ms3)"
      ],
      "execution_count": 0,
      "outputs": [
        {
          "output_type": "execute_result",
          "data": {
            "text/plain": [
              "<matplotlib.axes._subplots.AxesSubplot at 0x7f41c5f6a588>"
            ]
          },
          "metadata": {
            "tags": []
          },
          "execution_count": 36
        },
        {
          "output_type": "display_data",
          "data": {
            "image/png": "[encoded data removed]",
            "text/plain": [
              "<Figure size 864x576 with 1 Axes>"
            ]
          },
          "metadata": {
            "tags": []
          }
        }
      ]
    },
    {
      "cell_type": "code",
      "metadata": {
        "id": "FnRwGc_8ZHGT",
        "colab_type": "code",
        "outputId": "a73497be-5ef7-46d7-f318-02325fe494fd",
        "colab": {
          "base_uri": "https://localhost:8080/",
          "height": 458
        }
      },
      "source": [
        "sns.catplot(x=\"Region\", y=\"Quantity\", hue=\"Genre\", data=ms3, height=6, aspect=0.9)"
      ],
      "execution_count": 0,
      "outputs": [
        {
          "output_type": "execute_result",
          "data": {
            "text/plain": [
              "<seaborn.axisgrid.FacetGrid at 0x7f41c6086748>"
            ]
          },
          "metadata": {
            "tags": []
          },
          "execution_count": 41
        },
        {
          "output_type": "display_data",
          "data": {
            "image/png": "[encoded data removed]",
            "text/plain": [
              "<Figure size 518.55x432 with 1 Axes>"
            ]
          },
          "metadata": {
            "tags": []
          }
        }
      ]
    },
    {
      "cell_type": "markdown",
      "metadata": {
        "id": "ZjMB1OuwceHr",
        "colab_type": "text"
      },
      "source": [
        "From the plot we can figure out that rock is the most popular Genre in all regions, and Latin, Metal and Alternative & Punk are popular too."
      ]
    }
  ]
}