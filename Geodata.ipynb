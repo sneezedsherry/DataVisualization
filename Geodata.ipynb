{
 "cells": [
  {
   "cell_type": "markdown",
   "metadata": {},
   "source": [
    "# <center><font color=blue>Data 296</font><center>\n",
    "# <center><font color=blue>Class 2: Data Summaries in Python</font><center>"
   ]
  },
  {
   "cell_type": "markdown",
   "metadata": {},
   "source": [
    "## <font color=blue>2.0 Import Packages</font>"
   ]
  },
  {
   "cell_type": "markdown",
   "metadata": {},
   "source": [
    "The packages imported in the cell below are standard in Python, as are their abbreviations np, pd, plt, etc. I recommend always starting you notebook by importing these packages, despite the minor delay from importation. In Python, though, you may import packages as they are needed, and in fact we will do that in several subsequent examples.  \n",
    "  \n",
    "In these notes we don't discuss importing of Python packages since the procedure for various operating systems differs somewhat. "
   ]
  },
  {
   "cell_type": "code",
   "execution_count": 1,
   "metadata": {},
   "outputs": [],
   "source": [
    "import os\n",
    "import numpy as np\n",
    "import pandas as pd\n",
    "import matplotlib.pyplot as plt\n",
    "import seaborn as sns\n",
    "%matplotlib inline"
   ]
  },
  {
   "cell_type": "markdown",
   "metadata": {},
   "source": [
    "## <font color=blue>2.1 Univariate Data</font>"
   ]
  },
  {
   "cell_type": "markdown",
   "metadata": {},
   "source": [
    "Before proceeding to the more complicated summarization of data composed of several variables (_multivariate_ data, in _Python_ most commonly represented by _pandas_ __Dataframes__, we develop summaries for vectors of numbers and text. Only after the concepts for such data are understood do we proceed to multivariate data.  \n",
    "  \n",
    "Because methods for numerical and text data are quite different, we handle these cases separately."
   ]
  },
  {
   "cell_type": "markdown",
   "metadata": {},
   "source": [
    "### <font color=blue>2.1.1 Visual Summaries for Numerical Data</font>"
   ]
  },
  {
   "cell_type": "markdown",
   "metadata": {},
   "source": [
    "In the next Class 3 we will discuss the neurological constraints faced by human users of information systems. One of the main findings is that \"chunks\" of textual and auditory information takes up about the same space in short-term memory as visualizations. Is this the origin of a well-known saying, \"A picture is worth a thousand words\"? In the rest of this Class, we present various numeric and visual summaries without regard to their effectiveness as tools for data explorations and presentations. "
   ]
  },
  {
   "cell_type": "markdown",
   "metadata": {},
   "source": [
    "#### <font color=blue>2.1.1.1 Histograms and Boxplots</font>"
   ]
  },
  {
   "cell_type": "markdown",
   "metadata": {},
   "source": [
    "For visualizing sets of numbers or text, there are standard representations. For numerical data, we present histograms and boxplots summaries first."
   ]
  },
  {
   "cell_type": "markdown",
   "metadata": {},
   "source": [
    "We begin with a dataset that we'll use later in the course. Begin by reading the Michelson-Morley speed of light data and show the first five rows of the DataFrame."
   ]
  },
  {
   "cell_type": "code",
   "execution_count": 2,
   "metadata": {},
   "outputs": [
    {
     "data": {
      "text/html": [
       "<div>\n",
       "<style scoped>\n",
       "    .dataframe tbody tr th:only-of-type {\n",
       "        vertical-align: middle;\n",
       "    }\n",
       "\n",
       "    .dataframe tbody tr th {\n",
       "        vertical-align: top;\n",
       "    }\n",
       "\n",
       "    .dataframe thead th {\n",
       "        text-align: right;\n",
       "    }\n",
       "</style>\n",
       "<table border=\"1\" class=\"dataframe\">\n",
       "  <thead>\n",
       "    <tr style=\"text-align: right;\">\n",
       "      <th></th>\n",
       "      <th>Expt</th>\n",
       "      <th>Run</th>\n",
       "      <th>Speed</th>\n",
       "    </tr>\n",
       "  </thead>\n",
       "  <tbody>\n",
       "    <tr>\n",
       "      <th>0</th>\n",
       "      <td>1</td>\n",
       "      <td>1</td>\n",
       "      <td>850</td>\n",
       "    </tr>\n",
       "    <tr>\n",
       "      <th>1</th>\n",
       "      <td>1</td>\n",
       "      <td>2</td>\n",
       "      <td>740</td>\n",
       "    </tr>\n",
       "    <tr>\n",
       "      <th>2</th>\n",
       "      <td>1</td>\n",
       "      <td>3</td>\n",
       "      <td>900</td>\n",
       "    </tr>\n",
       "    <tr>\n",
       "      <th>3</th>\n",
       "      <td>1</td>\n",
       "      <td>4</td>\n",
       "      <td>1070</td>\n",
       "    </tr>\n",
       "    <tr>\n",
       "      <th>4</th>\n",
       "      <td>1</td>\n",
       "      <td>5</td>\n",
       "      <td>930</td>\n",
       "    </tr>\n",
       "  </tbody>\n",
       "</table>\n",
       "</div>"
      ],
      "text/plain": [
       "   Expt  Run  Speed\n",
       "0     1    1    850\n",
       "1     1    2    740\n",
       "2     1    3    900\n",
       "3     1    4   1070\n",
       "4     1    5    930"
      ]
     },
     "execution_count": 2,
     "metadata": {},
     "output_type": "execute_result"
    }
   ],
   "source": [
    "morley = pd.read_csv('data/michelson.csv')\n",
    "morley.head()"
   ]
  },
  {
   "cell_type": "code",
   "execution_count": 3,
   "metadata": {},
   "outputs": [
    {
     "data": {
      "text/plain": [
       "(100, 3)"
      ]
     },
     "execution_count": 3,
     "metadata": {},
     "output_type": "execute_result"
    }
   ],
   "source": [
    "morley.shape"
   ]
  },
  {
   "cell_type": "markdown",
   "metadata": {},
   "source": [
    "The Michelson-Morley study (1887) was made to detect the 'ether', but was also used to estimate the speed of light. The measurements were made in 5 experiments ('Expt' variable = 1,2,3,4,5). In each experiment, several runs were made using the same protocol. From these data, we want to estimate the speed of light.\n",
    "\n",
    "****"
   ]
  },
  {
   "cell_type": "markdown",
   "metadata": {},
   "source": [
    "The first summary of the data is a __histogram__ of the data from all 5 experiments combined."
   ]
  },
  {
   "cell_type": "code",
   "execution_count": 4,
   "metadata": {},
   "outputs": [
    {
     "data": {
      "image/png": "[encoded data removed]",
      "text/plain": [
       "<Figure size 432x288 with 1 Axes>"
      ]
     },
     "metadata": {},
     "output_type": "display_data"
    }
   ],
   "source": [
    "n, bins, patches = plt.hist(x=morley.Speed, color='#0504aa')"
   ]
  },
  {
   "cell_type": "markdown",
   "metadata": {},
   "source": [
    "A simpler, if less precise, summary of the same data is a __boxplot__. The boxplot shown below is a member of the \"matplotlib.pyplot\" package."
   ]
  },
  {
   "cell_type": "code",
   "execution_count": 5,
   "metadata": {},
   "outputs": [
    {
     "data": {
      "text/plain": [
       "{'whiskers': [<matplotlib.lines.Line2D at 0x21a7bf1470>,\n",
       "  <matplotlib.lines.Line2D at 0x21a7bf1908>],\n",
       " 'caps': [<matplotlib.lines.Line2D at 0x21a7bf1d30>,\n",
       "  <matplotlib.lines.Line2D at 0x21a7bfc198>],\n",
       " 'boxes': [<matplotlib.lines.Line2D at 0x21a7bf1320>],\n",
       " 'medians': [<matplotlib.lines.Line2D at 0x21a7bfc5c0>],\n",
       " 'fliers': [<matplotlib.lines.Line2D at 0x21a7bfc9e8>],\n",
       " 'means': []}"
      ]
     },
     "execution_count": 5,
     "metadata": {},
     "output_type": "execute_result"
    },
    {
     "data": {
      "image/png": "[encoded data removed]",
      "text/plain": [
       "<Figure size 432x288 with 1 Axes>"
      ]
     },
     "metadata": {},
     "output_type": "display_data"
    }
   ],
   "source": [
    "plt.boxplot(morley.Speed)"
   ]
  },
  {
   "cell_type": "markdown",
   "metadata": {},
   "source": [
    "This figure uses a \"five number summary with outliers.\"  The box with the red line has the following interpretation: (1) the top of the box marks the value at which 75% of the data is below (__Q3__, __upper hinge__), (2) the redline is the __median__ (__Q2__), the value at which 50% of the data lies below, and (3) the bottom of the box marks the value at which 25% of the data lies below (__Q1__, __lower hinge__). An useful measure of data spread is the __interquartile range__, defined as __IQR = Q3 - Q1__. The __upper whisker__ extends to the largest data value less than or equal to __Q3__ + 1.5 $*$ __IQR__, and the __lower whisker__ extends to the smallest data value greater than or equal to __Q1__ - 1.5 $*$ __IQR__. The small circles above the upper whisker and lower whisker are __outliers__, that is, data values that lie above or below the upper and lower whiskers, respectively. \n",
    "\n",
    "One imprecision in the description above is how to handle cases in which there is no data point that falls exactly on a hinge or the median. In such cases, one merely interpolates between the two values that \"sandwich\" the \"unobserved\" value. For example, __Q2__ = 2.5 and **Q3** = 3.25 for a sample [1, 2, 3, 4]. \n",
    "\n",
    "..."
   ]
  },
  {
   "cell_type": "markdown",
   "metadata": {},
   "source": [
    "One question that arises from MM is this: is it reasonable that all 5 experiments were measuring the same value for the speed of light? Or expressed differently, do the values in each experiment appear to have arisen from an uniform measurement process? For now, we use boxplots an compare each of the 5 experiments. We will revisit this question later when we develop probability and statistics as a means of testing this hypothesis."
   ]
  },
  {
   "cell_type": "code",
   "execution_count": 6,
   "metadata": {},
   "outputs": [
    {
     "data": {
      "text/plain": [
       "<matplotlib.axes._subplots.AxesSubplot at 0x21a7c20320>"
      ]
     },
     "execution_count": 6,
     "metadata": {},
     "output_type": "execute_result"
    },
    {
     "data": {
      "image/png": "[encoded data removed]",
      "text/plain": [
       "<Figure size 432x288 with 1 Axes>"
      ]
     },
     "metadata": {},
     "output_type": "display_data"
    }
   ],
   "source": [
    "sns.set(style=\"ticks\", palette=\"pastel\")\n",
    "sns.boxplot(x='Expt', y=\"Speed\", data=morley)"
   ]
  },
  {
   "cell_type": "markdown",
   "metadata": {},
   "source": [
    "The boxplots in the cell above were produced by the _seaborn_ package. Many data scientists prefer seaborn because of its more flexible interface for plot production. For some further variations on boxplots, see the _seaborn_ documentation [seaborn boxplot docs](https://seaborn.pydata.org/generated/seaborn.boxplot.html)."
   ]
  },
  {
   "cell_type": "markdown",
   "metadata": {},
   "source": [
    "#### <font color=blue>2.1.1.2 Violin Plots</font>"
   ]
  },
  {
   "cell_type": "markdown",
   "metadata": {},
   "source": [
    "Seaborn also produces some interesting and informative plots. One is a _violin_ plot, shown for the MM data in the plot below."
   ]
  },
  {
   "cell_type": "code",
   "execution_count": 7,
   "metadata": {},
   "outputs": [
    {
     "data": {
      "image/png": "[encoded data removed]",
      "text/plain": [
       "<Figure size 432x288 with 1 Axes>"
      ]
     },
     "metadata": {},
     "output_type": "display_data"
    }
   ],
   "source": [
    "sns.violinplot(x = \"Expt\", y=\"Speed\", data=morley);"
   ]
  },
  {
   "cell_type": "markdown",
   "metadata": {},
   "source": [
    "In violin plots, the data has a _smoothed_ histogram of data values, mirrored left-to-right  together with a box plot inside. These box plots don't have outliers as these can be inferred from the top and bottom of a violin which extends for the entire range of the data \"violin\" which mark the maximum and minimum data values. In a later class, the important topic of smoothing will be presented."
   ]
  },
  {
   "cell_type": "markdown",
   "metadata": {},
   "source": [
    "### <font color=blue>2.1.2 Numerical Summaries for Numerical Data</font>"
   ]
  },
  {
   "cell_type": "markdown",
   "metadata": {},
   "source": [
    "#### <font color=blue>2.1.2.1 Sample Moments</font>"
   ]
  },
  {
   "cell_type": "markdown",
   "metadata": {},
   "source": [
    "The most common sample __statistics__ (a statistic is a mathematical formula that transforms data into a new form, e.g., $x \\rightarrow \\{x / |x| \\text{ for } x \\ne 0, \\text{ and } 0 \\text{ for } x = 0\\}$) measure __location__ (or __central tendency__), __spread__, __skew__ and __peakedness__. We discuss each below, and the standard statistics used to measure them."
   ]
  },
  {
   "cell_type": "markdown",
   "metadata": {},
   "source": [
    "#### <font color=blue>2.1.2.2 Measures of Central Tendency</font>"
   ]
  },
  {
   "cell_type": "markdown",
   "metadata": {},
   "source": [
    "The graphic below shows three measures of __location__, also called __central tendency__. The idea is that each measures in some sense the \"middle\" of the data. The __sample mode__ is the sample value that is most frequent in the data, i.e.,  the value at which the data is \"densest.\" The __sample mean__ $\\bar{x}$, or arithmetic average for a sample $[x_0, x_1, \\ldots, x_{n-1}]$ of size $n$ is defined by  \n",
    "  \n",
    "<center>$\\bar{x} = \\frac{1}{n} \\sum_{i=1}^{i=n} x_i$.</center>  \n",
    "  \n",
    "The __sample median__ $x_{0.50}$ is the value at which 50% or more of the data lie above and 50% or more of the data lie below. It may be calculated by sorting the data from lowest to highest, and using notation $x_{(i)}$ for the sorted sample, setting $x_{0.50} = x_{((n-1)/2)}$ if $n$ is odd, and $x_{0.50} = (x_{((n-2)/2)} + x_{(n/2)})/2$ if $n$ is even. This former value is the sample value at which $(n-1)/2$ values are above and $(n-1)/2$ values below (note that tied sample values don't matter in this calculation), and the latter value is just the average of the two middle sample values.\n",
    "\n",
    "In the figure below, larger values occur in the upper half of the data (this is called __skew__ - see discussion below). Because of this __right skew__, the sample mean is larger the the sample median.  \n",
    "  \n",
    "<font color='green6'>**Question**</font>: Why would the mean be larger than the median?\n",
    "\n",
    "<img src=\"images/Wiki-MeasuresOfLocation.png\" /> Source: Wikipedia, \"Mean\"."
   ]
  },
  {
   "cell_type": "markdown",
   "metadata": {},
   "source": [
    "There are also so-called \"robust\" measures of location. A popular example is a __5% Winsorized mean__, which is the mean of a sample with the largest $2.5\\%$ and smallest $2.5\\%$ of the data removed."
   ]
  },
  {
   "cell_type": "markdown",
   "metadata": {},
   "source": [
    "#### <font color=blue>2.1.2.3 Measures of Spread</font>"
   ]
  },
  {
   "cell_type": "markdown",
   "metadata": {},
   "source": [
    "Measures of spread are intended to reflect the \"variablility\" of the data. The figure below shows two sample histograms, with the red one having lower spread than the blue one. The vertical line indicates the common mean of $\\bar{x} = 100$ for each sample. This graph was taken from Wikipedia, and there appears to be an error in it. Can you find it.  \n",
    "  \n",
    "  \n",
    "But the plot does indicate the basic idea behind measuring spread in a sample, namely as a _symmetric function of the deviations from a measure of location_. Question: Based on this statement, suppose each datum in a sample $[x_0, x_1, \\ldots, x_{n-1}]$ has the same number $c$ added to it: $y = x + c$.  \n",
    "  \n",
    "<font color='green6'>**Question**</font>: What will be the spread of $y$?    \n",
    "  \n",
    "For the rest of this class, we reserve the term __deviation__ $d_i$ to be a difference between a sample datum $x_i$ and the sample mean $\\bar{x}$:  \n",
    "  \n",
    "<center>$d_i = x_i - \\bar{x}$.</center>  \n",
    "  \n",
    "Question: What is the value of the sum of all deviations in a sample?  \n",
    "\n",
    "<img src=\"images/Wiki-Variance.png\" /> Source: Wikipedia, \"Variance\".\n",
    "\n",
    "We discuss the following measures: __variance__ (standard notation: $\\mathbf{s^2}$), __standard deviation__ (standard notation $\\mathbf{s}$, $\\mathbf{s \\ge 0}$), __interquartile range__ (__IQR__) and __mean absolute deviation__ (__MAD__). "
   ]
  },
  {
   "cell_type": "markdown",
   "metadata": {},
   "source": [
    "#### <font color=blue>Sample Variance and Standard Deviation ($\\mathbf{s^2}$ and $\\mathbf{s}$)</font>"
   ]
  },
  {
   "cell_type": "markdown",
   "metadata": {},
   "source": [
    "The __sample variance__ $\\mathbf{s^2} = \\mathbf{s_x^2}$ for a sample $[x_0, x_1, \\ldots, x_{n-1}]$ is defined by  \n",
    "  \n",
    "<center>$s^2 = s_x^2 = \\frac{1}{n-1} \\sum_{i=0}^{i=n-1} d_i^2 = \\frac{1}{n-1} \\sum_{i=0}^{i=n-1} (x_i - \\bar{x})^2$.</center>  \n",
    "  \n",
    "The subscript on $s^2$ is sometimes used to identify the sample data used to form it. The __sample standard deviation__ $\\mathbf{s} = \\mathbf{s_x}$, $\\mathbf{s \\ge 0}$ is its square root:\n",
    "\n",
    "<center>$s = s_x = \\sqrt{s^2}$</center>  \n",
    "  \n",
    "This definition seems odd for two reasons: (1) the divisor in the variance formula is $n-1$, not $n$, and (2) there seems to be no rationale for squaring. We discuss the reason for this choice in the classes on probability and statistics.  \n",
    "  \n",
    "<font color='green6'>**Question**</font>: Need $\\mathbf{s}$ always be greater than zero? <img src=\"images/standard-deviation-examples1.png\">"
   ]
  },
  {
   "cell_type": "markdown",
   "metadata": {},
   "source": [
    "Source: [Statistics How To: Standard Deviation]: http://www.statisticshowto.com/probability-and-statistics/standard-deviation/\"  "
   ]
  },
  {
   "cell_type": "markdown",
   "metadata": {},
   "source": [
    "#### <font color=blue>Sample Inter Quartile Range (IQR)</font>"
   ]
  },
  {
   "cell_type": "markdown",
   "metadata": {},
   "source": [
    "The IQR was introduced earlier, as the difference between the __third hinge__, $\\mathbf{Q3}$ and the __first hinge__, $\\mathbf{Q1}$  \n",
    "  \n",
    "<center>$\\mathbf{IQR = Q3 - Q1}$.</center>  \n",
    "  \n",
    "<font color='green6'>**Question**</font>: If the same constant $c$ is added to each sample value, how does this affect the $\\mathbf{IQR}$ of the __translated__ sample? "
   ]
  },
  {
   "cell_type": "markdown",
   "metadata": {},
   "source": [
    "#### <font color=blue>Sample Mean Absolute Deviation (MAD)</font>"
   ]
  },
  {
   "cell_type": "markdown",
   "metadata": {},
   "source": [
    "The __mean absolute deviation__ (__MAD__)is defined as  \n",
    "  \n",
    "<center>$MAD = \\frac{c}{n} \\sum_{i=0}^{i=n-1} | \\; d_i \\; | = \\frac{c}{n} \\sum_{i=0}^{i=n-1} | \\; x_i - \\bar{x} \\; |$.</center>  \n",
    "  \n",
    "where $| \\; z \\; |$ is the absolute value of $z$ and $c$ is a constant that differs depending on the software implementation and function parameters. In _Python_ __pandas__, the default is $c = 1$."
   ]
  },
  {
   "cell_type": "markdown",
   "metadata": {},
   "source": [
    "#### <font color=blue>2.1.2.4 Measures of Skew</font>"
   ]
  },
  {
   "cell_type": "markdown",
   "metadata": {},
   "source": [
    "Sample Skew occurs when the data are asymmetric. When the data has larger positive (negative) deviations than negative (positive) deviations, the skew will be positive (negative). In the first case, the data are called positively (or \"right\") skewed, in the second, negatively (or \"left\") skewed.  In the figure for Section 2.2.1.1, the smooth solid purple histogram is right skewed. For that smoothed histogram,  \n",
    "  \n",
    "<center>__mean__ > __median__ > __mode__</center>  \n",
    "  \n",
    "For a sample vector $x = [x_0, x_1, \\ldots, x_{n-1}]$, a formula for skewness, __skew(x)__, is  \n",
    "  \n",
    "<center>$skew(x) = \\frac{\\frac{1}{n} \\sum_{i=0}^{i=n-1} d_i^3}{s^3}$</center>  \n",
    "  \n",
    "where as before, $d_i = x_i - \\bar{x}$, $i = 0, 1, \\ldots, n-1$.\n",
    "\n",
    "Another measure of skewness is __Galton skewness__, defined as  \n",
    "  \n",
    "  <center>$gskew(x) = \\frac{Q1 \\; - \\; 2*Q2 \\; + \\; Q3}{Q3 \\; - \\; Q1}$.</center>"
   ]
  },
  {
   "cell_type": "markdown",
   "metadata": {},
   "source": [
    "#### <font color=blue>2.1.2.5 Measures of Peakedness</font>"
   ]
  },
  {
   "cell_type": "markdown",
   "metadata": {},
   "source": [
    "The main measure of peakedness for a sample $x = [x_0, x_1, \\ldots, x_{n-1}]$ is __kurtosis__, $kurt(x)$, defined as  \n",
    "  \n",
    "<center>$kurt(x) = \\frac{\\frac{1}{n} \\sum_{i=0}^{i=n-1} d_i^4}{s^4} - 3$</center>  \n",
    "  \n",
    "where as before, $d_i = x_i - \\bar{x}$, $i = 0, 1, \\ldots, n-1$. It isn't clear why the number '3' should be subtracted from this calculation, but we'll explain that in class 5."
   ]
  },
  {
   "cell_type": "markdown",
   "metadata": {},
   "source": [
    "#### <font color=blue>2.1.2.6 Quantiles</font>"
   ]
  },
  {
   "cell_type": "markdown",
   "metadata": {},
   "source": [
    "Another way to express location in a dataset uses __sample quantiles__. The $p$ __sample quantile__ ($0 \\le p \\le 1$), or equivalently the $100*p$-th __sample percentile__ is the interpolated or exact value at which a fraction $p$ lies below and $1 - p$ above. The 0.95 sample quantile = 95-th sample percentile will be greater than or equal to 95% of the (possibly interpolated) sample values."
   ]
  },
  {
   "cell_type": "code",
   "execution_count": 8,
   "metadata": {},
   "outputs": [
    {
     "data": {
      "text/plain": [
       "3.25"
      ]
     },
     "execution_count": 8,
     "metadata": {},
     "output_type": "execute_result"
    }
   ],
   "source": [
    "x = np.array([1,2,3,4])\n",
    "np.percentile(x, 75)"
   ]
  },
  {
   "cell_type": "markdown",
   "metadata": {},
   "source": [
    "#### <font color=blue>2.1.2.7 Standardization</font>"
   ]
  },
  {
   "cell_type": "markdown",
   "metadata": {},
   "source": [
    "It is sometimes useful to __standardize__ a dataset. A dataset $x = [x_0, x_1, \\ldots, x_{n-1}]$ with $s_{x} > 0$ is **standardized** if each value $x_i$ is transformed to a value $y_i$ by subtracting the sample mean and dividing by the sample standard deviation:  \n",
    "  \n",
    "<center>$y_i = \\frac{x_i - \\bar{x}}{s_x}$.</center>  \n",
    "  \n",
    "The purpose of standardizing is to create an uniquely rescaled sample of $x$ that has two properties:  \n",
    "  \n",
    "  1. $\\bar{y} = 0$ .... its sample mean is zero, and  \n",
    "  2. $s_y = 1$ .... its standard deviation is 1.  "
   ]
  },
  {
   "cell_type": "markdown",
   "metadata": {},
   "source": [
    "#### <font color=blue>2.1.2.6 Simple DataFrame from Class 1</font>"
   ]
  },
  {
   "cell_type": "code",
   "execution_count": 9,
   "metadata": {},
   "outputs": [
    {
     "data": {
      "text/html": [
       "<div>\n",
       "<style scoped>\n",
       "    .dataframe tbody tr th:only-of-type {\n",
       "        vertical-align: middle;\n",
       "    }\n",
       "\n",
       "    .dataframe tbody tr th {\n",
       "        vertical-align: top;\n",
       "    }\n",
       "\n",
       "    .dataframe thead th {\n",
       "        text-align: right;\n",
       "    }\n",
       "</style>\n",
       "<table border=\"1\" class=\"dataframe\">\n",
       "  <thead>\n",
       "    <tr style=\"text-align: right;\">\n",
       "      <th></th>\n",
       "      <th>name</th>\n",
       "      <th>age</th>\n",
       "      <th>preTestScore</th>\n",
       "      <th>postTestScore</th>\n",
       "    </tr>\n",
       "  </thead>\n",
       "  <tbody>\n",
       "    <tr>\n",
       "      <th>0</th>\n",
       "      <td>Guiseppe</td>\n",
       "      <td>21</td>\n",
       "      <td>4</td>\n",
       "      <td>25</td>\n",
       "    </tr>\n",
       "    <tr>\n",
       "      <th>1</th>\n",
       "      <td>Giselle</td>\n",
       "      <td>55</td>\n",
       "      <td>24</td>\n",
       "      <td>94</td>\n",
       "    </tr>\n",
       "    <tr>\n",
       "      <th>2</th>\n",
       "      <td>Gay</td>\n",
       "      <td>33</td>\n",
       "      <td>31</td>\n",
       "      <td>57</td>\n",
       "    </tr>\n",
       "    <tr>\n",
       "      <th>3</th>\n",
       "      <td>Guido</td>\n",
       "      <td>45</td>\n",
       "      <td>2</td>\n",
       "      <td>62</td>\n",
       "    </tr>\n",
       "    <tr>\n",
       "      <th>4</th>\n",
       "      <td>Gertrude</td>\n",
       "      <td>83</td>\n",
       "      <td>3</td>\n",
       "      <td>70</td>\n",
       "    </tr>\n",
       "  </tbody>\n",
       "</table>\n",
       "</div>"
      ],
      "text/plain": [
       "       name  age  preTestScore  postTestScore\n",
       "0  Guiseppe   21             4             25\n",
       "1   Giselle   55            24             94\n",
       "2       Gay   33            31             57\n",
       "3     Guido   45             2             62\n",
       "4  Gertrude   83             3             70"
      ]
     },
     "execution_count": 9,
     "metadata": {},
     "output_type": "execute_result"
    }
   ],
   "source": [
    "data = {'name': ['Guiseppe', 'Giselle', 'Gay', 'Guido', 'Gertrude'], \n",
    "        'age': [21, 55, 33, 45, 83], \n",
    "        'preTestScore': [4, 24, 31, 2, 3],\n",
    "        'postTestScore': [25, 94, 57, 62, 70]}\n",
    "df1 = pd.DataFrame(data, columns = ['name', 'age', 'preTestScore', 'postTestScore'])\n",
    "df1"
   ]
  },
  {
   "cell_type": "markdown",
   "metadata": {},
   "source": [
    "#### <font color=blue>Descriptive Statistics: General</font>"
   ]
  },
  {
   "cell_type": "code",
   "execution_count": 10,
   "metadata": {},
   "outputs": [
    {
     "data": {
      "text/plain": [
       "2"
      ]
     },
     "execution_count": 10,
     "metadata": {},
     "output_type": "execute_result"
    }
   ],
   "source": [
    "df1['preTestScore'].min() # Minimum"
   ]
  },
  {
   "cell_type": "code",
   "execution_count": 11,
   "metadata": {},
   "outputs": [
    {
     "data": {
      "text/plain": [
       "31"
      ]
     },
     "execution_count": 11,
     "metadata": {},
     "output_type": "execute_result"
    }
   ],
   "source": [
    "df1['preTestScore'].max() # Maximum"
   ]
  },
  {
   "cell_type": "code",
   "execution_count": 12,
   "metadata": {},
   "outputs": [
    {
     "data": {
      "text/plain": [
       "5"
      ]
     },
     "execution_count": 12,
     "metadata": {},
     "output_type": "execute_result"
    }
   ],
   "source": [
    "df1['preTestScore'].count() # Count"
   ]
  },
  {
   "cell_type": "code",
   "execution_count": 13,
   "metadata": {},
   "outputs": [
    {
     "data": {
      "text/plain": [
       "64"
      ]
     },
     "execution_count": 13,
     "metadata": {},
     "output_type": "execute_result"
    }
   ],
   "source": [
    "df1['preTestScore'].sum() # Sum"
   ]
  },
  {
   "cell_type": "code",
   "execution_count": 14,
   "metadata": {},
   "outputs": [
    {
     "data": {
      "text/plain": [
       "0     4\n",
       "1    28\n",
       "2    59\n",
       "3    61\n",
       "4    64\n",
       "Name: preTestScore, dtype: int64"
      ]
     },
     "execution_count": 14,
     "metadata": {},
     "output_type": "execute_result"
    }
   ],
   "source": [
    "df1['preTestScore'].cumsum() # Cumulative Sum"
   ]
  },
  {
   "cell_type": "markdown",
   "metadata": {},
   "source": [
    "#### <font color=blue>Descriptive Statistics: Location</font>"
   ]
  },
  {
   "cell_type": "code",
   "execution_count": 15,
   "metadata": {},
   "outputs": [
    {
     "data": {
      "text/plain": [
       "12.8"
      ]
     },
     "execution_count": 15,
     "metadata": {},
     "output_type": "execute_result"
    }
   ],
   "source": [
    "df1['preTestScore'].mean() # Mean = Average"
   ]
  },
  {
   "cell_type": "code",
   "execution_count": 16,
   "metadata": {},
   "outputs": [
    {
     "data": {
      "text/plain": [
       "4.0"
      ]
     },
     "execution_count": 16,
     "metadata": {},
     "output_type": "execute_result"
    }
   ],
   "source": [
    "df1['preTestScore'].median() # Middle of data: 50% of numbers above, 50% below"
   ]
  },
  {
   "cell_type": "code",
   "execution_count": 17,
   "metadata": {},
   "outputs": [
    {
     "data": {
      "text/plain": [
       "[12.8, 4.0]"
      ]
     },
     "execution_count": 17,
     "metadata": {},
     "output_type": "execute_result"
    }
   ],
   "source": [
    "[df1['preTestScore'].mean(),df1['preTestScore'].median()] # All functions can be put into a list"
   ]
  },
  {
   "cell_type": "markdown",
   "metadata": {},
   "source": [
    "#### <font color=blue>Descriptive Statistics: Spread</font>"
   ]
  },
  {
   "cell_type": "code",
   "execution_count": 18,
   "metadata": {},
   "outputs": [
    {
     "data": {
      "text/plain": [
       "186.7"
      ]
     },
     "execution_count": 18,
     "metadata": {},
     "output_type": "execute_result"
    }
   ],
   "source": [
    "df1['preTestScore'].var() # Variance"
   ]
  },
  {
   "cell_type": "code",
   "execution_count": 19,
   "metadata": {},
   "outputs": [
    {
     "data": {
      "text/plain": [
       "13.663820841916802"
      ]
     },
     "execution_count": 19,
     "metadata": {},
     "output_type": "execute_result"
    }
   ],
   "source": [
    "df1['preTestScore'].std() # Standard Deviation = sqrt( Variance )"
   ]
  },
  {
   "cell_type": "code",
   "execution_count": 20,
   "metadata": {},
   "outputs": [
    {
     "data": {
      "text/plain": [
       "11.76"
      ]
     },
     "execution_count": 20,
     "metadata": {},
     "output_type": "execute_result"
    }
   ],
   "source": [
    "df1['preTestScore'].mad() # Mean Absolute Deviation"
   ]
  },
  {
   "cell_type": "markdown",
   "metadata": {},
   "source": [
    "#### <font color=blue>Descriptive Statistics: Higher Moments</font>"
   ]
  },
  {
   "cell_type": "code",
   "execution_count": 21,
   "metadata": {},
   "outputs": [
    {
     "data": {
      "text/plain": [
       "0.7433452457326751"
      ]
     },
     "execution_count": 21,
     "metadata": {},
     "output_type": "execute_result"
    }
   ],
   "source": [
    "df1['preTestScore'].skew()"
   ]
  },
  {
   "cell_type": "code",
   "execution_count": 22,
   "metadata": {},
   "outputs": [
    {
     "data": {
      "text/plain": [
       "-2.4673543738411547"
      ]
     },
     "execution_count": 22,
     "metadata": {},
     "output_type": "execute_result"
    }
   ],
   "source": [
    "df1['preTestScore'].kurt()"
   ]
  },
  {
   "cell_type": "markdown",
   "metadata": {},
   "source": [
    "#### <font color=blue>Descriptive Statistics: Variable-at-a-Time Summaries</font>"
   ]
  },
  {
   "cell_type": "code",
   "execution_count": 23,
   "metadata": {},
   "outputs": [
    {
     "data": {
      "text/html": [
       "<div>\n",
       "<style scoped>\n",
       "    .dataframe tbody tr th:only-of-type {\n",
       "        vertical-align: middle;\n",
       "    }\n",
       "\n",
       "    .dataframe tbody tr th {\n",
       "        vertical-align: top;\n",
       "    }\n",
       "\n",
       "    .dataframe thead th {\n",
       "        text-align: right;\n",
       "    }\n",
       "</style>\n",
       "<table border=\"1\" class=\"dataframe\">\n",
       "  <thead>\n",
       "    <tr style=\"text-align: right;\">\n",
       "      <th></th>\n",
       "      <th>age</th>\n",
       "      <th>preTestScore</th>\n",
       "      <th>postTestScore</th>\n",
       "    </tr>\n",
       "  </thead>\n",
       "  <tbody>\n",
       "    <tr>\n",
       "      <th>count</th>\n",
       "      <td>5.000000</td>\n",
       "      <td>5.000000</td>\n",
       "      <td>5.000000</td>\n",
       "    </tr>\n",
       "    <tr>\n",
       "      <th>mean</th>\n",
       "      <td>47.400000</td>\n",
       "      <td>12.800000</td>\n",
       "      <td>61.600000</td>\n",
       "    </tr>\n",
       "    <tr>\n",
       "      <th>std</th>\n",
       "      <td>23.638951</td>\n",
       "      <td>13.663821</td>\n",
       "      <td>24.905823</td>\n",
       "    </tr>\n",
       "    <tr>\n",
       "      <th>min</th>\n",
       "      <td>21.000000</td>\n",
       "      <td>2.000000</td>\n",
       "      <td>25.000000</td>\n",
       "    </tr>\n",
       "    <tr>\n",
       "      <th>25%</th>\n",
       "      <td>33.000000</td>\n",
       "      <td>3.000000</td>\n",
       "      <td>57.000000</td>\n",
       "    </tr>\n",
       "    <tr>\n",
       "      <th>50%</th>\n",
       "      <td>45.000000</td>\n",
       "      <td>4.000000</td>\n",
       "      <td>62.000000</td>\n",
       "    </tr>\n",
       "    <tr>\n",
       "      <th>75%</th>\n",
       "      <td>55.000000</td>\n",
       "      <td>24.000000</td>\n",
       "      <td>70.000000</td>\n",
       "    </tr>\n",
       "    <tr>\n",
       "      <th>max</th>\n",
       "      <td>83.000000</td>\n",
       "      <td>31.000000</td>\n",
       "      <td>94.000000</td>\n",
       "    </tr>\n",
       "  </tbody>\n",
       "</table>\n",
       "</div>"
      ],
      "text/plain": [
       "             age  preTestScore  postTestScore\n",
       "count   5.000000      5.000000       5.000000\n",
       "mean   47.400000     12.800000      61.600000\n",
       "std    23.638951     13.663821      24.905823\n",
       "min    21.000000      2.000000      25.000000\n",
       "25%    33.000000      3.000000      57.000000\n",
       "50%    45.000000      4.000000      62.000000\n",
       "75%    55.000000     24.000000      70.000000\n",
       "max    83.000000     31.000000      94.000000"
      ]
     },
     "execution_count": 23,
     "metadata": {},
     "output_type": "execute_result"
    }
   ],
   "source": [
    "df1.describe()"
   ]
  },
  {
   "cell_type": "markdown",
   "metadata": {},
   "source": [
    "#### <font color=blue>2.1.2.7 Michelson-Moreley Summary</font>"
   ]
  },
  {
   "cell_type": "markdown",
   "metadata": {},
   "source": [
    "It is frequently useful to analyzed groups with datasets. In the Michelson-Moreley data, there were 5 experiments done on different days. The summaries for each day are shown in the table below, facilitated by the _pandas_ _DataFrame_ function, __groupby__. The __groupby__ function splits a DataFrame into groups which thereafter analyzed separately by commands such as __sum__, __mean__, __max__, etc. That is, the sum, mean, max, etc. are calculated within each group separately."
   ]
  },
  {
   "cell_type": "code",
   "execution_count": 24,
   "metadata": {},
   "outputs": [
    {
     "data": {
      "text/html": [
       "<div>\n",
       "<style scoped>\n",
       "    .dataframe tbody tr th:only-of-type {\n",
       "        vertical-align: middle;\n",
       "    }\n",
       "\n",
       "    .dataframe tbody tr th {\n",
       "        vertical-align: top;\n",
       "    }\n",
       "\n",
       "    .dataframe thead tr th {\n",
       "        text-align: left;\n",
       "    }\n",
       "\n",
       "    .dataframe thead tr:last-of-type th {\n",
       "        text-align: right;\n",
       "    }\n",
       "</style>\n",
       "<table border=\"1\" class=\"dataframe\">\n",
       "  <thead>\n",
       "    <tr>\n",
       "      <th></th>\n",
       "      <th colspan=\"8\" halign=\"left\">Run</th>\n",
       "      <th colspan=\"8\" halign=\"left\">Speed</th>\n",
       "    </tr>\n",
       "    <tr>\n",
       "      <th></th>\n",
       "      <th>count</th>\n",
       "      <th>mean</th>\n",
       "      <th>std</th>\n",
       "      <th>min</th>\n",
       "      <th>25%</th>\n",
       "      <th>50%</th>\n",
       "      <th>75%</th>\n",
       "      <th>max</th>\n",
       "      <th>count</th>\n",
       "      <th>mean</th>\n",
       "      <th>std</th>\n",
       "      <th>min</th>\n",
       "      <th>25%</th>\n",
       "      <th>50%</th>\n",
       "      <th>75%</th>\n",
       "      <th>max</th>\n",
       "    </tr>\n",
       "    <tr>\n",
       "      <th>Expt</th>\n",
       "      <th></th>\n",
       "      <th></th>\n",
       "      <th></th>\n",
       "      <th></th>\n",
       "      <th></th>\n",
       "      <th></th>\n",
       "      <th></th>\n",
       "      <th></th>\n",
       "      <th></th>\n",
       "      <th></th>\n",
       "      <th></th>\n",
       "      <th></th>\n",
       "      <th></th>\n",
       "      <th></th>\n",
       "      <th></th>\n",
       "      <th></th>\n",
       "    </tr>\n",
       "  </thead>\n",
       "  <tbody>\n",
       "    <tr>\n",
       "      <th>1</th>\n",
       "      <td>20.0</td>\n",
       "      <td>10.5</td>\n",
       "      <td>5.91608</td>\n",
       "      <td>1.0</td>\n",
       "      <td>5.75</td>\n",
       "      <td>10.5</td>\n",
       "      <td>15.25</td>\n",
       "      <td>20.0</td>\n",
       "      <td>20.0</td>\n",
       "      <td>909.0</td>\n",
       "      <td>104.926039</td>\n",
       "      <td>650.0</td>\n",
       "      <td>850.0</td>\n",
       "      <td>940.0</td>\n",
       "      <td>980.0</td>\n",
       "      <td>1070.0</td>\n",
       "    </tr>\n",
       "    <tr>\n",
       "      <th>2</th>\n",
       "      <td>20.0</td>\n",
       "      <td>10.5</td>\n",
       "      <td>5.91608</td>\n",
       "      <td>1.0</td>\n",
       "      <td>5.75</td>\n",
       "      <td>10.5</td>\n",
       "      <td>15.25</td>\n",
       "      <td>20.0</td>\n",
       "      <td>20.0</td>\n",
       "      <td>856.0</td>\n",
       "      <td>61.164145</td>\n",
       "      <td>760.0</td>\n",
       "      <td>800.0</td>\n",
       "      <td>845.0</td>\n",
       "      <td>885.0</td>\n",
       "      <td>960.0</td>\n",
       "    </tr>\n",
       "    <tr>\n",
       "      <th>3</th>\n",
       "      <td>20.0</td>\n",
       "      <td>10.5</td>\n",
       "      <td>5.91608</td>\n",
       "      <td>1.0</td>\n",
       "      <td>5.75</td>\n",
       "      <td>10.5</td>\n",
       "      <td>15.25</td>\n",
       "      <td>20.0</td>\n",
       "      <td>20.0</td>\n",
       "      <td>845.0</td>\n",
       "      <td>79.106856</td>\n",
       "      <td>620.0</td>\n",
       "      <td>840.0</td>\n",
       "      <td>855.0</td>\n",
       "      <td>880.0</td>\n",
       "      <td>970.0</td>\n",
       "    </tr>\n",
       "    <tr>\n",
       "      <th>4</th>\n",
       "      <td>20.0</td>\n",
       "      <td>10.5</td>\n",
       "      <td>5.91608</td>\n",
       "      <td>1.0</td>\n",
       "      <td>5.75</td>\n",
       "      <td>10.5</td>\n",
       "      <td>15.25</td>\n",
       "      <td>20.0</td>\n",
       "      <td>20.0</td>\n",
       "      <td>820.5</td>\n",
       "      <td>60.041652</td>\n",
       "      <td>720.0</td>\n",
       "      <td>767.5</td>\n",
       "      <td>815.0</td>\n",
       "      <td>865.0</td>\n",
       "      <td>920.0</td>\n",
       "    </tr>\n",
       "    <tr>\n",
       "      <th>5</th>\n",
       "      <td>20.0</td>\n",
       "      <td>10.5</td>\n",
       "      <td>5.91608</td>\n",
       "      <td>1.0</td>\n",
       "      <td>5.75</td>\n",
       "      <td>10.5</td>\n",
       "      <td>15.25</td>\n",
       "      <td>20.0</td>\n",
       "      <td>20.0</td>\n",
       "      <td>831.5</td>\n",
       "      <td>54.219340</td>\n",
       "      <td>740.0</td>\n",
       "      <td>807.5</td>\n",
       "      <td>810.0</td>\n",
       "      <td>870.0</td>\n",
       "      <td>950.0</td>\n",
       "    </tr>\n",
       "  </tbody>\n",
       "</table>\n",
       "</div>"
      ],
      "text/plain": [
       "       Run                                              Speed         \\\n",
       "     count  mean      std  min   25%   50%    75%   max count   mean   \n",
       "Expt                                                                   \n",
       "1     20.0  10.5  5.91608  1.0  5.75  10.5  15.25  20.0  20.0  909.0   \n",
       "2     20.0  10.5  5.91608  1.0  5.75  10.5  15.25  20.0  20.0  856.0   \n",
       "3     20.0  10.5  5.91608  1.0  5.75  10.5  15.25  20.0  20.0  845.0   \n",
       "4     20.0  10.5  5.91608  1.0  5.75  10.5  15.25  20.0  20.0  820.5   \n",
       "5     20.0  10.5  5.91608  1.0  5.75  10.5  15.25  20.0  20.0  831.5   \n",
       "\n",
       "                                                      \n",
       "             std    min    25%    50%    75%     max  \n",
       "Expt                                                  \n",
       "1     104.926039  650.0  850.0  940.0  980.0  1070.0  \n",
       "2      61.164145  760.0  800.0  845.0  885.0   960.0  \n",
       "3      79.106856  620.0  840.0  855.0  880.0   970.0  \n",
       "4      60.041652  720.0  767.5  815.0  865.0   920.0  \n",
       "5      54.219340  740.0  807.5  810.0  870.0   950.0  "
      ]
     },
     "execution_count": 24,
     "metadata": {},
     "output_type": "execute_result"
    }
   ],
   "source": [
    "morley.groupby('Expt').describe()"
   ]
  },
  {
   "cell_type": "markdown",
   "metadata": {},
   "source": [
    "As we will see later, this splitting of the data into groups permits statistical tests on the groups. In the summary above, one of the most important questions is --- Did the experiments measure the same thing? If yes, then it would be reasonable to combine all data and let the overall mean represent an estimate of the speed of light. If not, then it would seem that the experimental method was flawed, and no reliable conclusion could be reached."
   ]
  },
  {
   "cell_type": "markdown",
   "metadata": {},
   "source": [
    "### <font color=blue>2.1.3 Visualizations for Text</font>"
   ]
  },
  {
   "cell_type": "markdown",
   "metadata": {},
   "source": [
    "There are a few visualizations for documents, in which the document's words are considered the sample."
   ]
  },
  {
   "cell_type": "code",
   "execution_count": 25,
   "metadata": {},
   "outputs": [
    {
     "data": {
      "text/plain": [
       "['We', 'the', 'People', 'of', 'the', 'United', 'States,', 'in', 'Order', 'to']"
      ]
     },
     "execution_count": 25,
     "metadata": {},
     "output_type": "execute_result"
    }
   ],
   "source": [
    "file = open(\"data/constitution.txt\")\n",
    "constitution = file.read()\n",
    "constitution_words = constitution.split()\n",
    "constitution_words[0:10]\n"
   ]
  },
  {
   "cell_type": "code",
   "execution_count": 27,
   "metadata": {},
   "outputs": [
    {
     "ename": "ImportError",
     "evalue": "DLL load failed: The specified module could not be found.",
     "output_type": "error",
     "traceback": [
      "\u001b[1;31m---------------------------------------------------------------------------\u001b[0m",
      "\u001b[1;31mImportError\u001b[0m                               Traceback (most recent call last)",
      "\u001b[1;32m<ipython-input-27-f79840700d4e>\u001b[0m in \u001b[0;36m<module>\u001b[1;34m()\u001b[0m\n\u001b[0;32m      2\u001b[0m \u001b[1;33m\u001b[0m\u001b[0m\n\u001b[0;32m      3\u001b[0m \u001b[1;31m# importing all necessery modules\u001b[0m\u001b[1;33m\u001b[0m\u001b[1;33m\u001b[0m\u001b[0m\n\u001b[1;32m----> 4\u001b[1;33m \u001b[1;32mfrom\u001b[0m \u001b[0mwordcloud\u001b[0m \u001b[1;32mimport\u001b[0m \u001b[0mWordCloud\u001b[0m\u001b[1;33m,\u001b[0m \u001b[0mSTOPWORDS\u001b[0m\u001b[1;33m\u001b[0m\u001b[0m\n\u001b[0m\u001b[0;32m      5\u001b[0m \u001b[1;33m\u001b[0m\u001b[0m\n\u001b[0;32m      6\u001b[0m \u001b[0mcomment_words\u001b[0m \u001b[1;33m=\u001b[0m \u001b[1;34m' '\u001b[0m\u001b[1;33m\u001b[0m\u001b[0m\n",
      "\u001b[1;32mD:\\Anaconda\\lib\\site-packages\\wordcloud\\__init__.py\u001b[0m in \u001b[0;36m<module>\u001b[1;34m()\u001b[0m\n\u001b[1;32m----> 1\u001b[1;33m from .wordcloud import (WordCloud, STOPWORDS, random_color_func,\n\u001b[0m\u001b[0;32m      2\u001b[0m                         get_single_color_func)\n\u001b[0;32m      3\u001b[0m \u001b[1;32mfrom\u001b[0m \u001b[1;33m.\u001b[0m\u001b[0mcolor_from_image\u001b[0m \u001b[1;32mimport\u001b[0m \u001b[0mImageColorGenerator\u001b[0m\u001b[1;33m\u001b[0m\u001b[0m\n\u001b[0;32m      4\u001b[0m \u001b[1;33m\u001b[0m\u001b[0m\n\u001b[0;32m      5\u001b[0m __all__ = ['WordCloud', 'STOPWORDS', 'random_color_func',\n",
      "\u001b[1;32mD:\\Anaconda\\lib\\site-packages\\wordcloud\\wordcloud.py\u001b[0m in \u001b[0;36m<module>\u001b[1;34m()\u001b[0m\n\u001b[0;32m     17\u001b[0m \u001b[1;32mfrom\u001b[0m \u001b[0moperator\u001b[0m \u001b[1;32mimport\u001b[0m \u001b[0mitemgetter\u001b[0m\u001b[1;33m\u001b[0m\u001b[0m\n\u001b[0;32m     18\u001b[0m \u001b[1;33m\u001b[0m\u001b[0m\n\u001b[1;32m---> 19\u001b[1;33m \u001b[1;32mfrom\u001b[0m \u001b[0mPIL\u001b[0m \u001b[1;32mimport\u001b[0m \u001b[0mImage\u001b[0m\u001b[1;33m\u001b[0m\u001b[0m\n\u001b[0m\u001b[0;32m     20\u001b[0m \u001b[1;32mfrom\u001b[0m \u001b[0mPIL\u001b[0m \u001b[1;32mimport\u001b[0m \u001b[0mImageColor\u001b[0m\u001b[1;33m\u001b[0m\u001b[0m\n\u001b[0;32m     21\u001b[0m \u001b[1;32mfrom\u001b[0m \u001b[0mPIL\u001b[0m \u001b[1;32mimport\u001b[0m \u001b[0mImageDraw\u001b[0m\u001b[1;33m\u001b[0m\u001b[0m\n",
      "\u001b[1;32mD:\\Anaconda\\lib\\site-packages\\PIL\\Image.py\u001b[0m in \u001b[0;36m<module>\u001b[1;34m()\u001b[0m\n\u001b[0;32m     58\u001b[0m     \u001b[1;31m# Also note that Image.core is not a publicly documented interface,\u001b[0m\u001b[1;33m\u001b[0m\u001b[1;33m\u001b[0m\u001b[0m\n\u001b[0;32m     59\u001b[0m     \u001b[1;31m# and should be considered private and subject to change.\u001b[0m\u001b[1;33m\u001b[0m\u001b[1;33m\u001b[0m\u001b[0m\n\u001b[1;32m---> 60\u001b[1;33m     \u001b[1;32mfrom\u001b[0m \u001b[1;33m.\u001b[0m \u001b[1;32mimport\u001b[0m \u001b[0m_imaging\u001b[0m \u001b[1;32mas\u001b[0m \u001b[0mcore\u001b[0m\u001b[1;33m\u001b[0m\u001b[0m\n\u001b[0m\u001b[0;32m     61\u001b[0m     \u001b[1;32mif\u001b[0m \u001b[0mPILLOW_VERSION\u001b[0m \u001b[1;33m!=\u001b[0m \u001b[0mgetattr\u001b[0m\u001b[1;33m(\u001b[0m\u001b[0mcore\u001b[0m\u001b[1;33m,\u001b[0m \u001b[1;34m'PILLOW_VERSION'\u001b[0m\u001b[1;33m,\u001b[0m \u001b[1;32mNone\u001b[0m\u001b[1;33m)\u001b[0m\u001b[1;33m:\u001b[0m\u001b[1;33m\u001b[0m\u001b[0m\n\u001b[0;32m     62\u001b[0m         raise ImportError(\"The _imaging extension was built for another \"\n",
      "\u001b[1;31mImportError\u001b[0m: DLL load failed: The specified module could not be found."
     ]
    }
   ],
   "source": [
    "# Python program to generate WordCloud\n",
    " \n",
    "# importing all necessery modules\n",
    "from wordcloud import WordCloud, STOPWORDS\n",
    " \n",
    "comment_words = ' '\n",
    "stopwords = set(STOPWORDS)\n",
    " \n",
    "# iterate through the csv file\n",
    "for val in constitution_words:\n",
    "     \n",
    "    # typecaste each val to string\n",
    "    val = str(val)\n",
    " \n",
    "    # split the value\n",
    "    tokens = val.split()\n",
    "     \n",
    "    # Converts each token into lowercase\n",
    "    for i in range(len(tokens)):\n",
    "        tokens[i] = tokens[i].lower()\n",
    "         \n",
    "    for words in tokens:\n",
    "        comment_words = comment_words + words + ' '\n",
    " \n",
    " \n",
    "wordcloud = WordCloud(width = 800, height = 800,\n",
    "                background_color ='white',\n",
    "                stopwords = stopwords,\n",
    "                min_font_size = 10).generate(comment_words)\n",
    " \n",
    "# plot the WordCloud image                       \n",
    "plt.figure(figsize = (8, 8), facecolor = None)\n",
    "plt.imshow(wordcloud)\n",
    "plt.axis(\"off\")\n",
    "plt.tight_layout(pad = 0)"
   ]
  },
  {
   "cell_type": "markdown",
   "metadata": {},
   "source": [
    "Note that the sizes of words reflect their frequency in the document. This is a flashy way to present word counts, but hardly as precise as a table. There are other visualizations for documents. For further information, see the excellent summary _Text Visualization_ by Jeffrey Heer, [Link to Text Visualization](https://courses.cs.washington.edu/courses/cse512/15sp/lectures/CSE512-Text.pdf)."
   ]
  },
  {
   "cell_type": "markdown",
   "metadata": {},
   "source": [
    "### <font color=blue>2.1.4 Tabular Representations of Text</font>"
   ]
  },
  {
   "cell_type": "markdown",
   "metadata": {},
   "source": [
    "The simplest summaries are word counts for a document - the natural _Python_ object for such representation if a _Python_ dictionary of the form  \n",
    "  \n",
    "<center>_word_ : _count_</center>  \n",
    "  \n",
    "as in  \n",
    "  \n",
    "<center>{ 'the' : 294, 'a' : 85, ... }</center>  \n",
    "  \n",
    "Word analyses of documents are quite important, but analyses of phrases, and ultimately, semantics and meaning are even more important. Such matters are too advanced for this course and are properly taken up in courses on data on data mining and machine learning.\n",
    "\n",
    "In the cell below, the frequencies of each word in the U.S. Constitution is calculated in two stages. In the first stage (the first 4 commands) a Python __dict__ (dictionary), __wordfreq__, is created and loaded with key-value pairs, where keys are words, and values are counts. In order to avoid having words with capitalizations counted separately, i.e. \"The\" and \"the\", each word is converted to lower case before being counted. In the second phase (the next 4 commands) words are first sorted in order from largest count to least count (__word_desc__), and then assembled into a new dictionary (__word_desc_dict__) that associates keys (words) with counts in descending count order. The last six commands print the first 20 entries in that dictionary."
   ]
  },
  {
   "cell_type": "code",
   "execution_count": 28,
   "metadata": {},
   "outputs": [
    {
     "name": "stdout",
     "output_type": "stream",
     "text": [
      "the...421\n",
      "of...287\n",
      "and...189\n",
      "shall...180\n",
      "be...124\n",
      "to...109\n",
      "in...89\n",
      "or...77\n",
      "united...54\n",
      "a...52\n",
      "by...47\n",
      "any...42\n",
      "for...41\n",
      "states,...38\n",
      "all...33\n",
      "which...33\n",
      "state...33\n",
      "such...33\n",
      "may...31\n",
      "have...30\n"
     ]
    }
   ],
   "source": [
    "# The next three commands create a dictionary with words as keys, and values as counts.\n",
    "wordfreq = {}\n",
    "for word in constitution_words:\n",
    "    w = word.lower()\n",
    "    wordfreq[w] = wordfreq.setdefault(w, 0) + 1\n",
    "\n",
    "# The next four commands create a dictionary of words sorted in reverse order of word count.\n",
    "words_desc = sorted(wordfreq, key=wordfreq.__getitem__,reverse=True)\n",
    "word_desc_dict = {}\n",
    "for w in words_desc:\n",
    "    word_desc_dict[w] = wordfreq[w]\n",
    "\n",
    "count = 0\n",
    "for key in word_desc_dict.keys():\n",
    "    print(key + \"...\" + str(word_desc_dict[key]))\n",
    "    count = count + 1 \n",
    "    if count >= 20:\n",
    "        break\n"
   ]
  },
  {
   "cell_type": "markdown",
   "metadata": {},
   "source": [
    "## <font color=blue>2.2 Bivariate Data</font>"
   ]
  },
  {
   "cell_type": "markdown",
   "metadata": {},
   "source": [
    "As an introduction to multivariate discussion, we consider the case of data summaries for two numerical measures. As will become apparent, pairwise analysis of variables is the basis for many multivariate methods. "
   ]
  },
  {
   "cell_type": "markdown",
   "metadata": {},
   "source": [
    "### <font color=blue>2.2.1 Numerical Summaries </font>"
   ]
  },
  {
   "cell_type": "markdown",
   "metadata": {},
   "source": [
    "A bivariate dataset consists of $n$ ordered pairs $(x_i, y_i)$, which will often be represented as a _pandas_ _DataFrame_ with $x$'s in one column, and $y$'s in another. In addition to numerical summaries for $x$ and $y$ considered as univariate data, it is also possible to examine the relationships between $x$ and $y$."
   ]
  },
  {
   "cell_type": "markdown",
   "metadata": {},
   "source": [
    "####  <font color=blue>2.2.1.1 Sample Covariance and Correlation</font>"
   ]
  },
  {
   "cell_type": "markdown",
   "metadata": {},
   "source": [
    " One of the simplest such relationships is called __sample covariance__, a measure of the way $x$ and $y$ co-vary. Analogous to univariate sample variance, the sample covariance $s_{xy}$ is defined as  \n",
    "  \n",
    "<center>$s_{xy} = \\frac{1}{n-1} \\sum_{i=0}^{i=n-1} (x_i - \\bar{x})(y_i - \\bar{y})$.</center>  \n",
    "  \n",
    "Note that like the variance, the divisor is $n-1$, not the number in the sample, $n$. A more useful measure of co-varying is the __correlation__, $cor(x,y)$. It is defined as a \"normalized\" number in which the univariate standard deviations of $x$ and $y$ have scaled out:  \n",
    "  \n",
    "<center>$r_{xy} = \\frac{s(x,y}{s(x)s(y)} = \\frac{\\sum_{i=0}^{i=n-1} (x_i - \\bar{x})(y_i - \\bar{y})}{\\left( \\sum_{i=0}^{i=n-1} (x_i - \\bar{x})^2) \\, (\\sum_{i=0}^{i=n-1} (y_i - \\bar{y})^2 \\right)^{1/2}}$.</center>  \n",
    "\n",
    "We will not show it, but the sample correlation will always be a number lying in the interval $[-1,1]$.\n",
    "\n",
    "Recalling the discussion on **standardization** of univariate datasets, one can recognize the correlation $r_{xy}$ as the covariance of standardized data for $x$ and $y$.  \n",
    "  \n",
    "The intuiton behind the definition of covariance and correlation is simple: if high values in one sample are paired with high values in the other and low values of one are paired with low values of the other, then the covariance and correlation will be positive. On the other hand, if high values of one are paired with low values of the other and conversely, then the covariance and correlation will be negative.\n",
    "  \n",
    "The panel of plots below depict datasets having several correlations between -0.9 and +0.9. \n",
    "<img src=\"images/CorrPanelPlots.png\">  "
   ]
  },
  {
   "cell_type": "markdown",
   "metadata": {},
   "source": [
    "To illustrate calculation of covariance and correlation in Python, we first read a dataset of Dow Jones Industrial Average prices and then convert it to a pandas TimeSeries."
   ]
  },
  {
   "cell_type": "code",
   "execution_count": 29,
   "metadata": {},
   "outputs": [
    {
     "name": "stdout",
     "output_type": "stream",
     "text": [
      "['date' 'aapl_close' 'axp_close' 'ba_close' 'cat_close' 'csco_close'\n",
      " 'cvx_close' 'dwdp_close' 'dis_close' 'ge_close' 'gs_close' 'hd_close'\n",
      " 'ibm_close' 'intc_close' 'jnj_close' 'jpm_close' 'ko_close' 'mcd_close'\n",
      " 'mmm_close' 'mrk_close' 'msft_close' 'nke_close' 'pfe_close' 'pg_close'\n",
      " 'trv_close' 'unh_close' 'utx_close' 'v_close' 'vz_close' 'wmt_close'\n",
      " 'xom_close']\n"
     ]
    },
    {
     "data": {
      "text/html": [
       "<div>\n",
       "<style scoped>\n",
       "    .dataframe tbody tr th:only-of-type {\n",
       "        vertical-align: middle;\n",
       "    }\n",
       "\n",
       "    .dataframe tbody tr th {\n",
       "        vertical-align: top;\n",
       "    }\n",
       "\n",
       "    .dataframe thead th {\n",
       "        text-align: right;\n",
       "    }\n",
       "</style>\n",
       "<table border=\"1\" class=\"dataframe\">\n",
       "  <thead>\n",
       "    <tr style=\"text-align: right;\">\n",
       "      <th></th>\n",
       "      <th>aapl_close</th>\n",
       "      <th>axp_close</th>\n",
       "      <th>ba_close</th>\n",
       "      <th>cat_close</th>\n",
       "      <th>csco_close</th>\n",
       "      <th>cvx_close</th>\n",
       "      <th>dwdp_close</th>\n",
       "      <th>dis_close</th>\n",
       "      <th>ge_close</th>\n",
       "      <th>gs_close</th>\n",
       "      <th>...</th>\n",
       "      <th>nke_close</th>\n",
       "      <th>pfe_close</th>\n",
       "      <th>pg_close</th>\n",
       "      <th>trv_close</th>\n",
       "      <th>unh_close</th>\n",
       "      <th>utx_close</th>\n",
       "      <th>v_close</th>\n",
       "      <th>vz_close</th>\n",
       "      <th>wmt_close</th>\n",
       "      <th>xom_close</th>\n",
       "    </tr>\n",
       "    <tr>\n",
       "      <th>date</th>\n",
       "      <th></th>\n",
       "      <th></th>\n",
       "      <th></th>\n",
       "      <th></th>\n",
       "      <th></th>\n",
       "      <th></th>\n",
       "      <th></th>\n",
       "      <th></th>\n",
       "      <th></th>\n",
       "      <th></th>\n",
       "      <th></th>\n",
       "      <th></th>\n",
       "      <th></th>\n",
       "      <th></th>\n",
       "      <th></th>\n",
       "      <th></th>\n",
       "      <th></th>\n",
       "      <th></th>\n",
       "      <th></th>\n",
       "      <th></th>\n",
       "      <th></th>\n",
       "    </tr>\n",
       "  </thead>\n",
       "  <tbody>\n",
       "    <tr>\n",
       "      <th>2011-01-03</th>\n",
       "      <td>47.081429</td>\n",
       "      <td>43.400002</td>\n",
       "      <td>66.400002</td>\n",
       "      <td>94.150002</td>\n",
       "      <td>20.490000</td>\n",
       "      <td>91.940002</td>\n",
       "      <td>34.980000</td>\n",
       "      <td>37.820000</td>\n",
       "      <td>18.280001</td>\n",
       "      <td>173.050003</td>\n",
       "      <td>...</td>\n",
       "      <td>21.522499</td>\n",
       "      <td>17.680000</td>\n",
       "      <td>64.769997</td>\n",
       "      <td>55.820000</td>\n",
       "      <td>37.130001</td>\n",
       "      <td>78.989998</td>\n",
       "      <td>17.629999</td>\n",
       "      <td>36.430000</td>\n",
       "      <td>54.560001</td>\n",
       "      <td>74.550003</td>\n",
       "    </tr>\n",
       "    <tr>\n",
       "      <th>2011-01-04</th>\n",
       "      <td>47.327145</td>\n",
       "      <td>43.950001</td>\n",
       "      <td>66.940002</td>\n",
       "      <td>93.709999</td>\n",
       "      <td>20.520000</td>\n",
       "      <td>91.599998</td>\n",
       "      <td>34.740002</td>\n",
       "      <td>38.990002</td>\n",
       "      <td>18.610001</td>\n",
       "      <td>173.080002</td>\n",
       "      <td>...</td>\n",
       "      <td>20.992500</td>\n",
       "      <td>17.990000</td>\n",
       "      <td>64.949997</td>\n",
       "      <td>55.570000</td>\n",
       "      <td>37.470001</td>\n",
       "      <td>79.120003</td>\n",
       "      <td>17.650000</td>\n",
       "      <td>37.160000</td>\n",
       "      <td>54.770000</td>\n",
       "      <td>74.900002</td>\n",
       "    </tr>\n",
       "    <tr>\n",
       "      <th>2011-01-05</th>\n",
       "      <td>47.714287</td>\n",
       "      <td>45.040001</td>\n",
       "      <td>67.480003</td>\n",
       "      <td>94.519997</td>\n",
       "      <td>20.770000</td>\n",
       "      <td>91.440002</td>\n",
       "      <td>34.680000</td>\n",
       "      <td>39.959999</td>\n",
       "      <td>18.639999</td>\n",
       "      <td>174.000000</td>\n",
       "      <td>...</td>\n",
       "      <td>21.129999</td>\n",
       "      <td>18.110001</td>\n",
       "      <td>64.800003</td>\n",
       "      <td>55.240002</td>\n",
       "      <td>37.590000</td>\n",
       "      <td>79.230003</td>\n",
       "      <td>18.022499</td>\n",
       "      <td>37.669998</td>\n",
       "      <td>54.410000</td>\n",
       "      <td>74.699997</td>\n",
       "    </tr>\n",
       "    <tr>\n",
       "      <th>2011-01-06</th>\n",
       "      <td>47.675713</td>\n",
       "      <td>44.730000</td>\n",
       "      <td>68.800003</td>\n",
       "      <td>93.540001</td>\n",
       "      <td>20.950001</td>\n",
       "      <td>90.690002</td>\n",
       "      <td>35.340000</td>\n",
       "      <td>39.650002</td>\n",
       "      <td>18.559999</td>\n",
       "      <td>172.210007</td>\n",
       "      <td>...</td>\n",
       "      <td>20.940001</td>\n",
       "      <td>18.180000</td>\n",
       "      <td>64.690002</td>\n",
       "      <td>54.389999</td>\n",
       "      <td>38.369999</td>\n",
       "      <td>79.150002</td>\n",
       "      <td>18.292500</td>\n",
       "      <td>36.230000</td>\n",
       "      <td>53.959999</td>\n",
       "      <td>75.180000</td>\n",
       "    </tr>\n",
       "    <tr>\n",
       "      <th>2011-01-07</th>\n",
       "      <td>48.017143</td>\n",
       "      <td>44.360001</td>\n",
       "      <td>69.379997</td>\n",
       "      <td>93.730003</td>\n",
       "      <td>20.969999</td>\n",
       "      <td>91.190002</td>\n",
       "      <td>34.930000</td>\n",
       "      <td>39.450001</td>\n",
       "      <td>18.430000</td>\n",
       "      <td>170.690002</td>\n",
       "      <td>...</td>\n",
       "      <td>20.882500</td>\n",
       "      <td>18.340000</td>\n",
       "      <td>64.500000</td>\n",
       "      <td>53.330002</td>\n",
       "      <td>38.450001</td>\n",
       "      <td>79.080002</td>\n",
       "      <td>18.240000</td>\n",
       "      <td>35.930000</td>\n",
       "      <td>54.080002</td>\n",
       "      <td>75.589996</td>\n",
       "    </tr>\n",
       "  </tbody>\n",
       "</table>\n",
       "<p>5 rows × 30 columns</p>\n",
       "</div>"
      ],
      "text/plain": [
       "            aapl_close  axp_close   ba_close  cat_close  csco_close  \\\n",
       "date                                                                  \n",
       "2011-01-03   47.081429  43.400002  66.400002  94.150002   20.490000   \n",
       "2011-01-04   47.327145  43.950001  66.940002  93.709999   20.520000   \n",
       "2011-01-05   47.714287  45.040001  67.480003  94.519997   20.770000   \n",
       "2011-01-06   47.675713  44.730000  68.800003  93.540001   20.950001   \n",
       "2011-01-07   48.017143  44.360001  69.379997  93.730003   20.969999   \n",
       "\n",
       "            cvx_close  dwdp_close  dis_close   ge_close    gs_close  \\\n",
       "date                                                                  \n",
       "2011-01-03  91.940002   34.980000  37.820000  18.280001  173.050003   \n",
       "2011-01-04  91.599998   34.740002  38.990002  18.610001  173.080002   \n",
       "2011-01-05  91.440002   34.680000  39.959999  18.639999  174.000000   \n",
       "2011-01-06  90.690002   35.340000  39.650002  18.559999  172.210007   \n",
       "2011-01-07  91.190002   34.930000  39.450001  18.430000  170.690002   \n",
       "\n",
       "              ...      nke_close  pfe_close   pg_close  trv_close  unh_close  \\\n",
       "date          ...                                                              \n",
       "2011-01-03    ...      21.522499  17.680000  64.769997  55.820000  37.130001   \n",
       "2011-01-04    ...      20.992500  17.990000  64.949997  55.570000  37.470001   \n",
       "2011-01-05    ...      21.129999  18.110001  64.800003  55.240002  37.590000   \n",
       "2011-01-06    ...      20.940001  18.180000  64.690002  54.389999  38.369999   \n",
       "2011-01-07    ...      20.882500  18.340000  64.500000  53.330002  38.450001   \n",
       "\n",
       "            utx_close    v_close   vz_close  wmt_close  xom_close  \n",
       "date                                                               \n",
       "2011-01-03  78.989998  17.629999  36.430000  54.560001  74.550003  \n",
       "2011-01-04  79.120003  17.650000  37.160000  54.770000  74.900002  \n",
       "2011-01-05  79.230003  18.022499  37.669998  54.410000  74.699997  \n",
       "2011-01-06  79.150002  18.292500  36.230000  53.959999  75.180000  \n",
       "2011-01-07  79.080002  18.240000  35.930000  54.080002  75.589996  \n",
       "\n",
       "[5 rows x 30 columns]"
      ]
     },
     "execution_count": 29,
     "metadata": {},
     "output_type": "execute_result"
    }
   ],
   "source": [
    "# Read the database of Dow Jones Industrial stock closes from the csv file 'djia_close.csv'.\n",
    "djia_close_df = pd.read_csv(\"data/djia_close.csv\")\n",
    "# Ignore these commands for now: they convert dates to a pandas DateTimeIndex\n",
    "from datetime import datetime\n",
    "djia_close_df['date'] = pd.to_datetime([datetime.strptime(x, '%Y-%m-%d') for x in djia_close_df['date']])\n",
    "# Print the column values. The 0th column is 'date', and the DataFrame djia_df is not a TimeSeries type.\n",
    "print(djia_close_df.columns.values)\n",
    "# Set the 'date' column to be the index of djia_ts. This converts the DataFrame djia_df into a TimeSeries djia_ts.\n",
    "djia_close_ts = djia_close_df.set_index('date')\n",
    "djia_close_ts.head()"
   ]
  },
  {
   "cell_type": "markdown",
   "metadata": {},
   "source": [
    "Next we choose two columns from **djia_close_ts**, *aapl_close* and *msft_close*."
   ]
  },
  {
   "cell_type": "code",
   "execution_count": 30,
   "metadata": {},
   "outputs": [
    {
     "data": {
      "text/html": [
       "<div>\n",
       "<style scoped>\n",
       "    .dataframe tbody tr th:only-of-type {\n",
       "        vertical-align: middle;\n",
       "    }\n",
       "\n",
       "    .dataframe tbody tr th {\n",
       "        vertical-align: top;\n",
       "    }\n",
       "\n",
       "    .dataframe thead th {\n",
       "        text-align: right;\n",
       "    }\n",
       "</style>\n",
       "<table border=\"1\" class=\"dataframe\">\n",
       "  <thead>\n",
       "    <tr style=\"text-align: right;\">\n",
       "      <th></th>\n",
       "      <th>aapl_close</th>\n",
       "      <th>msft_close</th>\n",
       "    </tr>\n",
       "    <tr>\n",
       "      <th>date</th>\n",
       "      <th></th>\n",
       "      <th></th>\n",
       "    </tr>\n",
       "  </thead>\n",
       "  <tbody>\n",
       "    <tr>\n",
       "      <th>2011-01-03</th>\n",
       "      <td>47.081429</td>\n",
       "      <td>27.98</td>\n",
       "    </tr>\n",
       "    <tr>\n",
       "      <th>2011-01-04</th>\n",
       "      <td>47.327145</td>\n",
       "      <td>28.09</td>\n",
       "    </tr>\n",
       "    <tr>\n",
       "      <th>2011-01-05</th>\n",
       "      <td>47.714287</td>\n",
       "      <td>28.00</td>\n",
       "    </tr>\n",
       "    <tr>\n",
       "      <th>2011-01-06</th>\n",
       "      <td>47.675713</td>\n",
       "      <td>28.82</td>\n",
       "    </tr>\n",
       "    <tr>\n",
       "      <th>2011-01-07</th>\n",
       "      <td>48.017143</td>\n",
       "      <td>28.60</td>\n",
       "    </tr>\n",
       "  </tbody>\n",
       "</table>\n",
       "</div>"
      ],
      "text/plain": [
       "            aapl_close  msft_close\n",
       "date                              \n",
       "2011-01-03   47.081429       27.98\n",
       "2011-01-04   47.327145       28.09\n",
       "2011-01-05   47.714287       28.00\n",
       "2011-01-06   47.675713       28.82\n",
       "2011-01-07   48.017143       28.60"
      ]
     },
     "execution_count": 30,
     "metadata": {},
     "output_type": "execute_result"
    }
   ],
   "source": [
    "am_ts = djia_close_ts[['aapl_close','msft_close']]\n",
    "am_ts.head()"
   ]
  },
  {
   "cell_type": "markdown",
   "metadata": {},
   "source": [
    "To calculate the covariance and correlation of *aapl_close* and *goog_close*, proceed as shown in the next cell."
   ]
  },
  {
   "cell_type": "code",
   "execution_count": 31,
   "metadata": {},
   "outputs": [
    {
     "name": "stdout",
     "output_type": "stream",
     "text": [
      "             aapl_close  msft_close\n",
      "aapl_close  1460.020483  736.558266\n",
      "msft_close   736.558266  422.357100\n",
      "\n",
      "\n",
      "            aapl_close  msft_close\n",
      "aapl_close    1.000000    0.937967\n",
      "msft_close    0.937967    1.000000\n"
     ]
    }
   ],
   "source": [
    "print(am_ts.cov())\n",
    "print(\"\\n\")\n",
    "print(am_ts.corr())"
   ]
  },
  {
   "cell_type": "markdown",
   "metadata": {},
   "source": [
    "In the $(0,0)$ position of the top covariance matrix, the covariance of *aapl_close* with itself can be checked to be the variance of *aapl_close*. Note that the matrix is symmetric (that is, all $(i,j)$ entries for $i \\ne j$ equal $(j,i)$ entries) so that the covariance of *aapl_close* with *msft_close* equals the covariance of *msft_close* with *aapl_close*. This is so because the covariance formula is symmetric , i.e., $cov(x,y) = cov(y,x)$. If you check the calculation of correlation you can verify that  \n",
    "  \n",
    "<center>$0.937967 = \\frac{736.558266}{\\sqrt{1460.020483}\\sqrt{422.357100}}$.</center>"
   ]
  },
  {
   "cell_type": "markdown",
   "metadata": {},
   "source": [
    "####  <font color=blue>2.2.1.2 Spearman Rank Correlation</font>"
   ]
  },
  {
   "cell_type": "markdown",
   "metadata": {},
   "source": [
    "**Spearman rank correlation** is a simple, robust way to measure co-varying between two variables in a _DataFrame_. As before, consider a sample of $n$ pairs $(x_i, y_i)$. Map each value $x_i$ into its **rank** $r_i$ in its sample. The lowest rank is $1$ and the highest $n$. For example, a sample  \n",
    "  \n",
    "<center>$x = [1, 10, 6, 20, 3, 4]$</center>  \n",
    "  \n",
    "would be mapped to the rank-vector  \n",
    "  \n",
    "<center>$r_x = [1, 5, 4, 6, 2, 3]$.</center>  \n",
    "  \n",
    "The **Spearman rank correlation** between $x$ and $y$ is then just the ordinary correlation of the rank vectors $r_x$ and $r_y$."
   ]
  },
  {
   "cell_type": "markdown",
   "metadata": {},
   "source": [
    "<font color='green6'>**Question**</font>: Suppose that values $(x_i,y_i)$ in a sample are mapped to $(x_i^3,y_i^3)$. Will the correlation coefficient of $x$ and $y$ be the same as $x^3$ and $y^3$? What about the Spearman rank correlation coefficient?  "
   ]
  },
  {
   "cell_type": "code",
   "execution_count": 32,
   "metadata": {},
   "outputs": [
    {
     "data": {
      "text/plain": [
       "SpearmanrResult(correlation=0.9163869915656541, pvalue=0.0)"
      ]
     },
     "execution_count": 32,
     "metadata": {},
     "output_type": "execute_result"
    }
   ],
   "source": [
    "import scipy.stats as stats\n",
    "stats.spearmanr(am_ts[\"aapl_close\"],am_ts[\"msft_close\"])"
   ]
  },
  {
   "cell_type": "markdown",
   "metadata": {},
   "source": [
    "#### <font color=blue>2.2.1.3 Kendall's tau (Coefficient of Concordance)</font>"
   ]
  },
  {
   "cell_type": "markdown",
   "metadata": {},
   "source": [
    "Suppose $n$ pairs $(x_i,y_i)$ are given. For each $i < j$, let $u_{ij}$ be   \n",
    "  \n",
    "<center>$u_{ij} = (x_i - x_j) * (y_i - y_j)$</center>  \n",
    "  \n",
    "and assign \n",
    "\n",
    "<center>$w_{ij} = +1 \\text{ if } u_{ij} > 0, -1 \\text{ if } u_{ij} < 0, \\text{ and } 0 \\text{ if } u_{ij} = 0.$\n",
    "\n",
    "A pair $(i,j)$ is called *concordant* $u_{ij} > 0$ and *discordant* if $u_{ij} < 0$. The **Kendall's tau** formula is equal to the sum of concordant pairs minus the sum of discordant pairs divided by an expression that normalizes the formula between $-1$ and $+1$, inclusive."
   ]
  },
  {
   "cell_type": "code",
   "execution_count": 33,
   "metadata": {},
   "outputs": [
    {
     "data": {
      "text/plain": [
       "KendalltauResult(correlation=0.7524843807234867, pvalue=0.0)"
      ]
     },
     "execution_count": 33,
     "metadata": {},
     "output_type": "execute_result"
    }
   ],
   "source": [
    "# Calculate Kendall's tau\n",
    "stats.kendalltau(am_ts[\"aapl_close\"],am_ts[\"msft_close\"])"
   ]
  },
  {
   "cell_type": "markdown",
   "metadata": {},
   "source": [
    "### <font color=blue>2.2.2 Visual Summaries </font>"
   ]
  },
  {
   "cell_type": "markdown",
   "metadata": {},
   "source": [
    "We begin by importing a TimeSeries of stock prices for *aapl* and *goog*, *Apple* and *Google*."
   ]
  },
  {
   "cell_type": "code",
   "execution_count": 34,
   "metadata": {},
   "outputs": [
    {
     "name": "stdout",
     "output_type": "stream",
     "text": [
      "['date' 'aapl_open' 'aapl_high' 'aapl_low' 'aapl_close' 'aapl_volume'\n",
      " 'goog_open' 'goog_high' 'goog_low' 'goog_close' 'goog_volume']\n",
      "\n",
      "             aapl_open  aapl_high   aapl_low  aapl_close  aapl_volume  \\\n",
      "date                                                                   \n",
      "2011-01-03  46.520000  47.180000  46.405716   47.081429    111284600   \n",
      "2011-01-04  47.491428  47.500000  46.878571   47.327145     77270200   \n",
      "2011-01-05  47.078571  47.762856  47.071430   47.714287     63879900   \n",
      "2011-01-06  47.817142  47.892857  47.557144   47.675713     75107200   \n",
      "2011-01-07  47.712856  48.049999  47.414288   48.017143     77982800   \n",
      "\n",
      "             goog_open   goog_high    goog_low  goog_close  goog_volume  \n",
      "date                                                                     \n",
      "2011-01-03  297.942583  302.493014  297.942583  301.873641      4748100  \n",
      "2011-01-04  302.508009  302.787736  299.760767  300.759750      3662600  \n",
      "2011-01-05  299.735765  304.860676  299.725789  304.231297      5083500  \n",
      "2011-01-06  305.035502  308.906612  304.720797  306.444085      4131000  \n",
      "2011-01-07  307.647884  308.816705  304.760763  307.912617      4218100  \n"
     ]
    }
   ],
   "source": [
    "# Read the database of Dow Jones Industrial stock closes from the csv file 'djia_close.csv'.\n",
    "aapl_goog_df = pd.read_csv(\"data/aapl-goog.csv\")\n",
    "# Ignore these commands for now: they convert dates to a pandas DateTimeIndex\n",
    "from datetime import datetime\n",
    "aapl_goog_df['date'] = pd.to_datetime([datetime.strptime(x, '%Y-%m-%d') for x in aapl_goog_df['date']])\n",
    "# Print the column values. The 0th column is 'date', and the DataFrame djia_df is not a TimeSeries type.\n",
    "print(aapl_goog_df.columns.values)\n",
    "# Set the 'date' column to be the index of djia_ts. This converts the DataFrame djia_df into a TimeSeries djia_ts.\n",
    "aapl_goog_ts = aapl_goog_df.set_index('date')\n",
    "# Print the first 5 rows (using .head()) and the first 5 columns of 'djia_ts'.\n",
    "print(\"\\n\",aapl_goog_ts.iloc[0:5,:])"
   ]
  },
  {
   "cell_type": "markdown",
   "metadata": {},
   "source": [
    "#### <font color=blue>2.2.2.1 Scatterplots</font>"
   ]
  },
  {
   "cell_type": "markdown",
   "metadata": {},
   "source": [
    "Remove all but the *aapl_close* and *goog_close* columns, and make a **scatterplot**."
   ]
  },
  {
   "cell_type": "code",
   "execution_count": 35,
   "metadata": {},
   "outputs": [
    {
     "data": {
      "image/png": "[encoded data removed]",
      "text/plain": [
       "<Figure size 432x288 with 1 Axes>"
      ]
     },
     "metadata": {},
     "output_type": "display_data"
    }
   ],
   "source": [
    "plt.scatter(am_ts[\"aapl_close\"],am_ts[\"msft_close\"])#, s, c=\"g\", alpha=0.5, marker=r'$\\clubsuit$', label=\"Luck\")\n",
    "plt.xlabel(\"AAPL\")\n",
    "plt.ylabel(\"MSFT\")\n",
    "plt.legend(loc=2)\n",
    "plt.show()"
   ]
  },
  {
   "cell_type": "markdown",
   "metadata": {},
   "source": [
    "Observe how \"clumpy\" the data appear in the figure above."
   ]
  },
  {
   "cell_type": "markdown",
   "metadata": {},
   "source": [
    "<font color='green6'>**Question**</font>: How can you interpret that clumpiness?"
   ]
  },
  {
   "cell_type": "markdown",
   "metadata": {},
   "source": [
    "## <font color=blue>2.3 Multivariate Data</font>"
   ]
  },
  {
   "cell_type": "markdown",
   "metadata": {},
   "source": [
    "In this section, we consider the simultaneous analysis of several variables in a *DataFrame*. Some method are simple extensions"
   ]
  },
  {
   "cell_type": "markdown",
   "metadata": {},
   "source": [
    "### <font color=blue>2.3.1 Covariance and Correlation</font>"
   ]
  },
  {
   "cell_type": "markdown",
   "metadata": {},
   "source": [
    "In this section we use the TimeSeries **djia_close_ts** having the closing prices of the 30 stocks in the Dow Jones Industrial Index (DJIA). That data was read in Section 2.2.1.1."
   ]
  },
  {
   "cell_type": "markdown",
   "metadata": {},
   "source": [
    "#### <font color=blue>2.3.1.1 Numerical Measures of Covariance and Correlation</font>"
   ]
  },
  {
   "cell_type": "markdown",
   "metadata": {},
   "source": [
    "In the next cell, we request the covariance of that TimeSeries, and are returned a 30x30 numpy matrix. Each entry of the matrix has the covariance between one column of **djia_close_ts** and another. For example, the (1,3) entry of $178.657637$ is the covariance between *axp_close* and *cat_close*.  \n",
    "  \n",
    "Note that we slice and display only the first 7 rows and columns of the covariance matrix *dj_cov*."
   ]
  },
  {
   "cell_type": "code",
   "execution_count": 36,
   "metadata": {},
   "outputs": [
    {
     "data": {
      "text/html": [
       "<div>\n",
       "<style scoped>\n",
       "    .dataframe tbody tr th:only-of-type {\n",
       "        vertical-align: middle;\n",
       "    }\n",
       "\n",
       "    .dataframe tbody tr th {\n",
       "        vertical-align: top;\n",
       "    }\n",
       "\n",
       "    .dataframe thead th {\n",
       "        text-align: right;\n",
       "    }\n",
       "</style>\n",
       "<table border=\"1\" class=\"dataframe\">\n",
       "  <thead>\n",
       "    <tr style=\"text-align: right;\">\n",
       "      <th></th>\n",
       "      <th>aapl_close</th>\n",
       "      <th>axp_close</th>\n",
       "      <th>ba_close</th>\n",
       "      <th>cat_close</th>\n",
       "      <th>csco_close</th>\n",
       "      <th>cvx_close</th>\n",
       "      <th>dwdp_close</th>\n",
       "    </tr>\n",
       "  </thead>\n",
       "  <tbody>\n",
       "    <tr>\n",
       "      <th>aapl_close</th>\n",
       "      <td>1460.020483</td>\n",
       "      <td>449.263589</td>\n",
       "      <td>2614.148515</td>\n",
       "      <td>458.487143</td>\n",
       "      <td>253.855890</td>\n",
       "      <td>72.037727</td>\n",
       "      <td>444.350901</td>\n",
       "    </tr>\n",
       "    <tr>\n",
       "      <th>axp_close</th>\n",
       "      <td>449.263589</td>\n",
       "      <td>267.231876</td>\n",
       "      <td>947.822185</td>\n",
       "      <td>178.657637</td>\n",
       "      <td>87.146280</td>\n",
       "      <td>106.331068</td>\n",
       "      <td>162.032728</td>\n",
       "    </tr>\n",
       "    <tr>\n",
       "      <th>ba_close</th>\n",
       "      <td>2614.148515</td>\n",
       "      <td>947.822185</td>\n",
       "      <td>5701.291336</td>\n",
       "      <td>1196.090917</td>\n",
       "      <td>512.972545</td>\n",
       "      <td>292.538332</td>\n",
       "      <td>871.691452</td>\n",
       "    </tr>\n",
       "    <tr>\n",
       "      <th>cat_close</th>\n",
       "      <td>458.487143</td>\n",
       "      <td>178.657637</td>\n",
       "      <td>1196.090917</td>\n",
       "      <td>468.359738</td>\n",
       "      <td>89.928594</td>\n",
       "      <td>138.954256</td>\n",
       "      <td>160.184116</td>\n",
       "    </tr>\n",
       "    <tr>\n",
       "      <th>csco_close</th>\n",
       "      <td>253.855890</td>\n",
       "      <td>87.146280</td>\n",
       "      <td>512.972545</td>\n",
       "      <td>89.928594</td>\n",
       "      <td>52.818803</td>\n",
       "      <td>21.057941</td>\n",
       "      <td>86.151395</td>\n",
       "    </tr>\n",
       "    <tr>\n",
       "      <th>cvx_close</th>\n",
       "      <td>72.037727</td>\n",
       "      <td>106.331068</td>\n",
       "      <td>292.538332</td>\n",
       "      <td>138.954256</td>\n",
       "      <td>21.057941</td>\n",
       "      <td>137.005170</td>\n",
       "      <td>36.204104</td>\n",
       "    </tr>\n",
       "    <tr>\n",
       "      <th>dwdp_close</th>\n",
       "      <td>444.350901</td>\n",
       "      <td>162.032728</td>\n",
       "      <td>871.691452</td>\n",
       "      <td>160.184116</td>\n",
       "      <td>86.151395</td>\n",
       "      <td>36.204104</td>\n",
       "      <td>172.168637</td>\n",
       "    </tr>\n",
       "  </tbody>\n",
       "</table>\n",
       "</div>"
      ],
      "text/plain": [
       "             aapl_close   axp_close     ba_close    cat_close  csco_close  \\\n",
       "aapl_close  1460.020483  449.263589  2614.148515   458.487143  253.855890   \n",
       "axp_close    449.263589  267.231876   947.822185   178.657637   87.146280   \n",
       "ba_close    2614.148515  947.822185  5701.291336  1196.090917  512.972545   \n",
       "cat_close    458.487143  178.657637  1196.090917   468.359738   89.928594   \n",
       "csco_close   253.855890   87.146280   512.972545    89.928594   52.818803   \n",
       "cvx_close     72.037727  106.331068   292.538332   138.954256   21.057941   \n",
       "dwdp_close   444.350901  162.032728   871.691452   160.184116   86.151395   \n",
       "\n",
       "             cvx_close  dwdp_close  \n",
       "aapl_close   72.037727  444.350901  \n",
       "axp_close   106.331068  162.032728  \n",
       "ba_close    292.538332  871.691452  \n",
       "cat_close   138.954256  160.184116  \n",
       "csco_close   21.057941   86.151395  \n",
       "cvx_close   137.005170   36.204104  \n",
       "dwdp_close   36.204104  172.168637  "
      ]
     },
     "execution_count": 36,
     "metadata": {},
     "output_type": "execute_result"
    }
   ],
   "source": [
    "dj_cov = djia_close_ts.cov()\n",
    "dj_cov.iloc[0:7,0:7]"
   ]
  },
  {
   "cell_type": "markdown",
   "metadata": {},
   "source": [
    "In order to make later visualizations more manageable, we work with the first 7 columns of *djia_close_ts*, **djia7_ts** and produce a correlation matrix for that data. "
   ]
  },
  {
   "cell_type": "code",
   "execution_count": 37,
   "metadata": {},
   "outputs": [
    {
     "data": {
      "text/html": [
       "<div>\n",
       "<style scoped>\n",
       "    .dataframe tbody tr th:only-of-type {\n",
       "        vertical-align: middle;\n",
       "    }\n",
       "\n",
       "    .dataframe tbody tr th {\n",
       "        vertical-align: top;\n",
       "    }\n",
       "\n",
       "    .dataframe thead th {\n",
       "        text-align: right;\n",
       "    }\n",
       "</style>\n",
       "<table border=\"1\" class=\"dataframe\">\n",
       "  <thead>\n",
       "    <tr style=\"text-align: right;\">\n",
       "      <th></th>\n",
       "      <th>aapl_close</th>\n",
       "      <th>axp_close</th>\n",
       "      <th>ba_close</th>\n",
       "      <th>cat_close</th>\n",
       "      <th>csco_close</th>\n",
       "      <th>cvx_close</th>\n",
       "      <th>dwdp_close</th>\n",
       "    </tr>\n",
       "  </thead>\n",
       "  <tbody>\n",
       "    <tr>\n",
       "      <th>aapl_close</th>\n",
       "      <td>1.000000</td>\n",
       "      <td>0.719246</td>\n",
       "      <td>0.906075</td>\n",
       "      <td>0.554444</td>\n",
       "      <td>0.914142</td>\n",
       "      <td>0.161069</td>\n",
       "      <td>0.886277</td>\n",
       "    </tr>\n",
       "    <tr>\n",
       "      <th>axp_close</th>\n",
       "      <td>0.719246</td>\n",
       "      <td>1.000000</td>\n",
       "      <td>0.767885</td>\n",
       "      <td>0.504996</td>\n",
       "      <td>0.733517</td>\n",
       "      <td>0.555709</td>\n",
       "      <td>0.755408</td>\n",
       "    </tr>\n",
       "    <tr>\n",
       "      <th>ba_close</th>\n",
       "      <td>0.906075</td>\n",
       "      <td>0.767885</td>\n",
       "      <td>1.000000</td>\n",
       "      <td>0.731961</td>\n",
       "      <td>0.934788</td>\n",
       "      <td>0.331000</td>\n",
       "      <td>0.879831</td>\n",
       "    </tr>\n",
       "    <tr>\n",
       "      <th>cat_close</th>\n",
       "      <td>0.554444</td>\n",
       "      <td>0.504996</td>\n",
       "      <td>0.731961</td>\n",
       "      <td>1.000000</td>\n",
       "      <td>0.571760</td>\n",
       "      <td>0.548547</td>\n",
       "      <td>0.564096</td>\n",
       "    </tr>\n",
       "    <tr>\n",
       "      <th>csco_close</th>\n",
       "      <td>0.914142</td>\n",
       "      <td>0.733517</td>\n",
       "      <td>0.934788</td>\n",
       "      <td>0.571760</td>\n",
       "      <td>1.000000</td>\n",
       "      <td>0.247544</td>\n",
       "      <td>0.903423</td>\n",
       "    </tr>\n",
       "    <tr>\n",
       "      <th>cvx_close</th>\n",
       "      <td>0.161069</td>\n",
       "      <td>0.555709</td>\n",
       "      <td>0.331000</td>\n",
       "      <td>0.548547</td>\n",
       "      <td>0.247544</td>\n",
       "      <td>1.000000</td>\n",
       "      <td>0.235729</td>\n",
       "    </tr>\n",
       "    <tr>\n",
       "      <th>dwdp_close</th>\n",
       "      <td>0.886277</td>\n",
       "      <td>0.755408</td>\n",
       "      <td>0.879831</td>\n",
       "      <td>0.564096</td>\n",
       "      <td>0.903423</td>\n",
       "      <td>0.235729</td>\n",
       "      <td>1.000000</td>\n",
       "    </tr>\n",
       "  </tbody>\n",
       "</table>\n",
       "</div>"
      ],
      "text/plain": [
       "            aapl_close  axp_close  ba_close  cat_close  csco_close  cvx_close  \\\n",
       "aapl_close    1.000000   0.719246  0.906075   0.554444    0.914142   0.161069   \n",
       "axp_close     0.719246   1.000000  0.767885   0.504996    0.733517   0.555709   \n",
       "ba_close      0.906075   0.767885  1.000000   0.731961    0.934788   0.331000   \n",
       "cat_close     0.554444   0.504996  0.731961   1.000000    0.571760   0.548547   \n",
       "csco_close    0.914142   0.733517  0.934788   0.571760    1.000000   0.247544   \n",
       "cvx_close     0.161069   0.555709  0.331000   0.548547    0.247544   1.000000   \n",
       "dwdp_close    0.886277   0.755408  0.879831   0.564096    0.903423   0.235729   \n",
       "\n",
       "            dwdp_close  \n",
       "aapl_close    0.886277  \n",
       "axp_close     0.755408  \n",
       "ba_close      0.879831  \n",
       "cat_close     0.564096  \n",
       "csco_close    0.903423  \n",
       "cvx_close     0.235729  \n",
       "dwdp_close    1.000000  "
      ]
     },
     "execution_count": 37,
     "metadata": {},
     "output_type": "execute_result"
    }
   ],
   "source": [
    "djia7_ts = djia_close_ts.iloc[:,0:7]\n",
    "djia7_ts.corr()"
   ]
  },
  {
   "cell_type": "markdown",
   "metadata": {},
   "source": [
    "#### <font color=blue>2.3.1.2 A Visual Measure of Correlation - The Heatmap</font>"
   ]
  },
  {
   "cell_type": "markdown",
   "metadata": {},
   "source": [
    "In the following cell, we show a **heatmap** of the 30x30 djia correlation matrix."
   ]
  },
  {
   "cell_type": "code",
   "execution_count": 38,
   "metadata": {},
   "outputs": [
    {
     "data": {
      "text/plain": [
       "<matplotlib.axes._subplots.AxesSubplot at 0x21a94a1710>"
      ]
     },
     "execution_count": 38,
     "metadata": {},
     "output_type": "execute_result"
    },
    {
     "data": {
      "image/png": "[encoded data removed]",
      "text/plain": [
       "<Figure size 792x648 with 2 Axes>"
      ]
     },
     "metadata": {},
     "output_type": "display_data"
    }
   ],
   "source": [
    "# Generate a 30x30 correlation matrix \n",
    "djia_corr = djia_close_ts.corr()\n",
    "\n",
    "# Generate a mask for the upper triangle\n",
    "mask = np.zeros_like(djia_corr, dtype=np.bool)\n",
    "mask[np.triu_indices_from(mask)] = True\n",
    "\n",
    "# Set up the matplotlib figure\n",
    "f, ax = plt.subplots(figsize=(11, 9))\n",
    "\n",
    "# Generate a custom diverging colormap\n",
    "cmap = sns.diverging_palette(220, 10, as_cmap=True)\n",
    "\n",
    "# Draw the heatmap with the mask and correct aspect ratio\n",
    "sns.heatmap(djia_corr, mask=mask, cmap=cmap, vmax=.3, center=0, square=True, linewidths=.5, cbar_kws={\"shrink\": .5})"
   ]
  },
  {
   "cell_type": "markdown",
   "metadata": {},
   "source": [
    "Source: [https://seaborn.pydata.org/examples/many_pairwise_correlations.html](https://seaborn.pydata.org/examples/many_pairwise_correlations.html)"
   ]
  },
  {
   "cell_type": "markdown",
   "metadata": {},
   "source": [
    "<font color='green6'>**Question**</font>: What do you think of this heatmap? Is is effective?"
   ]
  },
  {
   "cell_type": "markdown",
   "metadata": {},
   "source": [
    "#### <font color=blue>2.3.1.3 Multiple Correlation</font>"
   ]
  },
  {
   "cell_type": "markdown",
   "metadata": {},
   "source": [
    "This topic will be discussed in the section(s) on statistics."
   ]
  },
  {
   "cell_type": "markdown",
   "metadata": {},
   "source": [
    "### <font color=blue>2.3.2 Network Data</font>"
   ]
  },
  {
   "cell_type": "markdown",
   "metadata": {},
   "source": [
    "Networks are prevasive in the interconnected works of out era. As an obvious example, people establish connections on Facebook and Twitter. But there are less obvious examples. For example, authors of scholarly publications cite other authors and one may say that (author, cited author) is a \"directed link\" from the first to the second link. Power grids are interlinked and at a basic level, are composed of generating, transmission, distribution and customer \"nodes\". Each of these nodes is connected in a vast directed network in whidh power flows from one node to others. This is shown in the following diagram:  \n",
    "\n",
    "<img src=\"images/power_grid.jpg\" /> Source: [Electrical Power Grid: Power and Working](https://3.bp.blogspot.com/-WM-es1A-K6A/VoaEcBD-J8I/AAAAAAAABtQ/iW3CDr11gp4/s1600/power%2Bgrid.jpg)"
   ]
  },
  {
   "cell_type": "markdown",
   "metadata": {},
   "source": [
    "A map of the major electrical transmission network in 2012 India, with connections from generating stations to distribution nodes, 400kV and above.\n",
    "<img src=\"images/GridMap2012_400kVAndAbove_India.png\" />"
   ]
  },
  {
   "cell_type": "markdown",
   "metadata": {},
   "source": [
    "Source: \"https://www.geni.org/globalenergy/library/national_energy_grid/india/graphics/GridMap2012_400kV_above.pdf\""
   ]
  },
  {
   "cell_type": "code",
   "execution_count": 39,
   "metadata": {},
   "outputs": [],
   "source": [
    "# Author: Aric Hagberg (hagberg@lanl.gov)\n",
    "\n",
    "#    Copyright (C) 2007-2018 by\n",
    "#    Aric Hagberg <hagberg@lanl.gov>\n",
    "#    Dan Schult <dschult@colgate.edu>\n",
    "#    Pieter Swart <swart@lanl.gov>\n",
    "#    All rights reserved.\n",
    "#    BSD license.\n",
    "\n",
    "try:  # Python 3.x\n",
    "    import urllib.request as urllib\n",
    "except ImportError:  # Python 2.x\n",
    "    import urllib\n",
    "import io\n",
    "import zipfile\n",
    "\n",
    "import matplotlib.pyplot as plt\n",
    "import networkx as nx\n",
    "%matplotlib inline"
   ]
  },
  {
   "cell_type": "code",
   "execution_count": 40,
   "metadata": {},
   "outputs": [],
   "source": [
    "url = \"http://www-personal.umich.edu/~mejn/netdata/football.zip\"\n",
    "\n",
    "sock = urllib.urlopen(url)  # open URL\n",
    "s = io.BytesIO(sock.read())  # read into BytesIO \"file\"\n",
    "sock.close()\n",
    "\n",
    "zf = zipfile.ZipFile(s)  # zipfile object\n",
    "txt = zf.read('football.txt').decode()  # read info file\n",
    "gml = zf.read('football.gml').decode()  # read gml data\n",
    "# throw away bogus first line with # from mejn files\n",
    "gml = gml.split('\\n')[1:]\n",
    "G = nx.parse_gml(gml)  # parse gml data"
   ]
  },
  {
   "cell_type": "code",
   "execution_count": 41,
   "metadata": {},
   "outputs": [
    {
     "name": "stdout",
     "output_type": "stream",
     "text": [
      "The file football.gml contains the network of American football games\n",
      "between Division IA colleges during regular season Fall 2000, as compiled\n",
      "by M. Girvan and M. Newman.  The nodes have values that indicate to which\n",
      "conferences they belong.  The values are as follows:\n",
      "\n",
      "  0 = Atlantic Coast\n",
      "  1 = Big East\n",
      "  2 = Big Ten\n",
      "  3 = Big Twelve\n",
      "  4 = Conference USA\n",
      "  5 = Independents\n",
      "  6 = Mid-American\n",
      "  7 = Mountain West\n",
      "  8 = Pacific Ten\n",
      "  9 = Southeastern\n",
      " 10 = Sun Belt\n",
      " 11 = Western Athletic\n",
      "\n",
      "If you make use of these data, please cite M. Girvan and M. E. J. Newman,\n",
      "Community structure in social and biological networks,\n",
      "Proc. Natl. Acad. Sci. USA 99, 7821-7826 (2002).\n",
      "\n",
      "Correction: Two edges were erroneously duplicated in this data set, and\n",
      "have been removed (21 SEP 2014)\n",
      "\n"
     ]
    }
   ],
   "source": [
    "print(txt)"
   ]
  },
  {
   "cell_type": "code",
   "execution_count": 42,
   "metadata": {},
   "outputs": [
    {
     "name": "stdout",
     "output_type": "stream",
     "text": [
      "BrighamYoung 12\n",
      "FloridaState 12\n",
      "Iowa 12\n",
      "KansasState 12\n",
      "NewMexico 11\n",
      "TexasTech 12\n",
      "PennState 12\n",
      "SouthernCalifornia 12\n",
      "ArizonaState 11\n",
      "SanDiegoState 11\n",
      "Baylor 10\n",
      "NorthTexas 10\n",
      "NorthernIllinois 10\n",
      "Northwestern 11\n",
      "WesternMichigan 10\n",
      "Wisconsin 12\n",
      "Wyoming 11\n",
      "Auburn 11\n",
      "Akron 11\n",
      "VirginiaTech 11\n"
     ]
    }
   ],
   "source": [
    "# print degree for each team - number of games\n",
    "count = 0\n",
    "for n, d in G.degree():\n",
    "    print('%s %d' % (n, d))\n",
    "    count = count + 1\n",
    "    if count >= 20:\n",
    "        break"
   ]
  },
  {
   "cell_type": "code",
   "execution_count": 43,
   "metadata": {},
   "outputs": [
    {
     "data": {
      "image/png": "[encoded data removed]",
      "text/plain": [
       "<Figure size 432x288 with 1 Axes>"
      ]
     },
     "metadata": {},
     "output_type": "display_data"
    }
   ],
   "source": [
    "options = {\n",
    "    'node_color': 'black',\n",
    "    'node_size': 50,\n",
    "    'line_color': 'grey',\n",
    "    'linewidths': 0,\n",
    "    'width': 0.1,\n",
    "}\n",
    "nx.draw(G, **options)\n",
    "plt.show()"
   ]
  },
  {
   "cell_type": "markdown",
   "metadata": {},
   "source": [
    "## <font color=blue>2.4 Special Data</font>"
   ]
  },
  {
   "cell_type": "markdown",
   "metadata": {},
   "source": [
    "### <font color=blue>2.4.1 Time Series Data</font>"
   ]
  },
  {
   "cell_type": "markdown",
   "metadata": {},
   "source": [
    "__Time series__ are datasets in which the ordering of values is important. Usually, each value in a time series has an associated timestamp. As we observed earlier, a _pandas_ __TimeSeries__ is a specialized __DataFrame__ which has an index of times in ascending order. Consider the example below:"
   ]
  },
  {
   "cell_type": "code",
   "execution_count": 44,
   "metadata": {},
   "outputs": [
    {
     "ename": "ModuleNotFoundError",
     "evalue": "No module named 'matplotlib.finance'",
     "output_type": "error",
     "traceback": [
      "\u001b[1;31m---------------------------------------------------------------------------\u001b[0m",
      "\u001b[1;31mModuleNotFoundError\u001b[0m                       Traceback (most recent call last)",
      "\u001b[1;32m<ipython-input-44-b3efe64ee0d9>\u001b[0m in \u001b[0;36m<module>\u001b[1;34m()\u001b[0m\n\u001b[0;32m      2\u001b[0m \u001b[1;32mimport\u001b[0m \u001b[0mmatplotlib\u001b[0m\u001b[1;33m.\u001b[0m\u001b[0mpyplot\u001b[0m \u001b[1;32mas\u001b[0m \u001b[0mplt\u001b[0m\u001b[1;33m\u001b[0m\u001b[0m\n\u001b[0;32m      3\u001b[0m \u001b[1;32mfrom\u001b[0m \u001b[0mmatplotlib\u001b[0m\u001b[1;33m.\u001b[0m\u001b[0mdates\u001b[0m \u001b[1;32mimport\u001b[0m \u001b[0mDateFormatter\u001b[0m\u001b[1;33m,\u001b[0m \u001b[0mWeekdayLocator\u001b[0m\u001b[1;33m,\u001b[0m    \u001b[0mDayLocator\u001b[0m\u001b[1;33m,\u001b[0m \u001b[0mMONDAY\u001b[0m\u001b[1;33m\u001b[0m\u001b[0m\n\u001b[1;32m----> 4\u001b[1;33m \u001b[1;32mfrom\u001b[0m \u001b[0mmatplotlib\u001b[0m\u001b[1;33m.\u001b[0m\u001b[0mfinance\u001b[0m \u001b[1;32mimport\u001b[0m \u001b[0mquotes_historical_yahoo_ohlc\u001b[0m\u001b[1;33m,\u001b[0m \u001b[0mcandlestick_ohlc\u001b[0m\u001b[1;33m\u001b[0m\u001b[0m\n\u001b[0m\u001b[0;32m      5\u001b[0m \u001b[1;32mimport\u001b[0m \u001b[0mdatetime\u001b[0m\u001b[1;33m\u001b[0m\u001b[0m\n\u001b[0;32m      6\u001b[0m \u001b[1;33m\u001b[0m\u001b[0m\n",
      "\u001b[1;31mModuleNotFoundError\u001b[0m: No module named 'matplotlib.finance'"
     ]
    }
   ],
   "source": [
    "#!/usr/bin/env python\n",
    "import matplotlib.pyplot as plt\n",
    "from matplotlib.dates import DateFormatter, WeekdayLocator,\\\n",
    "    DayLocator, MONDAY\n",
    "from matplotlib.finance import quotes_historical_yahoo_ohlc, candlestick_ohlc\n",
    "import datetime\n",
    "\n",
    "mondays = WeekdayLocator(MONDAY)        # major ticks on the mondays\n",
    "alldays = DayLocator()              # minor ticks on the days\n",
    "weekFormatter = DateFormatter('%b %d')  # e.g., Jan 12\n",
    "dayFormatter = DateFormatter('%d')      # e.g., 12\n",
    "\n",
    "# Select all dates in year 2016\n",
    "b2016 = (aapl_goog_ts.index.year == 2016)\n",
    "df = aapl_goog_df[b2016]\n",
    "\n",
    "# Create a list for the candlestick function\n",
    "quotes = []\n",
    "\n",
    "# Load the quotes list in the correct format\n",
    "nrows = df.shape[0]\n",
    "for i in range(nrows):\n",
    "  rowi = df.iloc[i]\n",
    "  append_me = float(rowi['date'].toordinal()),rowi['aapl_open'], rowi['aapl_high'], rowi['aapl_low'], rowi['aapl_close']\n",
    "  quotes.append(append_me)\n",
    "    \n",
    "#print(quotes)\n",
    "\n",
    "fig, ax = plt.subplots()\n",
    "fig.subplots_adjust(bottom=0.2)\n",
    "ax.xaxis.set_major_locator(mondays)\n",
    "#ax.xaxis.set_minor_locator(alldays)\n",
    "ax.xaxis.set_major_formatter(weekFormatter)\n",
    "#ax.xaxis.set_minor_formatter(dayFormatter)\n",
    "\n",
    "#plot_day_summary(ax, quotes, ticksize=3)\n",
    "candlestick_ohlc(ax, quotes, width=0.6)\n",
    "\n",
    "ax.xaxis_date()\n",
    "ax.autoscale_view()\n",
    "plt.setp(plt.gca().get_xticklabels(), rotation=45, horizontalalignment='right')\n",
    "\n",
    "plt.show()"
   ]
  },
  {
   "cell_type": "markdown",
   "metadata": {},
   "source": [
    "### <font color=blue>2.4.2 Audio Data</font>"
   ]
  },
  {
   "cell_type": "markdown",
   "metadata": {},
   "source": [
    "Audio data can be analyzed in Python, but it is rather complicated because there are so many different audio formats. The link [Audio in Python](https://wiki.python.org/moin/Audio/) provides a starting point. The most important data science audio analysis is \"voice and language recognition\" software. This area is currently under rapid development although the improvements over the last decade are incredible. They include apps that allow one to write documents or command your computer (i.e., not using a keyboard) [Dragon Naturally Speaking](https://en.wikipedia.org/wiki/Dragon_NaturallySpeaking).  \n",
    "  \n",
    "For an introduction to Speech Recognition, see [The Ultimate Guide To Speech Recognition With Python](https://realpython.com/python-speech-recognition/). For an advanced machine learning example, see [Getting Started with Audio Data Analysis using Deep Learning](https://www.analyticsvidhya.com/blog/2017/08/audio-voice-processing-deep-learning/).  \n",
    "  \n",
    "We will not discuss audio data any further in this course."
   ]
  },
  {
   "cell_type": "markdown",
   "metadata": {},
   "source": [
    "### <font color=blue>2.4.3 Microarray Data</font>"
   ]
  },
  {
   "cell_type": "markdown",
   "metadata": {},
   "source": [
    "In genetic research and medicine, high tech machines can scan cellular samples and produce huge datasets of cellular genetics.  This area is really specialized. To appreciate it, you need to understand cell and genetic biology, and to a lesser degree to instrumentation. See [Using Python (and R) to draw a Heatmap from Microarray Data](https://warwick.ac.uk/fac/sci/moac/people/students/peter_cock/python/heatmap/) for an introduction to heatmap representations of such data. A sample heatmap is shown below: <img src=\"images/MicroarrayDataFromPython.png\">"
   ]
  },
  {
   "cell_type": "markdown",
   "metadata": {},
   "source": [
    "Source: https://warwick.ac.uk/fac/sci/moac/people/students/peter_cock/python/heatmap/"
   ]
  },
  {
   "cell_type": "markdown",
   "metadata": {},
   "source": [
    "### <font color=blue>2.4.4 Image Data</font>"
   ]
  },
  {
   "cell_type": "markdown",
   "metadata": {},
   "source": [
    "Image analysis is a huge and active area of data science, machine learning (ML) and artificial intelligence (AI). Some obvious AI applications: Autonomous Vehicles, Robotics and Medical Diagnosis of XRays. This area is too specialized for this course. A general Python package for the analysis of such data is [Scikit-Image](https://www.scipy-lectures.org/packages/scikit-image/index.html)."
   ]
  },
  {
   "cell_type": "markdown",
   "metadata": {},
   "source": [
    "### <font color=blue>2.4.5 Geodata</font>"
   ]
  },
  {
   "cell_type": "markdown",
   "metadata": {},
   "source": [
    "A package under development, [GeoPandas](http://geopandas.org/), makes operating with spatial, geographical data easier that it is if one starts from scratch. Here are a few examples - [Geographical Display Examples](http://geopandas.org/gallery/index.html). In the preparation instructions for this class, you were to asked to install the _Pandas_ package __geopandas__. In my Ubuntu linux, I needed to issue the commands:  \n",
    "\n",
    "  <center>conda install -c conda-forge cartopy</center>\n",
    "<center>pip install geopandas geoplot descartes</center>  \n",
    "  \n",
    "The example below plots example data on a Mercador projection of the world."
   ]
  },
  {
   "cell_type": "code",
   "execution_count": 45,
   "metadata": {},
   "outputs": [],
   "source": [
    "import shapely\n",
    "import geoplot\n",
    "import geopandas\n",
    "\n",
    "path = geopandas.datasets.get_path('naturalearth_lowres')\n",
    "df = geopandas.read_file(path)\n",
    "# Add a column we'll use later\n",
    "df['gdp_pp'] = df['gdp_md_est'] / df['pop_est']\n",
    "\n",
    "boroughs = geopandas.read_file(geopandas.datasets.get_path('nybb')).to_crs(epsg='4326')\n",
    "injurious_collisions = geopandas.read_file(\n",
    "    \"https://github.com/ResidentMario/geoplot-data/raw/master/nyc-injurious-collisions.geojson\")"
   ]
  },
  {
   "cell_type": "code",
   "execution_count": 46,
   "metadata": {},
   "outputs": [
    {
     "data": {
      "text/html": [
       "<div>\n",
       "<style scoped>\n",
       "    .dataframe tbody tr th:only-of-type {\n",
       "        vertical-align: middle;\n",
       "    }\n",
       "\n",
       "    .dataframe tbody tr th {\n",
       "        vertical-align: top;\n",
       "    }\n",
       "\n",
       "    .dataframe thead th {\n",
       "        text-align: right;\n",
       "    }\n",
       "</style>\n",
       "<table border=\"1\" class=\"dataframe\">\n",
       "  <thead>\n",
       "    <tr style=\"text-align: right;\">\n",
       "      <th></th>\n",
       "      <th>pop_est</th>\n",
       "      <th>continent</th>\n",
       "      <th>name</th>\n",
       "      <th>iso_a3</th>\n",
       "      <th>gdp_md_est</th>\n",
       "      <th>geometry</th>\n",
       "      <th>gdp_pp</th>\n",
       "    </tr>\n",
       "  </thead>\n",
       "  <tbody>\n",
       "    <tr>\n",
       "      <th>0</th>\n",
       "      <td>28400000.0</td>\n",
       "      <td>Asia</td>\n",
       "      <td>Afghanistan</td>\n",
       "      <td>AFG</td>\n",
       "      <td>22270.0</td>\n",
       "      <td>POLYGON ((61.21081709172574 35.65007233330923,...</td>\n",
       "      <td>0.000784</td>\n",
       "    </tr>\n",
       "    <tr>\n",
       "      <th>1</th>\n",
       "      <td>12799293.0</td>\n",
       "      <td>Africa</td>\n",
       "      <td>Angola</td>\n",
       "      <td>AGO</td>\n",
       "      <td>110300.0</td>\n",
       "      <td>(POLYGON ((16.32652835456705 -5.87747039146621...</td>\n",
       "      <td>0.008618</td>\n",
       "    </tr>\n",
       "    <tr>\n",
       "      <th>2</th>\n",
       "      <td>3639453.0</td>\n",
       "      <td>Europe</td>\n",
       "      <td>Albania</td>\n",
       "      <td>ALB</td>\n",
       "      <td>21810.0</td>\n",
       "      <td>POLYGON ((20.59024743010491 41.85540416113361,...</td>\n",
       "      <td>0.005993</td>\n",
       "    </tr>\n",
       "    <tr>\n",
       "      <th>3</th>\n",
       "      <td>4798491.0</td>\n",
       "      <td>Asia</td>\n",
       "      <td>United Arab Emirates</td>\n",
       "      <td>ARE</td>\n",
       "      <td>184300.0</td>\n",
       "      <td>POLYGON ((51.57951867046327 24.24549713795111,...</td>\n",
       "      <td>0.038408</td>\n",
       "    </tr>\n",
       "    <tr>\n",
       "      <th>4</th>\n",
       "      <td>40913584.0</td>\n",
       "      <td>South America</td>\n",
       "      <td>Argentina</td>\n",
       "      <td>ARG</td>\n",
       "      <td>573900.0</td>\n",
       "      <td>(POLYGON ((-65.50000000000003 -55.199999999999...</td>\n",
       "      <td>0.014027</td>\n",
       "    </tr>\n",
       "  </tbody>\n",
       "</table>\n",
       "</div>"
      ],
      "text/plain": [
       "      pop_est      continent                  name iso_a3  gdp_md_est  \\\n",
       "0  28400000.0           Asia           Afghanistan    AFG     22270.0   \n",
       "1  12799293.0         Africa                Angola    AGO    110300.0   \n",
       "2   3639453.0         Europe               Albania    ALB     21810.0   \n",
       "3   4798491.0           Asia  United Arab Emirates    ARE    184300.0   \n",
       "4  40913584.0  South America             Argentina    ARG    573900.0   \n",
       "\n",
       "                                            geometry    gdp_pp  \n",
       "0  POLYGON ((61.21081709172574 35.65007233330923,...  0.000784  \n",
       "1  (POLYGON ((16.32652835456705 -5.87747039146621...  0.008618  \n",
       "2  POLYGON ((20.59024743010491 41.85540416113361,...  0.005993  \n",
       "3  POLYGON ((51.57951867046327 24.24549713795111,...  0.038408  \n",
       "4  (POLYGON ((-65.50000000000003 -55.199999999999...  0.014027  "
      ]
     },
     "execution_count": 46,
     "metadata": {},
     "output_type": "execute_result"
    }
   ],
   "source": [
    "df.head()"
   ]
  },
  {
   "cell_type": "code",
   "execution_count": 47,
   "metadata": {
    "scrolled": true
   },
   "outputs": [
    {
     "data": {
      "text/plain": [
       "<matplotlib.axes._subplots.AxesSubplot at 0x21adf7d208>"
      ]
     },
     "execution_count": 47,
     "metadata": {},
     "output_type": "execute_result"
    },
    {
     "data": {
      "image/png": "[encoded data removed]",
      "text/plain": [
       "<Figure size 576x288 with 1 Axes>"
      ]
     },
     "metadata": {},
     "output_type": "display_data"
    }
   ],
   "source": [
    "geoplot.polyplot(df, figsize=(8, 4)) # This command plots a mercador projection with country borders but without colors"
   ]
  },
  {
   "cell_type": "code",
   "execution_count": 48,
   "metadata": {},
   "outputs": [
    {
     "data": {
      "image/png": "[encoded data removed]",
      "text/plain": [
       "<Figure size 576x288 with 1 Axes>"
      ]
     },
     "metadata": {},
     "output_type": "display_data"
    }
   ],
   "source": [
    "# One can project maps onto a sphere\n",
    "import geoplot.crs as gcrs\n",
    "ax = geoplot.polyplot(df, projection=gcrs.Orthographic(), figsize=(8, 4))\n",
    "ax.set_global()\n",
    "ax.outline_patch.set_visible(True)"
   ]
  },
  {
   "cell_type": "code",
   "execution_count": 49,
   "metadata": {
    "scrolled": true
   },
   "outputs": [
    {
     "name": "stderr",
     "output_type": "stream",
     "text": [
      "D:\\Anaconda\\lib\\site-packages\\pysal\\__init__.py:65: VisibleDeprecationWarning: PySAL's API will be changed on 2018-12-31. The last release made with this API is version 1.14.4. A preview of the next API version is provided in the `pysal` 2.0 prelease candidate. The API changes and a guide on how to change imports is provided at https://pysal.org/about\n",
      "  ), VisibleDeprecationWarning)\n"
     ]
    },
    {
     "data": {
      "text/plain": [
       "<matplotlib.axes._subplots.AxesSubplot at 0x21af3bcc88>"
      ]
     },
     "execution_count": 49,
     "metadata": {},
     "output_type": "execute_result"
    },
    {
     "data": {
      "image/png": "[encoded data removed]",
      "text/plain": [
       "<Figure size 576x288 with 1 Axes>"
      ]
     },
     "metadata": {},
     "output_type": "display_data"
    }
   ],
   "source": [
    "# Plot country populations using shades of green\n",
    "geoplot.choropleth(df, hue='gdp_pp', cmap='Greens', figsize=(8, 4))"
   ]
  },
  {
   "cell_type": "code",
   "execution_count": 1,
   "metadata": {},
   "outputs": [],
   "source": [
    "%magic"
   ]
  }
 ],
 "metadata": {
  "kernelspec": {
   "display_name": "Python 3",
   "language": "python",
   "name": "python3"
  },
  "language_info": {
   "codemirror_mode": {
    "name": "ipython",
    "version": 3
   },
   "file_extension": ".py",
   "mimetype": "text/x-python",
   "name": "python",
   "nbconvert_exporter": "python",
   "pygments_lexer": "ipython3",
   "version": "3.6.5"
  }
 },
 "nbformat": 4,
 "nbformat_minor": 2
}
