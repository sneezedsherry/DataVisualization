{
  "nbformat": 4,
  "nbformat_minor": 0,
  "metadata": {
    "colab": {
      "name": "Music-Sales- Time-series",
      "version": "0.3.2",
      "provenance": [],
      "include_colab_link": true
    },
    "kernelspec": {
      "name": "python3",
      "display_name": "Python 3"
    }
  },
  "cells": [
    {
      "cell_type": "markdown",
      "metadata": {
        "id": "view-in-github",
        "colab_type": "text"
      },
      "source": [
        "<a href=\"https://colab.research.google.com/github/sneezedsherry/DataVisualization/blob/master/Time_Series_Plot.ipynb\" target=\"_parent\"><img src=\"https://colab.research.google.com/assets/colab-badge.svg\" alt=\"Open In Colab\"/></a>"
      ]
    },
    {
      "cell_type": "code",
      "metadata": {
        "id": "ojEVj2UYp9kN",
        "colab_type": "code",
        "colab": {}
      },
      "source": [
        "#1 Code to read csv file into colaboratory:\n",
        "!pip install -U -q PyDrive\n",
        "from pydrive.auth import GoogleAuth\n",
        "from pydrive.drive import GoogleDrive\n",
        "from google.colab import auth\n",
        "from oauth2client.client import GoogleCredentials\n",
        "\n",
        "# 1. Authenticate and create the PyDrive client.\n",
        "auth.authenticate_user()\n",
        "gauth = GoogleAuth()\n",
        "gauth.credentials = GoogleCredentials.get_application_default()\n",
        "drive = GoogleDrive(gauth)"
      ],
      "execution_count": 0,
      "outputs": []
    },
    {
      "cell_type": "code",
      "metadata": {
        "id": "9Zhqj1GCqJGO",
        "colab_type": "code",
        "outputId": "0a5db029-d36a-43d5-deed-b7c7ed8c3b62",
        "colab": {
          "base_uri": "https://localhost:8080/",
          "height": 221
        }
      },
      "source": [
        "!pip install seaborn==0.9.0\n",
        "import pandas as pd\n",
        "import numpy as np\n",
        "import matplotlib.pyplot as plt\n",
        "import seaborn as sns\n"
      ],
      "execution_count": 0,
      "outputs": [
        {
          "output_type": "stream",
          "text": [
            "Requirement already satisfied: seaborn==0.9.0 in /usr/local/lib/python3.6/dist-packages (0.9.0)\n",
            "Requirement already satisfied: scipy>=0.14.0 in /usr/local/lib/python3.6/dist-packages (from seaborn==0.9.0) (1.1.0)\n",
            "Requirement already satisfied: numpy>=1.9.3 in /usr/local/lib/python3.6/dist-packages (from seaborn==0.9.0) (1.14.6)\n",
            "Requirement already satisfied: matplotlib>=1.4.3 in /usr/local/lib/python3.6/dist-packages (from seaborn==0.9.0) (3.0.3)\n",
            "Requirement already satisfied: pandas>=0.15.2 in /usr/local/lib/python3.6/dist-packages (from seaborn==0.9.0) (0.22.0)\n",
            "Requirement already satisfied: python-dateutil>=2.1 in /usr/local/lib/python3.6/dist-packages (from matplotlib>=1.4.3->seaborn==0.9.0) (2.5.3)\n",
            "Requirement already satisfied: kiwisolver>=1.0.1 in /usr/local/lib/python3.6/dist-packages (from matplotlib>=1.4.3->seaborn==0.9.0) (1.0.1)\n",
            "Requirement already satisfied: pyparsing!=2.0.4,!=2.1.2,!=2.1.6,>=2.0.1 in /usr/local/lib/python3.6/dist-packages (from matplotlib>=1.4.3->seaborn==0.9.0) (2.3.1)\n",
            "Requirement already satisfied: cycler>=0.10 in /usr/local/lib/python3.6/dist-packages (from matplotlib>=1.4.3->seaborn==0.9.0) (0.10.0)\n",
            "Requirement already satisfied: pytz>=2011k in /usr/local/lib/python3.6/dist-packages (from pandas>=0.15.2->seaborn==0.9.0) (2018.9)\n",
            "Requirement already satisfied: six>=1.5 in /usr/local/lib/python3.6/dist-packages (from python-dateutil>=2.1->matplotlib>=1.4.3->seaborn==0.9.0) (1.11.0)\n",
            "Requirement already satisfied: setuptools in /usr/local/lib/python3.6/dist-packages (from kiwisolver>=1.0.1->matplotlib>=1.4.3->seaborn==0.9.0) (40.8.0)\n"
          ],
          "name": "stdout"
        }
      ]
    },
    {
      "cell_type": "code",
      "metadata": {
        "id": "V45YPEJvR5H_",
        "colab_type": "code",
        "colab": {}
      },
      "source": [
        "downloaded = drive.CreateFile({'id':'1s04DN96LISkHZ97e2_1pLbRxglhKx_CZ'}) \n",
        "downloaded.GetContentFile('MusicSales2.csv') "
      ],
      "execution_count": 0,
      "outputs": []
    },
    {
      "cell_type": "code",
      "metadata": {
        "id": "2p-KHxAzR5Ds",
        "colab_type": "code",
        "colab": {}
      },
      "source": [
        "df = pd.read_csv('MusicSales2.csv')"
      ],
      "execution_count": 0,
      "outputs": []
    },
    {
      "cell_type": "code",
      "metadata": {
        "id": "lNwijDse2ajp",
        "colab_type": "code",
        "outputId": "f9789a81-aa66-4714-c57e-13f9c615d8b8",
        "colab": {
          "base_uri": "https://localhost:8080/",
          "height": 168
        }
      },
      "source": [
        "pd.options.display.max_columns = 1000\n",
        "df.head(1)"
      ],
      "execution_count": 0,
      "outputs": [
        {
          "output_type": "execute_result",
          "data": {
            "text/html": [
              "<div>\n",
              "<style scoped>\n",
              "    .dataframe tbody tr th:only-of-type {\n",
              "        vertical-align: middle;\n",
              "    }\n",
              "\n",
              "    .dataframe tbody tr th {\n",
              "        vertical-align: top;\n",
              "    }\n",
              "\n",
              "    .dataframe thead th {\n",
              "        text-align: right;\n",
              "    }\n",
              "</style>\n",
              "<table border=\"1\" class=\"dataframe\">\n",
              "  <thead>\n",
              "    <tr style=\"text-align: right;\">\n",
              "      <th></th>\n",
              "      <th>Album</th>\n",
              "      <th>Artist</th>\n",
              "      <th>Bytes</th>\n",
              "      <th>Sales</th>\n",
              "      <th>City</th>\n",
              "      <th>Company</th>\n",
              "      <th>Composer</th>\n",
              "      <th>Country</th>\n",
              "      <th>CustomerID</th>\n",
              "      <th>Email</th>\n",
              "      <th>FirstName</th>\n",
              "      <th>Genre</th>\n",
              "      <th>InvoiceDate</th>\n",
              "      <th>InvoiceID</th>\n",
              "      <th>LastName</th>\n",
              "      <th>MediaType</th>\n",
              "      <th>Milliseconds</th>\n",
              "      <th>Number of Records</th>\n",
              "      <th>Phone</th>\n",
              "      <th>PostalCode</th>\n",
              "      <th>Quantity</th>\n",
              "      <th>Region</th>\n",
              "      <th>State</th>\n",
              "      <th>Track</th>\n",
              "      <th>UnitPrice</th>\n",
              "    </tr>\n",
              "  </thead>\n",
              "  <tbody>\n",
              "    <tr>\n",
              "      <th>0</th>\n",
              "      <td>Balls to the Wall</td>\n",
              "      <td>Accept</td>\n",
              "      <td>5.51M</td>\n",
              "      <td>3.96</td>\n",
              "      <td>Stuttgart</td>\n",
              "      <td>NaN</td>\n",
              "      <td>NaN</td>\n",
              "      <td>Germany</td>\n",
              "      <td>2</td>\n",
              "      <td>leonekohler@surfeu.de</td>\n",
              "      <td>Leonie</td>\n",
              "      <td>Rock</td>\n",
              "      <td>1/1/2008 0:00</td>\n",
              "      <td>1</td>\n",
              "      <td>Kahler</td>\n",
              "      <td>Protected AAC audio file</td>\n",
              "      <td>342562</td>\n",
              "      <td>1</td>\n",
              "      <td>+49 0711 2842222</td>\n",
              "      <td>70174</td>\n",
              "      <td>4</td>\n",
              "      <td>Europe</td>\n",
              "      <td>NaN</td>\n",
              "      <td>Balls to the Wall</td>\n",
              "      <td>0.99</td>\n",
              "    </tr>\n",
              "  </tbody>\n",
              "</table>\n",
              "</div>"
            ],
            "text/plain": [
              "               Album  Artist  Bytes  Sales       City Company Composer  \\\n",
              "0  Balls to the Wall  Accept  5.51M   3.96  Stuttgart     NaN      NaN   \n",
              "\n",
              "   Country  CustomerID                  Email FirstName Genre    InvoiceDate  \\\n",
              "0  Germany           2  leonekohler@surfeu.de    Leonie  Rock  1/1/2008 0:00   \n",
              "\n",
              "   InvoiceID LastName                 MediaType  Milliseconds  \\\n",
              "0          1   Kahler  Protected AAC audio file        342562   \n",
              "\n",
              "   Number of Records             Phone PostalCode  Quantity  Region State  \\\n",
              "0                  1  +49 0711 2842222      70174         4  Europe   NaN   \n",
              "\n",
              "               Track  UnitPrice  \n",
              "0  Balls to the Wall       0.99  "
            ]
          },
          "metadata": {
            "tags": []
          },
          "execution_count": 217
        }
      ]
    },
    {
      "cell_type": "code",
      "metadata": {
        "id": "A_J6kfYER5BJ",
        "colab_type": "code",
        "outputId": "03a7e3d4-53ef-4038-a764-cf0b50407010",
        "colab": {
          "base_uri": "https://localhost:8080/",
          "height": 204
        }
      },
      "source": [
        "DF = df[(df.Country== 'USA') | (df.Country == 'Canada')].loc[:,('Country','Sales','InvoiceDate')]\n",
        "\n",
        "DF['InvoiceDate'] = pd.to_datetime(DF['InvoiceDate'])\n",
        "#MS = DF.sort_values(by=['InvoiceDate'], ascending=True)\n",
        "MS = DF.groupby(['InvoiceDate','Country'])['Sales'].sum().reset_index()\n",
        "MS.head()"
      ],
      "execution_count": 0,
      "outputs": [
        {
          "output_type": "execute_result",
          "data": {
            "text/html": [
              "<div>\n",
              "<style scoped>\n",
              "    .dataframe tbody tr th:only-of-type {\n",
              "        vertical-align: middle;\n",
              "    }\n",
              "\n",
              "    .dataframe tbody tr th {\n",
              "        vertical-align: top;\n",
              "    }\n",
              "\n",
              "    .dataframe thead th {\n",
              "        text-align: right;\n",
              "    }\n",
              "</style>\n",
              "<table border=\"1\" class=\"dataframe\">\n",
              "  <thead>\n",
              "    <tr style=\"text-align: right;\">\n",
              "      <th></th>\n",
              "      <th>InvoiceDate</th>\n",
              "      <th>Country</th>\n",
              "      <th>Sales</th>\n",
              "    </tr>\n",
              "  </thead>\n",
              "  <tbody>\n",
              "    <tr>\n",
              "      <th>0</th>\n",
              "      <td>2008-01-06</td>\n",
              "      <td>Canada</td>\n",
              "      <td>31.68</td>\n",
              "    </tr>\n",
              "    <tr>\n",
              "      <th>1</th>\n",
              "      <td>2008-01-11</td>\n",
              "      <td>USA</td>\n",
              "      <td>42.57</td>\n",
              "    </tr>\n",
              "    <tr>\n",
              "      <th>2</th>\n",
              "      <td>2008-02-19</td>\n",
              "      <td>USA</td>\n",
              "      <td>3.96</td>\n",
              "    </tr>\n",
              "    <tr>\n",
              "      <th>3</th>\n",
              "      <td>2008-03-04</td>\n",
              "      <td>USA</td>\n",
              "      <td>7.92</td>\n",
              "    </tr>\n",
              "    <tr>\n",
              "      <th>4</th>\n",
              "      <td>2008-03-05</td>\n",
              "      <td>USA</td>\n",
              "      <td>12.87</td>\n",
              "    </tr>\n",
              "  </tbody>\n",
              "</table>\n",
              "</div>"
            ],
            "text/plain": [
              "  InvoiceDate Country  Sales\n",
              "0  2008-01-06  Canada  31.68\n",
              "1  2008-01-11     USA  42.57\n",
              "2  2008-02-19     USA   3.96\n",
              "3  2008-03-04     USA   7.92\n",
              "4  2008-03-05     USA  12.87"
            ]
          },
          "metadata": {
            "tags": []
          },
          "execution_count": 244
        }
      ]
    },
    {
      "cell_type": "code",
      "metadata": {
        "id": "28AEf_hRR4-R",
        "colab_type": "code",
        "outputId": "4213df3d-36f6-4782-901c-2a8455f2cd05",
        "colab": {
          "base_uri": "https://localhost:8080/",
          "height": 300
        }
      },
      "source": [
        " # At first the ressult says: module 'seaborn' has no attribute 'lineplot',so I check the seaborn version, using \"sns.__version__\",\n",
        " # It shows that my seaborn is 0.7.1, so I have to update it.\n",
        " # But the question is when I was doing last Homework, I have already updated seaborn, I couldn't figure out why I have to update it again. \n",
        "  \n",
        " # Another question is that if I change the formate of datetime using \n",
        " # DF['InvoiceDate'] = pd.to_datetime(DF['InvoiceDate'],format='%m/%d/%Y %H:%M').dt.strftime(\"%Y/%m/%d\")\n",
        " # the lineplot seems in disorder. \n",
        "\n",
        "fig, ax = plt.subplots(figsize=(12,4))\n",
        "sns.lineplot(x=\"InvoiceDate\", y=\"Sales\",\n",
        "             hue=\"Country\",\n",
        "             data = MS)"
      ],
      "execution_count": 0,
      "outputs": [
        {
          "output_type": "execute_result",
          "data": {
            "text/plain": [
              "<matplotlib.axes._subplots.AxesSubplot at 0x7fa7bdea25f8>"
            ]
          },
          "metadata": {
            "tags": []
          },
          "execution_count": 246
        },
        {
          "output_type": "display_data",
          "data": {
            "image/png": "[encoded data removed]",
            "text/plain": [
              "<Figure size 864x288 with 1 Axes>"
            ]
          },
          "metadata": {
            "tags": []
          }
        }
      ]
    },
    {
      "cell_type": "markdown",
      "metadata": {
        "id": "Z4sMGTqK5Ol9",
        "colab_type": "text"
      },
      "source": [
        "##Using Music Sales.csv, explore how Rock music monthly market share fluctuate in US in 2011 and 2012."
      ]
    },
    {
      "cell_type": "code",
      "metadata": {
        "id": "qMNIli_6DXOF",
        "colab_type": "code",
        "outputId": "705f0127-c0cd-4ad6-e22c-4bb710f500e7",
        "colab": {
          "base_uri": "https://localhost:8080/",
          "height": 204
        }
      },
      "source": [
        "DF2 = df[(df.Country == 'USA')].loc[:,('InvoiceDate','Genre','Sales')]\n",
        "DF2['InvoiceDate'] = pd.to_datetime(DF2['InvoiceDate'])\n",
        "DF2['InvoiceDate'] = pd.to_datetime(DF2['InvoiceDate'],format='%m/%d/%Y %H:%M').dt.strftime(\"%Y/%m\")\n",
        "DF2.head()"
      ],
      "execution_count": 0,
      "outputs": [
        {
          "output_type": "execute_result",
          "data": {
            "text/html": [
              "<div>\n",
              "<style scoped>\n",
              "    .dataframe tbody tr th:only-of-type {\n",
              "        vertical-align: middle;\n",
              "    }\n",
              "\n",
              "    .dataframe tbody tr th {\n",
              "        vertical-align: top;\n",
              "    }\n",
              "\n",
              "    .dataframe thead th {\n",
              "        text-align: right;\n",
              "    }\n",
              "</style>\n",
              "<table border=\"1\" class=\"dataframe\">\n",
              "  <thead>\n",
              "    <tr style=\"text-align: right;\">\n",
              "      <th></th>\n",
              "      <th>InvoiceDate</th>\n",
              "      <th>Genre</th>\n",
              "      <th>Sales</th>\n",
              "    </tr>\n",
              "  </thead>\n",
              "  <tbody>\n",
              "    <tr>\n",
              "      <th>21</th>\n",
              "      <td>2008/01</td>\n",
              "      <td>Metal</td>\n",
              "      <td>0.99</td>\n",
              "    </tr>\n",
              "    <tr>\n",
              "      <th>22</th>\n",
              "      <td>2008/01</td>\n",
              "      <td>Alternative &amp; Punk</td>\n",
              "      <td>1.98</td>\n",
              "    </tr>\n",
              "    <tr>\n",
              "      <th>23</th>\n",
              "      <td>2008/01</td>\n",
              "      <td>Alternative &amp; Punk</td>\n",
              "      <td>1.98</td>\n",
              "    </tr>\n",
              "    <tr>\n",
              "      <th>24</th>\n",
              "      <td>2008/01</td>\n",
              "      <td>Blues</td>\n",
              "      <td>1.98</td>\n",
              "    </tr>\n",
              "    <tr>\n",
              "      <th>25</th>\n",
              "      <td>2008/01</td>\n",
              "      <td>Jazz</td>\n",
              "      <td>1.98</td>\n",
              "    </tr>\n",
              "  </tbody>\n",
              "</table>\n",
              "</div>"
            ],
            "text/plain": [
              "   InvoiceDate               Genre  Sales\n",
              "21     2008/01               Metal   0.99\n",
              "22     2008/01  Alternative & Punk   1.98\n",
              "23     2008/01  Alternative & Punk   1.98\n",
              "24     2008/01               Blues   1.98\n",
              "25     2008/01                Jazz   1.98"
            ]
          },
          "metadata": {
            "tags": []
          },
          "execution_count": 247
        }
      ]
    },
    {
      "cell_type": "code",
      "metadata": {
        "id": "GvNaCUF-s5yq",
        "colab_type": "code",
        "outputId": "a670fb46-41a6-4d08-abec-c0b4ff945eea",
        "colab": {
          "base_uri": "https://localhost:8080/",
          "height": 204
        }
      },
      "source": [
        "mask = (DF2['InvoiceDate'] > '2010/12') & (DF2['InvoiceDate'] < '2013/1')\n",
        "DF3 = DF2.loc[mask]\n",
        "DF3.head()"
      ],
      "execution_count": 0,
      "outputs": [
        {
          "output_type": "execute_result",
          "data": {
            "text/html": [
              "<div>\n",
              "<style scoped>\n",
              "    .dataframe tbody tr th:only-of-type {\n",
              "        vertical-align: middle;\n",
              "    }\n",
              "\n",
              "    .dataframe tbody tr th {\n",
              "        vertical-align: top;\n",
              "    }\n",
              "\n",
              "    .dataframe thead th {\n",
              "        text-align: right;\n",
              "    }\n",
              "</style>\n",
              "<table border=\"1\" class=\"dataframe\">\n",
              "  <thead>\n",
              "    <tr style=\"text-align: right;\">\n",
              "      <th></th>\n",
              "      <th>InvoiceDate</th>\n",
              "      <th>Genre</th>\n",
              "      <th>Sales</th>\n",
              "    </tr>\n",
              "  </thead>\n",
              "  <tbody>\n",
              "    <tr>\n",
              "      <th>1305</th>\n",
              "      <td>2011/01</td>\n",
              "      <td>Rock</td>\n",
              "      <td>0.99</td>\n",
              "    </tr>\n",
              "    <tr>\n",
              "      <th>1306</th>\n",
              "      <td>2011/01</td>\n",
              "      <td>Rock</td>\n",
              "      <td>0.99</td>\n",
              "    </tr>\n",
              "    <tr>\n",
              "      <th>1307</th>\n",
              "      <td>2011/01</td>\n",
              "      <td>Metal</td>\n",
              "      <td>1.98</td>\n",
              "    </tr>\n",
              "    <tr>\n",
              "      <th>1308</th>\n",
              "      <td>2011/01</td>\n",
              "      <td>Rock</td>\n",
              "      <td>1.98</td>\n",
              "    </tr>\n",
              "    <tr>\n",
              "      <th>1309</th>\n",
              "      <td>2011/01</td>\n",
              "      <td>Metal</td>\n",
              "      <td>2.97</td>\n",
              "    </tr>\n",
              "  </tbody>\n",
              "</table>\n",
              "</div>"
            ],
            "text/plain": [
              "     InvoiceDate  Genre  Sales\n",
              "1305     2011/01   Rock   0.99\n",
              "1306     2011/01   Rock   0.99\n",
              "1307     2011/01  Metal   1.98\n",
              "1308     2011/01   Rock   1.98\n",
              "1309     2011/01  Metal   2.97"
            ]
          },
          "metadata": {
            "tags": []
          },
          "execution_count": 248
        }
      ]
    },
    {
      "cell_type": "code",
      "metadata": {
        "id": "5w3XnztTs5sq",
        "colab_type": "code",
        "outputId": "a83f1f75-b529-4d1c-a570-2da899729064",
        "colab": {
          "base_uri": "https://localhost:8080/",
          "height": 204
        }
      },
      "source": [
        "DF4 = DF3.groupby(['InvoiceDate','Genre'], as_index = False).sum().sort_values(by=['InvoiceDate','Genre'], ascending= True)\n",
        "DF4.head()"
      ],
      "execution_count": 0,
      "outputs": [
        {
          "output_type": "execute_result",
          "data": {
            "text/html": [
              "<div>\n",
              "<style scoped>\n",
              "    .dataframe tbody tr th:only-of-type {\n",
              "        vertical-align: middle;\n",
              "    }\n",
              "\n",
              "    .dataframe tbody tr th {\n",
              "        vertical-align: top;\n",
              "    }\n",
              "\n",
              "    .dataframe thead th {\n",
              "        text-align: right;\n",
              "    }\n",
              "</style>\n",
              "<table border=\"1\" class=\"dataframe\">\n",
              "  <thead>\n",
              "    <tr style=\"text-align: right;\">\n",
              "      <th></th>\n",
              "      <th>InvoiceDate</th>\n",
              "      <th>Genre</th>\n",
              "      <th>Sales</th>\n",
              "    </tr>\n",
              "  </thead>\n",
              "  <tbody>\n",
              "    <tr>\n",
              "      <th>0</th>\n",
              "      <td>2011/01</td>\n",
              "      <td>Metal</td>\n",
              "      <td>12.87</td>\n",
              "    </tr>\n",
              "    <tr>\n",
              "      <th>1</th>\n",
              "      <td>2011/01</td>\n",
              "      <td>R&amp;B/Soul</td>\n",
              "      <td>8.91</td>\n",
              "    </tr>\n",
              "    <tr>\n",
              "      <th>2</th>\n",
              "      <td>2011/01</td>\n",
              "      <td>Rock</td>\n",
              "      <td>10.89</td>\n",
              "    </tr>\n",
              "    <tr>\n",
              "      <th>3</th>\n",
              "      <td>2011/03</td>\n",
              "      <td>Metal</td>\n",
              "      <td>10.89</td>\n",
              "    </tr>\n",
              "    <tr>\n",
              "      <th>4</th>\n",
              "      <td>2011/04</td>\n",
              "      <td>Latin</td>\n",
              "      <td>5.94</td>\n",
              "    </tr>\n",
              "  </tbody>\n",
              "</table>\n",
              "</div>"
            ],
            "text/plain": [
              "  InvoiceDate     Genre  Sales\n",
              "0     2011/01     Metal  12.87\n",
              "1     2011/01  R&B/Soul   8.91\n",
              "2     2011/01      Rock  10.89\n",
              "3     2011/03     Metal  10.89\n",
              "4     2011/04     Latin   5.94"
            ]
          },
          "metadata": {
            "tags": []
          },
          "execution_count": 249
        }
      ]
    },
    {
      "cell_type": "code",
      "metadata": {
        "id": "Or1QJYNC-KfZ",
        "colab_type": "code",
        "outputId": "e438382f-0b3e-4490-b3c3-9b15417f84a9",
        "colab": {
          "base_uri": "https://localhost:8080/",
          "height": 421
        }
      },
      "source": [
        "rockSales = DF4[DF4['Genre'] == 'Rock'].drop('Genre', axis = 1)\n",
        "rockSales"
      ],
      "execution_count": 0,
      "outputs": [
        {
          "output_type": "execute_result",
          "data": {
            "text/html": [
              "<div>\n",
              "<style scoped>\n",
              "    .dataframe tbody tr th:only-of-type {\n",
              "        vertical-align: middle;\n",
              "    }\n",
              "\n",
              "    .dataframe tbody tr th {\n",
              "        vertical-align: top;\n",
              "    }\n",
              "\n",
              "    .dataframe thead th {\n",
              "        text-align: right;\n",
              "    }\n",
              "</style>\n",
              "<table border=\"1\" class=\"dataframe\">\n",
              "  <thead>\n",
              "    <tr style=\"text-align: right;\">\n",
              "      <th></th>\n",
              "      <th>InvoiceDate</th>\n",
              "      <th>Sales</th>\n",
              "    </tr>\n",
              "  </thead>\n",
              "  <tbody>\n",
              "    <tr>\n",
              "      <th>2</th>\n",
              "      <td>2011/01</td>\n",
              "      <td>10.89</td>\n",
              "    </tr>\n",
              "    <tr>\n",
              "      <th>6</th>\n",
              "      <td>2011/04</td>\n",
              "      <td>14.85</td>\n",
              "    </tr>\n",
              "    <tr>\n",
              "      <th>9</th>\n",
              "      <td>2011/06</td>\n",
              "      <td>18.81</td>\n",
              "    </tr>\n",
              "    <tr>\n",
              "      <th>13</th>\n",
              "      <td>2011/08</td>\n",
              "      <td>12.87</td>\n",
              "    </tr>\n",
              "    <tr>\n",
              "      <th>22</th>\n",
              "      <td>2011/11</td>\n",
              "      <td>13.86</td>\n",
              "    </tr>\n",
              "    <tr>\n",
              "      <th>26</th>\n",
              "      <td>2011/12</td>\n",
              "      <td>11.88</td>\n",
              "    </tr>\n",
              "    <tr>\n",
              "      <th>29</th>\n",
              "      <td>2012/02</td>\n",
              "      <td>23.76</td>\n",
              "    </tr>\n",
              "    <tr>\n",
              "      <th>34</th>\n",
              "      <td>2012/04</td>\n",
              "      <td>10.89</td>\n",
              "    </tr>\n",
              "    <tr>\n",
              "      <th>39</th>\n",
              "      <td>2012/09</td>\n",
              "      <td>1.98</td>\n",
              "    </tr>\n",
              "    <tr>\n",
              "      <th>44</th>\n",
              "      <td>2012/10</td>\n",
              "      <td>39.60</td>\n",
              "    </tr>\n",
              "    <tr>\n",
              "      <th>45</th>\n",
              "      <td>2012/11</td>\n",
              "      <td>0.99</td>\n",
              "    </tr>\n",
              "    <tr>\n",
              "      <th>46</th>\n",
              "      <td>2012/12</td>\n",
              "      <td>25.74</td>\n",
              "    </tr>\n",
              "  </tbody>\n",
              "</table>\n",
              "</div>"
            ],
            "text/plain": [
              "   InvoiceDate  Sales\n",
              "2      2011/01  10.89\n",
              "6      2011/04  14.85\n",
              "9      2011/06  18.81\n",
              "13     2011/08  12.87\n",
              "22     2011/11  13.86\n",
              "26     2011/12  11.88\n",
              "29     2012/02  23.76\n",
              "34     2012/04  10.89\n",
              "39     2012/09   1.98\n",
              "44     2012/10  39.60\n",
              "45     2012/11   0.99\n",
              "46     2012/12  25.74"
            ]
          },
          "metadata": {
            "tags": []
          },
          "execution_count": 250
        }
      ]
    },
    {
      "cell_type": "code",
      "metadata": {
        "id": "0qVXeR35Cl90",
        "colab_type": "code",
        "outputId": "960bd413-37b7-43f3-d615-64a0d3150ab3",
        "colab": {
          "base_uri": "https://localhost:8080/",
          "height": 607
        }
      },
      "source": [
        "totalSales = DF4.groupby(['InvoiceDate'], as_index = False).sum()\n",
        "\n",
        "totalSales = pd.merge(totalSales, rockSales, on=['InvoiceDate'], how='left').fillna(0)\n",
        "totalSales['Share'] = totalSales.Sales_y / totalSales.Sales_x\n",
        "\n",
        "totalSales"
      ],
      "execution_count": 0,
      "outputs": [
        {
          "output_type": "execute_result",
          "data": {
            "text/html": [
              "<div>\n",
              "<style scoped>\n",
              "    .dataframe tbody tr th:only-of-type {\n",
              "        vertical-align: middle;\n",
              "    }\n",
              "\n",
              "    .dataframe tbody tr th {\n",
              "        vertical-align: top;\n",
              "    }\n",
              "\n",
              "    .dataframe thead th {\n",
              "        text-align: right;\n",
              "    }\n",
              "</style>\n",
              "<table border=\"1\" class=\"dataframe\">\n",
              "  <thead>\n",
              "    <tr style=\"text-align: right;\">\n",
              "      <th></th>\n",
              "      <th>InvoiceDate</th>\n",
              "      <th>Sales_x</th>\n",
              "      <th>Sales_y</th>\n",
              "      <th>Share</th>\n",
              "    </tr>\n",
              "  </thead>\n",
              "  <tbody>\n",
              "    <tr>\n",
              "      <th>0</th>\n",
              "      <td>2011/01</td>\n",
              "      <td>32.67</td>\n",
              "      <td>10.89</td>\n",
              "      <td>0.333333</td>\n",
              "    </tr>\n",
              "    <tr>\n",
              "      <th>1</th>\n",
              "      <td>2011/03</td>\n",
              "      <td>10.89</td>\n",
              "      <td>0.00</td>\n",
              "      <td>0.000000</td>\n",
              "    </tr>\n",
              "    <tr>\n",
              "      <th>2</th>\n",
              "      <td>2011/04</td>\n",
              "      <td>35.64</td>\n",
              "      <td>14.85</td>\n",
              "      <td>0.416667</td>\n",
              "    </tr>\n",
              "    <tr>\n",
              "      <th>3</th>\n",
              "      <td>2011/06</td>\n",
              "      <td>22.77</td>\n",
              "      <td>18.81</td>\n",
              "      <td>0.826087</td>\n",
              "    </tr>\n",
              "    <tr>\n",
              "      <th>4</th>\n",
              "      <td>2011/07</td>\n",
              "      <td>15.87</td>\n",
              "      <td>0.00</td>\n",
              "      <td>0.000000</td>\n",
              "    </tr>\n",
              "    <tr>\n",
              "      <th>5</th>\n",
              "      <td>2011/08</td>\n",
              "      <td>52.67</td>\n",
              "      <td>12.87</td>\n",
              "      <td>0.244352</td>\n",
              "    </tr>\n",
              "    <tr>\n",
              "      <th>6</th>\n",
              "      <td>2011/09</td>\n",
              "      <td>95.52</td>\n",
              "      <td>0.00</td>\n",
              "      <td>0.000000</td>\n",
              "    </tr>\n",
              "    <tr>\n",
              "      <th>7</th>\n",
              "      <td>2011/11</td>\n",
              "      <td>27.72</td>\n",
              "      <td>13.86</td>\n",
              "      <td>0.500000</td>\n",
              "    </tr>\n",
              "    <tr>\n",
              "      <th>8</th>\n",
              "      <td>2011/12</td>\n",
              "      <td>39.60</td>\n",
              "      <td>11.88</td>\n",
              "      <td>0.300000</td>\n",
              "    </tr>\n",
              "    <tr>\n",
              "      <th>9</th>\n",
              "      <td>2012/02</td>\n",
              "      <td>36.63</td>\n",
              "      <td>23.76</td>\n",
              "      <td>0.648649</td>\n",
              "    </tr>\n",
              "    <tr>\n",
              "      <th>10</th>\n",
              "      <td>2012/04</td>\n",
              "      <td>57.42</td>\n",
              "      <td>10.89</td>\n",
              "      <td>0.189655</td>\n",
              "    </tr>\n",
              "    <tr>\n",
              "      <th>11</th>\n",
              "      <td>2012/05</td>\n",
              "      <td>4.95</td>\n",
              "      <td>0.00</td>\n",
              "      <td>0.000000</td>\n",
              "    </tr>\n",
              "    <tr>\n",
              "      <th>12</th>\n",
              "      <td>2012/07</td>\n",
              "      <td>43.56</td>\n",
              "      <td>0.00</td>\n",
              "      <td>0.000000</td>\n",
              "    </tr>\n",
              "    <tr>\n",
              "      <th>13</th>\n",
              "      <td>2012/08</td>\n",
              "      <td>1.98</td>\n",
              "      <td>0.00</td>\n",
              "      <td>0.000000</td>\n",
              "    </tr>\n",
              "    <tr>\n",
              "      <th>14</th>\n",
              "      <td>2012/09</td>\n",
              "      <td>14.85</td>\n",
              "      <td>1.98</td>\n",
              "      <td>0.133333</td>\n",
              "    </tr>\n",
              "    <tr>\n",
              "      <th>15</th>\n",
              "      <td>2012/10</td>\n",
              "      <td>73.26</td>\n",
              "      <td>39.60</td>\n",
              "      <td>0.540541</td>\n",
              "    </tr>\n",
              "    <tr>\n",
              "      <th>16</th>\n",
              "      <td>2012/11</td>\n",
              "      <td>0.99</td>\n",
              "      <td>0.99</td>\n",
              "      <td>1.000000</td>\n",
              "    </tr>\n",
              "    <tr>\n",
              "      <th>17</th>\n",
              "      <td>2012/12</td>\n",
              "      <td>25.74</td>\n",
              "      <td>25.74</td>\n",
              "      <td>1.000000</td>\n",
              "    </tr>\n",
              "  </tbody>\n",
              "</table>\n",
              "</div>"
            ],
            "text/plain": [
              "   InvoiceDate  Sales_x  Sales_y     Share\n",
              "0      2011/01    32.67    10.89  0.333333\n",
              "1      2011/03    10.89     0.00  0.000000\n",
              "2      2011/04    35.64    14.85  0.416667\n",
              "3      2011/06    22.77    18.81  0.826087\n",
              "4      2011/07    15.87     0.00  0.000000\n",
              "5      2011/08    52.67    12.87  0.244352\n",
              "6      2011/09    95.52     0.00  0.000000\n",
              "7      2011/11    27.72    13.86  0.500000\n",
              "8      2011/12    39.60    11.88  0.300000\n",
              "9      2012/02    36.63    23.76  0.648649\n",
              "10     2012/04    57.42    10.89  0.189655\n",
              "11     2012/05     4.95     0.00  0.000000\n",
              "12     2012/07    43.56     0.00  0.000000\n",
              "13     2012/08     1.98     0.00  0.000000\n",
              "14     2012/09    14.85     1.98  0.133333\n",
              "15     2012/10    73.26    39.60  0.540541\n",
              "16     2012/11     0.99     0.99  1.000000\n",
              "17     2012/12    25.74    25.74  1.000000"
            ]
          },
          "metadata": {
            "tags": []
          },
          "execution_count": 251
        }
      ]
    },
    {
      "cell_type": "code",
      "metadata": {
        "id": "Ec8eAKFn9Swy",
        "colab_type": "code",
        "outputId": "6dab1134-c322-42e3-9410-98002b2bcfab",
        "colab": {
          "base_uri": "https://localhost:8080/",
          "height": 409
        }
      },
      "source": [
        "# Here I use lineplot to show the Rock music monthly market share fluctuate\n",
        "\n",
        "fig, ax = plt.subplots(figsize=(20,6))\n",
        "#ax.set(xticks=np.arange(0,71,12), xticklabels=[2011, 2012])\n",
        "# ax.set(yticks=np.arange(12), yticklabels=[0,20,40,60,80,100])\n",
        "sns.lineplot(x=\"InvoiceDate\", y='Share',\n",
        "             data = totalSales)"
      ],
      "execution_count": 0,
      "outputs": [
        {
          "output_type": "execute_result",
          "data": {
            "text/plain": [
              "<matplotlib.axes._subplots.AxesSubplot at 0x7fa7bddea828>"
            ]
          },
          "metadata": {
            "tags": []
          },
          "execution_count": 254
        },
        {
          "output_type": "display_data",
          "data": {
            "image/png": "[encoded data removed]",
            "text/plain": [
              "<Figure size 1440x432 with 1 Axes>"
            ]
          },
          "metadata": {
            "tags": []
          }
        }
      ]
    }
  ]
}