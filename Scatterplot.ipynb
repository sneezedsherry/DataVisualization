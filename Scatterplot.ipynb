{
 "cells": [
  {
   "cell_type": "markdown",
   "metadata": {},
   "source": [
    "## <Center><font color=blue>Homework Assignment 2</font></center>\n",
    "###  <Center><font color=blue>Due Saturday, August 8</font></center>"
   ]
  },
  {
   "cell_type": "markdown",
   "metadata": {},
   "source": [
    "This Homework Assignment for Class 2 uses 3 datasets. The datasets are read in automatically for you and data descriptions are included. Each is read in by a new 'pickle method', the advantage of which is that it preserves modifications done to a DataFrame, eliminating the need to read in a '.csv' file and modifying it for analysis. They datasets are:\n",
    "\n",
    "1. A **credit** dataset that can be used to develop a credit rating.\n",
    "2. A Dow Jones Industrial Average *TimeSeries* **djia_ret** of daily returns from 1/3/2011 to 7/27/2018.\n",
    "3. An **auto** DataFrame that has various variables for cars manufactured between 1970 and 1982.\n",
    "\n",
    "There are 15 questions (some of which request written answers) for a total of 18 points."
   ]
  },
  {
   "cell_type": "code",
   "execution_count": 1,
   "metadata": {},
   "outputs": [],
   "source": [
    "import os\n",
    "import numpy as np\n",
    "import pandas as pd\n",
    "import matplotlib.pyplot as plt\n",
    "import seaborn as sns\n",
    "%matplotlib inline"
   ]
  },
  {
   "cell_type": "code",
   "execution_count": 2,
   "metadata": {},
   "outputs": [
    {
     "data": {
      "text/html": [
       "<div>\n",
       "<style scoped>\n",
       "    .dataframe tbody tr th:only-of-type {\n",
       "        vertical-align: middle;\n",
       "    }\n",
       "\n",
       "    .dataframe tbody tr th {\n",
       "        vertical-align: top;\n",
       "    }\n",
       "\n",
       "    .dataframe thead th {\n",
       "        text-align: right;\n",
       "    }\n",
       "</style>\n",
       "<table border=\"1\" class=\"dataframe\">\n",
       "  <thead>\n",
       "    <tr style=\"text-align: right;\">\n",
       "      <th></th>\n",
       "      <th>Income</th>\n",
       "      <th>Limit</th>\n",
       "      <th>Rating</th>\n",
       "      <th>Cards</th>\n",
       "      <th>Age</th>\n",
       "      <th>Education</th>\n",
       "      <th>Gender</th>\n",
       "      <th>Student</th>\n",
       "      <th>Married</th>\n",
       "      <th>Ethnicity</th>\n",
       "      <th>Balance</th>\n",
       "    </tr>\n",
       "  </thead>\n",
       "  <tbody>\n",
       "    <tr>\n",
       "      <th>0</th>\n",
       "      <td>14.891</td>\n",
       "      <td>3606</td>\n",
       "      <td>283</td>\n",
       "      <td>2</td>\n",
       "      <td>34</td>\n",
       "      <td>11</td>\n",
       "      <td>Male</td>\n",
       "      <td>No</td>\n",
       "      <td>Yes</td>\n",
       "      <td>Caucasian</td>\n",
       "      <td>333</td>\n",
       "    </tr>\n",
       "    <tr>\n",
       "      <th>1</th>\n",
       "      <td>106.025</td>\n",
       "      <td>6645</td>\n",
       "      <td>483</td>\n",
       "      <td>3</td>\n",
       "      <td>82</td>\n",
       "      <td>15</td>\n",
       "      <td>Female</td>\n",
       "      <td>Yes</td>\n",
       "      <td>Yes</td>\n",
       "      <td>Asian</td>\n",
       "      <td>903</td>\n",
       "    </tr>\n",
       "    <tr>\n",
       "      <th>2</th>\n",
       "      <td>104.593</td>\n",
       "      <td>7075</td>\n",
       "      <td>514</td>\n",
       "      <td>4</td>\n",
       "      <td>71</td>\n",
       "      <td>11</td>\n",
       "      <td>Male</td>\n",
       "      <td>No</td>\n",
       "      <td>No</td>\n",
       "      <td>Asian</td>\n",
       "      <td>580</td>\n",
       "    </tr>\n",
       "    <tr>\n",
       "      <th>3</th>\n",
       "      <td>148.924</td>\n",
       "      <td>9504</td>\n",
       "      <td>681</td>\n",
       "      <td>3</td>\n",
       "      <td>36</td>\n",
       "      <td>11</td>\n",
       "      <td>Female</td>\n",
       "      <td>No</td>\n",
       "      <td>No</td>\n",
       "      <td>Asian</td>\n",
       "      <td>964</td>\n",
       "    </tr>\n",
       "    <tr>\n",
       "      <th>4</th>\n",
       "      <td>55.882</td>\n",
       "      <td>4897</td>\n",
       "      <td>357</td>\n",
       "      <td>2</td>\n",
       "      <td>68</td>\n",
       "      <td>16</td>\n",
       "      <td>Male</td>\n",
       "      <td>No</td>\n",
       "      <td>Yes</td>\n",
       "      <td>Caucasian</td>\n",
       "      <td>331</td>\n",
       "    </tr>\n",
       "  </tbody>\n",
       "</table>\n",
       "</div>"
      ],
      "text/plain": [
       "    Income  Limit  Rating  Cards  Age  Education  Gender Student Married  \\\n",
       "0   14.891   3606     283      2   34         11    Male      No     Yes   \n",
       "1  106.025   6645     483      3   82         15  Female     Yes     Yes   \n",
       "2  104.593   7075     514      4   71         11    Male      No      No   \n",
       "3  148.924   9504     681      3   36         11  Female      No      No   \n",
       "4   55.882   4897     357      2   68         16    Male      No     Yes   \n",
       "\n",
       "   Ethnicity  Balance  \n",
       "0  Caucasian      333  \n",
       "1      Asian      903  \n",
       "2      Asian      580  \n",
       "3      Asian      964  \n",
       "4  Caucasian      331  "
      ]
     },
     "execution_count": 2,
     "metadata": {},
     "output_type": "execute_result"
    }
   ],
   "source": [
    "credit = pd.read_pickle(\"./credit.pkl\")\n",
    "credit.head()"
   ]
  },
  {
   "cell_type": "code",
   "execution_count": 3,
   "metadata": {},
   "outputs": [
    {
     "data": {
      "text/html": [
       "<div>\n",
       "<style scoped>\n",
       "    .dataframe tbody tr th:only-of-type {\n",
       "        vertical-align: middle;\n",
       "    }\n",
       "\n",
       "    .dataframe tbody tr th {\n",
       "        vertical-align: top;\n",
       "    }\n",
       "\n",
       "    .dataframe thead th {\n",
       "        text-align: right;\n",
       "    }\n",
       "</style>\n",
       "<table border=\"1\" class=\"dataframe\">\n",
       "  <thead>\n",
       "    <tr style=\"text-align: right;\">\n",
       "      <th></th>\n",
       "      <th>Income</th>\n",
       "      <th>Limit</th>\n",
       "      <th>Rating</th>\n",
       "      <th>Cards</th>\n",
       "      <th>Age</th>\n",
       "      <th>Education</th>\n",
       "      <th>Balance</th>\n",
       "    </tr>\n",
       "  </thead>\n",
       "  <tbody>\n",
       "    <tr>\n",
       "      <th>count</th>\n",
       "      <td>400.000000</td>\n",
       "      <td>400.000000</td>\n",
       "      <td>400.000000</td>\n",
       "      <td>400.000000</td>\n",
       "      <td>400.000000</td>\n",
       "      <td>400.000000</td>\n",
       "      <td>400.000000</td>\n",
       "    </tr>\n",
       "    <tr>\n",
       "      <th>mean</th>\n",
       "      <td>45.218885</td>\n",
       "      <td>4735.600000</td>\n",
       "      <td>354.940000</td>\n",
       "      <td>2.957500</td>\n",
       "      <td>55.667500</td>\n",
       "      <td>13.450000</td>\n",
       "      <td>520.015000</td>\n",
       "    </tr>\n",
       "    <tr>\n",
       "      <th>std</th>\n",
       "      <td>35.244273</td>\n",
       "      <td>2308.198848</td>\n",
       "      <td>154.724143</td>\n",
       "      <td>1.371275</td>\n",
       "      <td>17.249807</td>\n",
       "      <td>3.125207</td>\n",
       "      <td>459.758877</td>\n",
       "    </tr>\n",
       "    <tr>\n",
       "      <th>min</th>\n",
       "      <td>10.354000</td>\n",
       "      <td>855.000000</td>\n",
       "      <td>93.000000</td>\n",
       "      <td>1.000000</td>\n",
       "      <td>23.000000</td>\n",
       "      <td>5.000000</td>\n",
       "      <td>0.000000</td>\n",
       "    </tr>\n",
       "    <tr>\n",
       "      <th>25%</th>\n",
       "      <td>21.007250</td>\n",
       "      <td>3088.000000</td>\n",
       "      <td>247.250000</td>\n",
       "      <td>2.000000</td>\n",
       "      <td>41.750000</td>\n",
       "      <td>11.000000</td>\n",
       "      <td>68.750000</td>\n",
       "    </tr>\n",
       "    <tr>\n",
       "      <th>50%</th>\n",
       "      <td>33.115500</td>\n",
       "      <td>4622.500000</td>\n",
       "      <td>344.000000</td>\n",
       "      <td>3.000000</td>\n",
       "      <td>56.000000</td>\n",
       "      <td>14.000000</td>\n",
       "      <td>459.500000</td>\n",
       "    </tr>\n",
       "    <tr>\n",
       "      <th>75%</th>\n",
       "      <td>57.470750</td>\n",
       "      <td>5872.750000</td>\n",
       "      <td>437.250000</td>\n",
       "      <td>4.000000</td>\n",
       "      <td>70.000000</td>\n",
       "      <td>16.000000</td>\n",
       "      <td>863.000000</td>\n",
       "    </tr>\n",
       "    <tr>\n",
       "      <th>max</th>\n",
       "      <td>186.634000</td>\n",
       "      <td>13913.000000</td>\n",
       "      <td>982.000000</td>\n",
       "      <td>9.000000</td>\n",
       "      <td>98.000000</td>\n",
       "      <td>20.000000</td>\n",
       "      <td>1999.000000</td>\n",
       "    </tr>\n",
       "  </tbody>\n",
       "</table>\n",
       "</div>"
      ],
      "text/plain": [
       "           Income         Limit      Rating       Cards         Age  \\\n",
       "count  400.000000    400.000000  400.000000  400.000000  400.000000   \n",
       "mean    45.218885   4735.600000  354.940000    2.957500   55.667500   \n",
       "std     35.244273   2308.198848  154.724143    1.371275   17.249807   \n",
       "min     10.354000    855.000000   93.000000    1.000000   23.000000   \n",
       "25%     21.007250   3088.000000  247.250000    2.000000   41.750000   \n",
       "50%     33.115500   4622.500000  344.000000    3.000000   56.000000   \n",
       "75%     57.470750   5872.750000  437.250000    4.000000   70.000000   \n",
       "max    186.634000  13913.000000  982.000000    9.000000   98.000000   \n",
       "\n",
       "        Education      Balance  \n",
       "count  400.000000   400.000000  \n",
       "mean    13.450000   520.015000  \n",
       "std      3.125207   459.758877  \n",
       "min      5.000000     0.000000  \n",
       "25%     11.000000    68.750000  \n",
       "50%     14.000000   459.500000  \n",
       "75%     16.000000   863.000000  \n",
       "max     20.000000  1999.000000  "
      ]
     },
     "execution_count": 3,
     "metadata": {},
     "output_type": "execute_result"
    }
   ],
   "source": [
    "credit.describe()"
   ]
  },
  {
   "cell_type": "markdown",
   "metadata": {},
   "source": [
    "The *credit* DataFrame was created by a credit card company to investigate creditworthiness of existing and potential customers. It has information on 400 customers, most of it either publicly available data or personal information that can be obtained either in the application process or purchased from companies that maintain credit histories. The credit card company wants to build a rating system for those it insures in order that its fees for services are sufficient to maintain its profitability."
   ]
  },
  {
   "cell_type": "code",
   "execution_count": 4,
   "metadata": {},
   "outputs": [
    {
     "name": "stdout",
     "output_type": "stream",
     "text": [
      "              aapl          axp           ba          cat         csco\n",
      "count  1909.000000  1909.000000  1909.000000  1909.000000  1909.000000\n",
      "mean      0.000777     0.000441     0.000868     0.000202     0.000386\n",
      "std       0.015779     0.013673     0.014529     0.016382     0.015247\n",
      "min      -0.131885    -0.128981    -0.093531    -0.096740    -0.152639\n",
      "25%      -0.006934    -0.005809    -0.006628    -0.008045    -0.006280\n",
      "50%       0.000494     0.000689     0.001192     0.000169     0.000334\n",
      "75%       0.009367     0.007375     0.008926     0.008872     0.007626\n",
      "max       0.085022     0.086440     0.094214     0.077950     0.147993\n",
      "                aapl       axp        ba       cat      csco\n",
      "date                                                        \n",
      "2011-01-03  0.005205  0.012593  0.008100 -0.004684  0.001463\n",
      "2011-01-04  0.008147  0.024498  0.008035  0.008607  0.012110\n",
      "2011-01-05 -0.000809 -0.006907  0.019372 -0.010422  0.008629\n",
      "2011-01-06  0.007136 -0.008306  0.008395  0.002029  0.000954\n",
      "2011-01-07  0.018657  0.002252 -0.004189 -0.003634 -0.008621\n"
     ]
    },
    {
     "data": {
      "text/plain": [
       "Index(['aapl', 'axp', 'ba', 'cat', 'csco', 'cvx', 'dwdp', 'dis', 'ge', 'gs',\n",
       "       'hd', 'ibm', 'intc', 'jnj', 'jpm', 'ko', 'mcd', 'mmm', 'mrk', 'msft',\n",
       "       'nke', 'pfe', 'pg', 'trv', 'unh', 'utx', 'v', 'vz', 'wmt', 'xom'],\n",
       "      dtype='object')"
      ]
     },
     "execution_count": 4,
     "metadata": {},
     "output_type": "execute_result"
    }
   ],
   "source": [
    "djia_ret = pd.read_pickle('djia_ret.pkl')\n",
    "print(djia_ret.iloc[:,0:5].describe())\n",
    "print(djia_ret.iloc[:,0:5].head())\n",
    "djia_ret.columns"
   ]
  },
  {
   "cell_type": "markdown",
   "metadata": {},
   "source": [
    "The *djia_ret* DataFrame displays daily returns for the 30 stocks in the *Dow Jones Industrial Average* for the 1909 trading days between 2011-01-03 and 2018-07-27. A **daily return** $r_i$ for the $i$-th day is defined as the logarithmic difference between its closing price on day $i+1$ and day $i$  \n",
    "  \n",
    "<center>$r_i = log(p_{i+1}) - log(p_i) = log \\left(\\frac{p_{i+1}}{p_i} \\right)$. </center>\n",
    "\n",
    "Note that $r_i > 0$ if $p_{i+1} > p_i$ and $r_i < 0$ if $p_{i+1} < p_i$, meaning that if stock price advances the day after day $i$ the return is positive, and if it declines, negative."
   ]
  },
  {
   "cell_type": "markdown",
   "metadata": {},
   "source": [
    "Each row of this DataFrame shows results of prior year advertising for a particular geographic area. Each row has the prior year expenditures for TV, Radio and Newspaper advertising in its area and the actual sales (in thousands of units) for that area. The company wants to use this data to create a budget for next year, and a basic question is: does advertising (apparently) lead to greater sales? What is the relationship?  "
   ]
  },
  {
   "cell_type": "code",
   "execution_count": 5,
   "metadata": {},
   "outputs": [
    {
     "name": "stdout",
     "output_type": "stream",
     "text": [
      "              mpg   cylinders  displacement  horsepower       weight  \\\n",
      "count  392.000000  392.000000    392.000000  392.000000   392.000000   \n",
      "mean    23.445918    5.471939    194.411990  104.469388  2977.584184   \n",
      "std      7.805007    1.705783    104.644004   38.491160   849.402560   \n",
      "min      9.000000    3.000000     68.000000   46.000000  1613.000000   \n",
      "25%     17.000000    4.000000    105.000000   75.000000  2225.250000   \n",
      "50%     22.750000    4.000000    151.000000   93.500000  2803.500000   \n",
      "75%     29.000000    8.000000    275.750000  126.000000  3614.750000   \n",
      "max     46.600000    8.000000    455.000000  230.000000  5140.000000   \n",
      "\n",
      "       acceleration        year      origin  \n",
      "count    392.000000  392.000000  392.000000  \n",
      "mean      15.541327   75.979592    1.576531  \n",
      "std        2.758864    3.683737    0.805518  \n",
      "min        8.000000   70.000000    1.000000  \n",
      "25%       13.775000   73.000000    1.000000  \n",
      "50%       15.500000   76.000000    1.000000  \n",
      "75%       17.025000   79.000000    2.000000  \n",
      "max       24.800000   82.000000    3.000000  \n"
     ]
    },
    {
     "data": {
      "text/html": [
       "<div>\n",
       "<style scoped>\n",
       "    .dataframe tbody tr th:only-of-type {\n",
       "        vertical-align: middle;\n",
       "    }\n",
       "\n",
       "    .dataframe tbody tr th {\n",
       "        vertical-align: top;\n",
       "    }\n",
       "\n",
       "    .dataframe thead th {\n",
       "        text-align: right;\n",
       "    }\n",
       "</style>\n",
       "<table border=\"1\" class=\"dataframe\">\n",
       "  <thead>\n",
       "    <tr style=\"text-align: right;\">\n",
       "      <th></th>\n",
       "      <th>mpg</th>\n",
       "      <th>cylinders</th>\n",
       "      <th>displacement</th>\n",
       "      <th>horsepower</th>\n",
       "      <th>weight</th>\n",
       "      <th>acceleration</th>\n",
       "      <th>year</th>\n",
       "      <th>origin</th>\n",
       "      <th>name</th>\n",
       "    </tr>\n",
       "  </thead>\n",
       "  <tbody>\n",
       "    <tr>\n",
       "      <th>0</th>\n",
       "      <td>18.0</td>\n",
       "      <td>8</td>\n",
       "      <td>307.0</td>\n",
       "      <td>130</td>\n",
       "      <td>3504</td>\n",
       "      <td>12.0</td>\n",
       "      <td>70</td>\n",
       "      <td>1</td>\n",
       "      <td>chevrolet chevelle malibu</td>\n",
       "    </tr>\n",
       "    <tr>\n",
       "      <th>1</th>\n",
       "      <td>15.0</td>\n",
       "      <td>8</td>\n",
       "      <td>350.0</td>\n",
       "      <td>165</td>\n",
       "      <td>3693</td>\n",
       "      <td>11.5</td>\n",
       "      <td>70</td>\n",
       "      <td>1</td>\n",
       "      <td>buick skylark 320</td>\n",
       "    </tr>\n",
       "    <tr>\n",
       "      <th>2</th>\n",
       "      <td>18.0</td>\n",
       "      <td>8</td>\n",
       "      <td>318.0</td>\n",
       "      <td>150</td>\n",
       "      <td>3436</td>\n",
       "      <td>11.0</td>\n",
       "      <td>70</td>\n",
       "      <td>1</td>\n",
       "      <td>plymouth satellite</td>\n",
       "    </tr>\n",
       "    <tr>\n",
       "      <th>3</th>\n",
       "      <td>16.0</td>\n",
       "      <td>8</td>\n",
       "      <td>304.0</td>\n",
       "      <td>150</td>\n",
       "      <td>3433</td>\n",
       "      <td>12.0</td>\n",
       "      <td>70</td>\n",
       "      <td>1</td>\n",
       "      <td>amc rebel sst</td>\n",
       "    </tr>\n",
       "    <tr>\n",
       "      <th>4</th>\n",
       "      <td>17.0</td>\n",
       "      <td>8</td>\n",
       "      <td>302.0</td>\n",
       "      <td>140</td>\n",
       "      <td>3449</td>\n",
       "      <td>10.5</td>\n",
       "      <td>70</td>\n",
       "      <td>1</td>\n",
       "      <td>ford torino</td>\n",
       "    </tr>\n",
       "  </tbody>\n",
       "</table>\n",
       "</div>"
      ],
      "text/plain": [
       "    mpg  cylinders  displacement  horsepower  weight  acceleration  year  \\\n",
       "0  18.0          8         307.0         130    3504          12.0    70   \n",
       "1  15.0          8         350.0         165    3693          11.5    70   \n",
       "2  18.0          8         318.0         150    3436          11.0    70   \n",
       "3  16.0          8         304.0         150    3433          12.0    70   \n",
       "4  17.0          8         302.0         140    3449          10.5    70   \n",
       "\n",
       "   origin                       name  \n",
       "0       1  chevrolet chevelle malibu  \n",
       "1       1          buick skylark 320  \n",
       "2       1         plymouth satellite  \n",
       "3       1              amc rebel sst  \n",
       "4       1                ford torino  "
      ]
     },
     "execution_count": 5,
     "metadata": {},
     "output_type": "execute_result"
    }
   ],
   "source": [
    "auto = pd.read_pickle('./auto.pkl')\n",
    "print(auto.describe())\n",
    "auto.head()"
   ]
  },
  {
   "cell_type": "markdown",
   "metadata": {},
   "source": [
    "The *auto* DataFrame has information on 392 makes of cars manufactured between 1970 and 1982. It is intended as a data set that can illustrate data science analytics.  \n",
    "  \n",
    "The table below describes the meanings of the variables.\n",
    "\n",
    "| Column Name | Description |\n",
    "| --- | --- |\n",
    "| mpg | miles per gallon |\n",
    "| cylinders | Number of cylinders between 4 and 8 |\n",
    "| displacement | Engine displacement (cu. inches) |\n",
    "| horsepower | Engine horsepower |\n",
    "| weight | Vehicle weight (lbs.) |\n",
    "| acceleration | Time to accelerate from 0 to 60 mph (sec.) |\n",
    "| year | Model year (modulo 100) |\n",
    "| origin | Origin of car (1. American, 2. European, 3. Japanese) |\n",
    "| name | Vehicle name |  \n",
    "  \n",
    "Note that in the pandas '.describe()' function, the same statistics were used for all numerical variables and the single text variable ('name') was excluded. But the relevance of some of these statistics is questionable. For example, the mean of the 'origin' variable is 1.576531 and its standard deviation is 0.805518. But a different encoding of origin, say as 1 -> 5, 2 -> -4 and 3 -> 0 would give entirely different statistics without changing any of the data's content.\n"
   ]
  },
  {
   "cell_type": "markdown",
   "metadata": {},
   "source": [
    "### <font color=blue>Questions 6-11 for the **auto** </font>\n",
    "The first five questions (Q1 - Q5) use the auto database"
   ]
  },
  {
   "cell_type": "code",
   "execution_count": 6,
   "metadata": {},
   "outputs": [
    {
     "data": {
      "text/html": [
       "<div>\n",
       "<style scoped>\n",
       "    .dataframe tbody tr th:only-of-type {\n",
       "        vertical-align: middle;\n",
       "    }\n",
       "\n",
       "    .dataframe tbody tr th {\n",
       "        vertical-align: top;\n",
       "    }\n",
       "\n",
       "    .dataframe thead th {\n",
       "        text-align: right;\n",
       "    }\n",
       "</style>\n",
       "<table border=\"1\" class=\"dataframe\">\n",
       "  <thead>\n",
       "    <tr style=\"text-align: right;\">\n",
       "      <th></th>\n",
       "      <th>count</th>\n",
       "      <th>mean</th>\n",
       "      <th>std</th>\n",
       "      <th>min</th>\n",
       "      <th>25%</th>\n",
       "      <th>50%</th>\n",
       "      <th>75%</th>\n",
       "      <th>max</th>\n",
       "    </tr>\n",
       "    <tr>\n",
       "      <th>origin</th>\n",
       "      <th></th>\n",
       "      <th></th>\n",
       "      <th></th>\n",
       "      <th></th>\n",
       "      <th></th>\n",
       "      <th></th>\n",
       "      <th></th>\n",
       "      <th></th>\n",
       "    </tr>\n",
       "  </thead>\n",
       "  <tbody>\n",
       "    <tr>\n",
       "      <th>1</th>\n",
       "      <td>245.0</td>\n",
       "      <td>20.033469</td>\n",
       "      <td>6.440384</td>\n",
       "      <td>9.0</td>\n",
       "      <td>15.00</td>\n",
       "      <td>18.5</td>\n",
       "      <td>24.000</td>\n",
       "      <td>39.0</td>\n",
       "    </tr>\n",
       "    <tr>\n",
       "      <th>2</th>\n",
       "      <td>68.0</td>\n",
       "      <td>27.602941</td>\n",
       "      <td>6.580182</td>\n",
       "      <td>16.2</td>\n",
       "      <td>23.75</td>\n",
       "      <td>26.0</td>\n",
       "      <td>30.125</td>\n",
       "      <td>44.3</td>\n",
       "    </tr>\n",
       "    <tr>\n",
       "      <th>3</th>\n",
       "      <td>79.0</td>\n",
       "      <td>30.450633</td>\n",
       "      <td>6.090048</td>\n",
       "      <td>18.0</td>\n",
       "      <td>25.70</td>\n",
       "      <td>31.6</td>\n",
       "      <td>34.050</td>\n",
       "      <td>46.6</td>\n",
       "    </tr>\n",
       "  </tbody>\n",
       "</table>\n",
       "</div>"
      ],
      "text/plain": [
       "        count       mean       std   min    25%   50%     75%   max\n",
       "origin                                                             \n",
       "1       245.0  20.033469  6.440384   9.0  15.00  18.5  24.000  39.0\n",
       "2        68.0  27.602941  6.580182  16.2  23.75  26.0  30.125  44.3\n",
       "3        79.0  30.450633  6.090048  18.0  25.70  31.6  34.050  46.6"
      ]
     },
     "execution_count": 6,
     "metadata": {},
     "output_type": "execute_result"
    }
   ],
   "source": [
    "# Question 1 (1 point): Produce a table using .describe() for  'mpg' \n",
    "#                       by the auto's 'origin'.\n",
    "#print(auto.loc[:,'mpg'].describe())\n",
    "auto.groupby('origin')['mpg'].describe()"
   ]
  },
  {
   "cell_type": "code",
   "execution_count": 7,
   "metadata": {},
   "outputs": [
    {
     "data": {
      "text/plain": [
       "<matplotlib.axes._subplots.AxesSubplot at 0xef362f5dd8>"
      ]
     },
     "execution_count": 7,
     "metadata": {},
     "output_type": "execute_result"
    },
    {
     "data": {
      "image/png": "[encoded data removed]",
      "text/plain": [
       "<Figure size 432x288 with 1 Axes>"
      ]
     },
     "metadata": {},
     "output_type": "display_data"
    }
   ],
   "source": [
    "# Question 2 (1 point). Produce boxplots of 'mpg' by 'cylinders'\n",
    "#plt.boxplot(cylinders.mpg)\n",
    "sns.set(style='ticks' , palette='pastel')\n",
    "sns.boxplot(x='cylinders' , y='mpg', data = auto)"
   ]
  },
  {
   "cell_type": "code",
   "execution_count": 8,
   "metadata": {},
   "outputs": [
    {
     "data": {
      "text/plain": [
       "<matplotlib.axes._subplots.AxesSubplot at 0xef3272d748>"
      ]
     },
     "execution_count": 8,
     "metadata": {},
     "output_type": "execute_result"
    },
    {
     "data": {
      "image/png": "[encoded data removed]",
      "text/plain": [
       "<Figure size 432x288 with 1 Axes>"
      ]
     },
     "metadata": {},
     "output_type": "display_data"
    }
   ],
   "source": [
    "# Question 3 (1 point): Produce violin plots of 'mpg' by 'cylinders'\n",
    "sns.violinplot(x='cylinders',y='mpg',data=auto)"
   ]
  },
  {
   "cell_type": "code",
   "execution_count": 9,
   "metadata": {},
   "outputs": [
    {
     "data": {
      "image/png": "[encoded data removed]",
      "text/plain": [
       "<Figure size 432x288 with 1 Axes>"
      ]
     },
     "metadata": {},
     "output_type": "display_data"
    }
   ],
   "source": [
    "# Question 4 (1 point): Produce a scatter plot of y='mpg' by x = 'weight'\n",
    "x=auto.weight\n",
    "y=auto.mpg\n",
    "plt.xlabel('weight')\n",
    "plt.ylabel('mpg')\n",
    "plt.scatter(x,y,c='green',alpha=0.5,marker='s')\n",
    "plt.legend(numpoints=1)\n",
    "plt.show()"
   ]
  },
  {
   "cell_type": "code",
   "execution_count": 10,
   "metadata": {},
   "outputs": [],
   "source": [
    "# Question 5 (1 point): Does the relationship of mpg to weight in the answer to \n",
    "#                       Question 4 seem to be linear? (a straighe line relationship)\n",
    "# Answer in English in this box with comments ('#''s at the beginning of each line)\n",
    "# No, it's not linear. It's curve."
   ]
  },
  {
   "cell_type": "markdown",
   "metadata": {},
   "source": [
    "### <font color=blue>Questions 6-11 for the **djia_ret** TimeSeries</font>"
   ]
  },
  {
   "cell_type": "code",
   "execution_count": 11,
   "metadata": {},
   "outputs": [
    {
     "data": {
      "text/html": [
       "<div>\n",
       "<style scoped>\n",
       "    .dataframe tbody tr th:only-of-type {\n",
       "        vertical-align: middle;\n",
       "    }\n",
       "\n",
       "    .dataframe tbody tr th {\n",
       "        vertical-align: top;\n",
       "    }\n",
       "\n",
       "    .dataframe thead th {\n",
       "        text-align: right;\n",
       "    }\n",
       "</style>\n",
       "<table border=\"1\" class=\"dataframe\">\n",
       "  <thead>\n",
       "    <tr style=\"text-align: right;\">\n",
       "      <th></th>\n",
       "      <th>aapl</th>\n",
       "      <th>axp</th>\n",
       "      <th>ba</th>\n",
       "      <th>cat</th>\n",
       "      <th>csco</th>\n",
       "    </tr>\n",
       "  </thead>\n",
       "  <tbody>\n",
       "    <tr>\n",
       "      <th>aapl</th>\n",
       "      <td>1.000000</td>\n",
       "      <td>0.278670</td>\n",
       "      <td>0.261643</td>\n",
       "      <td>0.283551</td>\n",
       "      <td>0.257307</td>\n",
       "    </tr>\n",
       "    <tr>\n",
       "      <th>axp</th>\n",
       "      <td>0.278670</td>\n",
       "      <td>1.000000</td>\n",
       "      <td>0.498734</td>\n",
       "      <td>0.500906</td>\n",
       "      <td>0.391468</td>\n",
       "    </tr>\n",
       "    <tr>\n",
       "      <th>ba</th>\n",
       "      <td>0.261643</td>\n",
       "      <td>0.498734</td>\n",
       "      <td>1.000000</td>\n",
       "      <td>0.536886</td>\n",
       "      <td>0.403644</td>\n",
       "    </tr>\n",
       "    <tr>\n",
       "      <th>cat</th>\n",
       "      <td>0.283551</td>\n",
       "      <td>0.500906</td>\n",
       "      <td>0.536886</td>\n",
       "      <td>1.000000</td>\n",
       "      <td>0.441385</td>\n",
       "    </tr>\n",
       "    <tr>\n",
       "      <th>csco</th>\n",
       "      <td>0.257307</td>\n",
       "      <td>0.391468</td>\n",
       "      <td>0.403644</td>\n",
       "      <td>0.441385</td>\n",
       "      <td>1.000000</td>\n",
       "    </tr>\n",
       "  </tbody>\n",
       "</table>\n",
       "</div>"
      ],
      "text/plain": [
       "          aapl       axp        ba       cat      csco\n",
       "aapl  1.000000  0.278670  0.261643  0.283551  0.257307\n",
       "axp   0.278670  1.000000  0.498734  0.500906  0.391468\n",
       "ba    0.261643  0.498734  1.000000  0.536886  0.403644\n",
       "cat   0.283551  0.500906  0.536886  1.000000  0.441385\n",
       "csco  0.257307  0.391468  0.403644  0.441385  1.000000"
      ]
     },
     "execution_count": 11,
     "metadata": {},
     "output_type": "execute_result"
    }
   ],
   "source": [
    "# Question 6 (1 point): Display the correlation matrix for the first 5 \n",
    "#                       variables of *djia_ret*\n",
    "djia_ret.iloc[:,0:5].corr()"
   ]
  },
  {
   "cell_type": "code",
   "execution_count": 12,
   "metadata": {
    "scrolled": true
   },
   "outputs": [
    {
     "data": {
      "text/plain": [
       "<matplotlib.axes._subplots.AxesSubplot at 0xef37772630>"
      ]
     },
     "execution_count": 12,
     "metadata": {},
     "output_type": "execute_result"
    },
    {
     "data": {
      "image/png": "[encoded data removed]",
      "text/plain": [
       "<Figure size 432x288 with 2 Axes>"
      ]
     },
     "metadata": {},
     "output_type": "display_data"
    }
   ],
   "source": [
    "# Question 7 (1 point): Produce a heatmap for the first 10 stocks of \n",
    "#                       the TimeSeries of *djia_ret*\n",
    "# USE cmap = 'viridis'\n",
    "djia_corr=djia_ret.iloc[:,0:10].corr()\n",
    "mask = np.zeros_like(djia_corr, dtype=np.bool)\n",
    "mask[np.triu_indices_from(mask)] = True\n",
    "f, ax = plt.subplots(figsize=(6, 4))\n",
    "#cmap = 'viridis'\n",
    "#cmap = sns.diverging_palette(220, 10, as_cmap=True)\n",
    "sns.heatmap(djia_corr, mask=mask, cmap = 'viridis', vmax=1, vmin=0, square=True, linewidths=.5, cbar_kws={\"shrink\":.5})"
   ]
  },
  {
   "cell_type": "code",
   "execution_count": 25,
   "metadata": {},
   "outputs": [],
   "source": [
    "# Question 8 (1 points): In Question 8, what do you think about the color map?\n",
    "#                       Could it be improved. Answer in this cell using English \n",
    "#                       and comment ('#') lines\n",
    "# I think the color map can't show the correlation well, because these colors are too close and they can't tell the differences.\n",
    "# if we change the cmap to another color, then the map seems better."
   ]
  },
  {
   "cell_type": "code",
   "execution_count": 14,
   "metadata": {},
   "outputs": [
    {
     "data": {
      "text/plain": [
       "[0.0007077064268951866,\n",
       " 0.00031238870156835574,\n",
       " 0.0142481262489763,\n",
       " 0.009943370721826826,\n",
       " -0.09935978674629849,\n",
       " 7.944967034379386]"
      ]
     },
     "execution_count": 14,
     "metadata": {},
     "output_type": "execute_result"
    }
   ],
   "source": [
    "# Question 9 (2 point): For the stock 'msft', display the (1) mean, (2) median, \n",
    "#                       (3) standard deviation, (4) MAD, (5) skewness,  \n",
    "#                       and (6) kurtotis.\n",
    "[djia_ret['msft'].mean(),\n",
    " djia_ret['msft'].median(),\n",
    " djia_ret['msft'].std(),\n",
    " djia_ret['msft'].mad(),\n",
    " djia_ret['msft'].skew(),\n",
    " djia_ret['msft'].kurt()]"
   ]
  },
  {
   "cell_type": "code",
   "execution_count": 27,
   "metadata": {},
   "outputs": [
    {
     "name": "stdout",
     "output_type": "stream",
     "text": [
      "0.014472667581663323\n"
     ]
    }
   ],
   "source": [
    "#Question 10 (1 point) Display the IQR without using the .describe() method.\n",
    "q75, q25 = np.percentile(djia_ret['msft'],[75 , 25])\n",
    "iqr = q75 -q25\n",
    "print(iqr)\n",
    "#print(djia_ret['msft'].describe())\n",
    "#print(0.007887+0.006585)"
   ]
  },
  {
   "cell_type": "code",
   "execution_count": 16,
   "metadata": {},
   "outputs": [
    {
     "name": "stdout",
     "output_type": "stream",
     "text": [
      "          jpm        gs\n",
      "jpm  0.000251  0.000211\n",
      "gs   0.000211  0.000259\n",
      "\n",
      "\n",
      "          jpm        gs\n",
      "jpm  1.000000  0.827209\n",
      "gs   0.827209  1.000000\n",
      "\n",
      "\n",
      "SpearmanrResult(correlation=0.784800622094147, pvalue=0.0)\n",
      "\n",
      "\n",
      "KendalltauResult(correlation=0.6036896132026863, pvalue=0.0)\n"
     ]
    }
   ],
   "source": [
    "# Question 11 (2 points): For the stocks 'jpm' and 'gs', display the (1) covariance, \n",
    "#                        (2) correlation, (3) spearman rank correlation and \n",
    "#                        (4) Kendall's tau\n",
    "jpm_gs = djia_ret[['jpm','gs']]\n",
    "print(jpm_gs.cov())\n",
    "print('\\n')\n",
    "print(jpm_gs.corr())\n",
    "print('\\n')\n",
    "import scipy.stats as stats\n",
    "print(stats.spearmanr(jpm_gs['jpm'],jpm_gs['gs']))\n",
    "print('\\n')\n",
    "print(stats.kendalltau(jpm_gs['jpm'],jpm_gs['gs']))"
   ]
  },
  {
   "cell_type": "markdown",
   "metadata": {},
   "source": [
    "### <font color=blue>Questions 12-15 for the 'credit' DataFrame</font>"
   ]
  },
  {
   "cell_type": "code",
   "execution_count": 31,
   "metadata": {
    "scrolled": false
   },
   "outputs": [
    {
     "name": "stdout",
     "output_type": "stream",
     "text": [
      "[138.  45.  53.  47.  48.  32.  21.  11.   3.   2.]\n",
      "[   0.   199.9  399.8  599.7  799.6  999.5 1199.4 1399.3 1599.2 1799.1\n",
      " 1999. ]\n"
     ]
    },
    {
     "data": {
      "image/png": "[encoded data removed]",
      "text/plain": [
       "<Figure size 432x288 with 1 Axes>"
      ]
     },
     "metadata": {},
     "output_type": "display_data"
    }
   ],
   "source": [
    "# Question 12 (1 point): Display a histogram for 'Balance' and print using \n",
    "#                        output 'n, bins, patches', print the number in each\n",
    "#                        bin and the cutpoints for each bin.\n",
    "n, bins, patches = plt.hist(x=credit.Balance, rwidth=0.9, color='#8ec26a') \n",
    "print(n)\n",
    "print(bins)"
   ]
  },
  {
   "cell_type": "code",
   "execution_count": 18,
   "metadata": {},
   "outputs": [],
   "source": [
    "# Question 13 (1 point): Using the result from   Question 12, answer using \n",
    "#                        comments below in this cell\n",
    "#\n",
    "# Q1: Is the data right or left skewed?\n",
    "# Right skewed\n",
    "\n",
    "# Q2: How many are in the leftmost bin?\n",
    "# 138\n",
    "\n",
    "# Q3: What range of Balances define the leftmost bin?\n",
    "# 0-199.9"
   ]
  },
  {
   "cell_type": "code",
   "execution_count": 19,
   "metadata": {},
   "outputs": [
    {
     "data": {
      "text/plain": [
       "<matplotlib.axes._subplots.AxesSubplot at 0xef388e82b0>"
      ]
     },
     "execution_count": 19,
     "metadata": {},
     "output_type": "execute_result"
    },
    {
     "data": {
      "image/png": "[encoded data removed]",
      "text/plain": [
       "<Figure size 432x288 with 1 Axes>"
      ]
     },
     "metadata": {},
     "output_type": "display_data"
    }
   ],
   "source": [
    "# Question 14 (2 points): Produce a boxplot for 'Income' by 'Gender'\n",
    "#                         Insert a markdown cell after this one and\n",
    "#                         answer these questions:\n",
    "sns.set(style='ticks' , palette='pastel')\n",
    "sns.boxplot(x='Gender' , y='Income', data = credit)\n",
    "\n",
    "# Q1: Do you see a Gender related difference in income?\n",
    "# Male's incomes are in a wider and higher range than female's.\n",
    "\n",
    "# Q2: What additional information would you ask about this sample?\n",
    "# How many females and males are accounted in the sample and are their from the same company or industry?"
   ]
  },
  {
   "cell_type": "code",
   "execution_count": 22,
   "metadata": {},
   "outputs": [
    {
     "data": {
      "image/png": "[encoded data removed]",
      "text/plain": [
       "<Figure size 432x288 with 1 Axes>"
      ]
     },
     "metadata": {},
     "output_type": "display_data"
    }
   ],
   "source": [
    "# Question 15 (1 point): Produce a scatter plot of y = 'Rating' vs x = 'Income'\n",
    "x=credit.Income\n",
    "y=credit.Rating\n",
    "plt.xlabel('Income')\n",
    "plt.ylabel('Rating')\n",
    "plt.scatter(x,y,c='green',alpha=0.5,marker='s')\n",
    "plt.legend(loc=2)\n",
    "plt.show()                      \n",
    "# Insert a cell below and answer: Do you see evidence of a relationship\n",
    "#                                 between Rating and Income?"
   ]
  },
  {
   "cell_type": "code",
   "execution_count": 21,
   "metadata": {},
   "outputs": [],
   "source": [
    "# Yes, it is linear and the higher the income, the higher the rating."
   ]
  }
 ],
 "metadata": {
  "kernelspec": {
   "display_name": "Python 3",
   "language": "python",
   "name": "python3"
  },
  "language_info": {
   "codemirror_mode": {
    "name": "ipython",
    "version": 3
   },
   "file_extension": ".py",
   "mimetype": "text/x-python",
   "name": "python",
   "nbconvert_exporter": "python",
   "pygments_lexer": "ipython3",
   "version": "3.6.5"
  }
 },
 "nbformat": 4,
 "nbformat_minor": 2
}
